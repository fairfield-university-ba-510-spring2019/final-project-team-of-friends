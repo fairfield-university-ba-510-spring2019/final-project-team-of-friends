{
 "cells": [
  {
   "cell_type": "markdown",
   "metadata": {},
   "source": [
    "## Loading sql and the Data Warehouse"
   ]
  },
  {
   "cell_type": "code",
   "execution_count": 1,
   "metadata": {},
   "outputs": [
    {
     "data": {
      "text/plain": [
       "'Connected: @CourseDataWarehouse.db'"
      ]
     },
     "execution_count": 1,
     "metadata": {},
     "output_type": "execute_result"
    }
   ],
   "source": [
    "%load_ext sql\n",
    "%sql sqlite:///CourseDataWarehouse.db"
   ]
  },
  {
   "cell_type": "markdown",
   "metadata": {},
   "source": [
    "### Using SQL's 'attach' function to import the original CourseData.db to this notebook"
   ]
  },
  {
   "cell_type": "code",
   "execution_count": 2,
   "metadata": {},
   "outputs": [
    {
     "name": "stdout",
     "output_type": "stream",
     "text": [
      " * sqlite:///CourseDataWarehouse.db\n",
      "Done.\n"
     ]
    },
    {
     "data": {
      "text/plain": [
       "[]"
      ]
     },
     "execution_count": 2,
     "metadata": {},
     "output_type": "execute_result"
    }
   ],
   "source": [
    "%%sql\n",
    "attach \"CourseData.db\" as reldb"
   ]
  },
  {
   "cell_type": "markdown",
   "metadata": {},
   "source": [
    "### Dropping tables to avoid duplicates"
   ]
  },
  {
   "cell_type": "code",
   "execution_count": 3,
   "metadata": {},
   "outputs": [
    {
     "name": "stdout",
     "output_type": "stream",
     "text": [
      " * sqlite:///CourseDataWarehouse.db\n",
      "Done.\n",
      "Done.\n",
      "Done.\n",
      "Done.\n",
      "Done.\n",
      "Done.\n"
     ]
    },
    {
     "data": {
      "text/plain": [
       "[]"
      ]
     },
     "execution_count": 3,
     "metadata": {},
     "output_type": "execute_result"
    }
   ],
   "source": [
    "%%sql \n",
    "DROP TABLE IF EXISTS PROGRAMS_WH;\n",
    "DROP TABLE IF EXISTS LOCATIONS_WH;\n",
    "DROP TABLE IF EXISTS TIMES_WH;\n",
    "DROP TABLE IF EXISTS FACULTY_WH;\n",
    "DROP TABLE IF EXISTS CATALOGS_WH;\n",
    "DROP TABLE IF EXISTS COURSES_WH;"
   ]
  },
  {
   "cell_type": "markdown",
   "metadata": {},
   "source": [
    "## Creating the Dimension tables for the Star Schema"
   ]
  },
  {
   "cell_type": "code",
   "execution_count": 4,
   "metadata": {},
   "outputs": [
    {
     "name": "stdout",
     "output_type": "stream",
     "text": [
      " * sqlite:///CourseDataWarehouse.db\n",
      "Done.\n"
     ]
    },
    {
     "data": {
      "text/plain": [
       "[]"
      ]
     },
     "execution_count": 4,
     "metadata": {},
     "output_type": "execute_result"
    }
   ],
   "source": [
    "%%sql\n",
    "CREATE TABLE PROGRAMS_WH (\n",
    "    PID INTEGER NOT NULL PRIMARY KEY,\n",
    "    program_name TEXT NOT NULL,\n",
    "    program_code VARCHAR NOT NULL\n",
    ");"
   ]
  },
  {
   "cell_type": "code",
   "execution_count": 5,
   "metadata": {},
   "outputs": [
    {
     "name": "stdout",
     "output_type": "stream",
     "text": [
      " * sqlite:///CourseDataWarehouse.db\n",
      "Done.\n"
     ]
    },
    {
     "data": {
      "text/plain": [
       "[]"
      ]
     },
     "execution_count": 5,
     "metadata": {},
     "output_type": "execute_result"
    }
   ],
   "source": [
    "%%sql\n",
    "CREATE TABLE LOCATIONS_WH (\n",
    "    LID INTEGER PRIMARY KEY,\n",
    "    location VARCHAR\n",
    ");"
   ]
  },
  {
   "cell_type": "code",
   "execution_count": 6,
   "metadata": {},
   "outputs": [
    {
     "name": "stdout",
     "output_type": "stream",
     "text": [
      " * sqlite:///CourseDataWarehouse.db\n",
      "Done.\n"
     ]
    },
    {
     "data": {
      "text/plain": [
       "[]"
      ]
     },
     "execution_count": 6,
     "metadata": {},
     "output_type": "execute_result"
    }
   ],
   "source": [
    "%%sql \n",
    "CREATE TABLE FACULTY_WH (\n",
    "    FID  INTEGER NOT NULL PRIMARY KEY,\n",
    "    FName TEXT NOT NULL\n",
    ");"
   ]
  },
  {
   "cell_type": "code",
   "execution_count": 7,
   "metadata": {},
   "outputs": [
    {
     "name": "stdout",
     "output_type": "stream",
     "text": [
      " * sqlite:///CourseDataWarehouse.db\n",
      "Done.\n"
     ]
    },
    {
     "data": {
      "text/plain": [
       "[]"
      ]
     },
     "execution_count": 7,
     "metadata": {},
     "output_type": "execute_result"
    }
   ],
   "source": [
    "%%sql\n",
    "CREATE TABLE CATALOGS_WH (\n",
    "    CatID INTEGER PRIMARY KEY,\n",
    "    CourseCode VARCHAR NOT NULL,\n",
    "    Credits TEXT NOT NULL,\n",
    "    Prereqs TEXT,\n",
    "    Coreqs TEXT,\n",
    "    Fees INTEGER,\n",
    "    Description TEXT,\n",
    "    Attributes TEXT\n",
    ");"
   ]
  },
  {
   "cell_type": "markdown",
   "metadata": {},
   "source": [
    "### Creating the fact table of the Star Schema (COURSES)"
   ]
  },
  {
   "cell_type": "code",
   "execution_count": 8,
   "metadata": {},
   "outputs": [
    {
     "name": "stdout",
     "output_type": "stream",
     "text": [
      " * sqlite:///CourseDataWarehouse.db\n",
      "Done.\n"
     ]
    },
    {
     "data": {
      "text/plain": [
       "[]"
      ]
     },
     "execution_count": 8,
     "metadata": {},
     "output_type": "execute_result"
    }
   ],
   "source": [
    "%%sql\n",
    "CREATE TABLE COURSES_WH (\n",
    "    CID INTEGER PRIMARY KEY,\n",
    "    CRN INTEGER NOT NULL,\n",
    "    term TEXT NOT NULL,\n",
    "    Title TEXT NOT NULL,\n",
    "    Section VARCHAR NOT NULL,\n",
    "    Act INTEGER,\n",
    "    Cap INTEGER,\n",
    "    Rem INTEGER, \n",
    "    timecodes TEXT,\n",
    "    PID INTEGER NOT NULL,\n",
    "    LID INTEGER NOT NULL,\n",
    "    FID INTEGER NOT NULL,\n",
    "    CatID INTEGER NOT NULL,\n",
    "    FOREIGN KEY (PID) REFERENCES PROGRAMS_WH (PID),\n",
    "    FOREIGN KEY (LID) REFERENCES LOCATIONS_WH (LID),\n",
    "    FOREIGN KEY (FID) REFERENCES FACULTY_WH (FID),\n",
    "    FOREIGN KEY (CatID) REFERENCES CATALOGS_WH (CatID)\n",
    ");"
   ]
  },
  {
   "cell_type": "markdown",
   "metadata": {},
   "source": [
    "### Inserting the data into the Warehouse tables using the CourseData.db proxy table 'reldb'"
   ]
  },
  {
   "cell_type": "code",
   "execution_count": 9,
   "metadata": {},
   "outputs": [
    {
     "name": "stdout",
     "output_type": "stream",
     "text": [
      " * sqlite:///CourseDataWarehouse.db\n",
      "83 rows affected.\n"
     ]
    },
    {
     "data": {
      "text/plain": [
       "[]"
      ]
     },
     "execution_count": 9,
     "metadata": {},
     "output_type": "execute_result"
    }
   ],
   "source": [
    "%%sql\n",
    "\n",
    "INSERT INTO PROGRAMS_WH (program_name, program_code)\n",
    "SELECT DISTINCT program_name, program_code\n",
    "FROM reldb.PROGRAMS;"
   ]
  },
  {
   "cell_type": "code",
   "execution_count": 10,
   "metadata": {},
   "outputs": [
    {
     "name": "stdout",
     "output_type": "stream",
     "text": [
      " * sqlite:///CourseDataWarehouse.db\n",
      "201 rows affected.\n"
     ]
    },
    {
     "data": {
      "text/plain": [
       "[]"
      ]
     },
     "execution_count": 10,
     "metadata": {},
     "output_type": "execute_result"
    }
   ],
   "source": [
    "%%sql\n",
    "\n",
    "INSERT INTO LOCATIONS_WH (location)\n",
    "SELECT DISTINCT location\n",
    "FROM reldb.COURSE_MEETINGS;"
   ]
  },
  {
   "cell_type": "code",
   "execution_count": 11,
   "metadata": {},
   "outputs": [
    {
     "name": "stdout",
     "output_type": "stream",
     "text": [
      " * sqlite:///CourseDataWarehouse.db\n",
      "1104 rows affected.\n"
     ]
    },
    {
     "data": {
      "text/plain": [
       "[]"
      ]
     },
     "execution_count": 11,
     "metadata": {},
     "output_type": "execute_result"
    }
   ],
   "source": [
    "%%sql\n",
    "\n",
    "INSERT INTO FACULTY_WH (FName)\n",
    "SELECT DISTINCT FName\n",
    "FROM reldb.FACULTY;"
   ]
  },
  {
   "cell_type": "code",
   "execution_count": 12,
   "metadata": {},
   "outputs": [
    {
     "name": "stdout",
     "output_type": "stream",
     "text": [
      " * sqlite:///CourseDataWarehouse.db\n",
      "2220 rows affected.\n"
     ]
    },
    {
     "data": {
      "text/plain": [
       "[]"
      ]
     },
     "execution_count": 12,
     "metadata": {},
     "output_type": "execute_result"
    }
   ],
   "source": [
    "%%sql\n",
    "\n",
    "INSERT INTO CATALOGS_WH (CourseCode, credits, Prereqs, Coreqs, Fees, Description, Attributes)\n",
    "SELECT DISTINCT CourseCode, credits, prereqs, coreqs, fees, description, attributes\n",
    "FROM reldb.CATALOGS;"
   ]
  },
  {
   "cell_type": "code",
   "execution_count": 16,
   "metadata": {},
   "outputs": [
    {
     "name": "stdout",
     "output_type": "stream",
     "text": [
      " * sqlite:///CourseDataWarehouse.db\n",
      "17886 rows affected.\n"
     ]
    },
    {
     "data": {
      "text/plain": [
       "[]"
      ]
     },
     "execution_count": 16,
     "metadata": {},
     "output_type": "execute_result"
    }
   ],
   "source": [
    "%%sql\n",
    "\n",
    "INSERT INTO COURSES_WH (CRN, term, Title, Section, Act, Cap, Rem, timecodes, PID, LID, FID, CatID)\n",
    "SELECT DISTINCT CRN, reldb.COURSES.term, title, section, act, cap, rem, timecodes, PID, LID, FID, CatID\n",
    "FROM reldb.COURSES\n",
    "    JOIN reldb.CATALOGS USING (CourseCode)\n",
    "    JOIN PROGRAMS_WH USING (PID)\n",
    "    JOIN reldb.COURSE_MEETINGS USING (CRN)\n",
    "    JOIN LOCATIONS_WH USING (location)\n",
    "    JOIN FACULTY_WH USING (FID)\n",
    "    JOIN CATALOGS_WH USING (CatID);"
   ]
  },
  {
   "cell_type": "code",
   "execution_count": 17,
   "metadata": {},
   "outputs": [
    {
     "name": "stdout",
     "output_type": "stream",
     "text": [
      " * sqlite:///CourseDataWarehouse.db\n",
      "Done.\n"
     ]
    },
    {
     "data": {
      "text/html": [
       "<table>\n",
       "    <tr>\n",
       "        <th>CRN</th>\n",
       "        <th>Title</th>\n",
       "        <th>program_name</th>\n",
       "        <th>location</th>\n",
       "        <th>FName</th>\n",
       "        <th>CourseCode</th>\n",
       "        <th>timecodes</th>\n",
       "    </tr>\n",
       "    <tr>\n",
       "        <td>34130</td>\n",
       "        <td>Independent Study</td>\n",
       "        <td>Asian Studies</td>\n",
       "        <td>DSB 112</td>\n",
       "        <td>Danke   Li</td>\n",
       "        <td>AN 0301</td>\n",
       "        <td>[]</td>\n",
       "    </tr>\n",
       "    <tr>\n",
       "        <td>73018</td>\n",
       "        <td>Independent Study</td>\n",
       "        <td>Asian Studies</td>\n",
       "        <td>CNS 303</td>\n",
       "        <td>Jiwei   Xiao</td>\n",
       "        <td>AN 0301</td>\n",
       "        <td>[]</td>\n",
       "    </tr>\n",
       "    <tr>\n",
       "        <td>34010</td>\n",
       "        <td>Asian Studies Seminar</td>\n",
       "        <td>Asian Studies</td>\n",
       "        <td>CNS 208</td>\n",
       "        <td>Jiwei   Xiao</td>\n",
       "        <td>AN 0310</td>\n",
       "        <td>[&#x27;W 0630pm-0900pm 01/20-04/30 CNS 305&#x27;]</td>\n",
       "    </tr>\n",
       "    <tr>\n",
       "        <td>34010</td>\n",
       "        <td>Asian Studies Seminar</td>\n",
       "        <td>Asian Studies</td>\n",
       "        <td>CNS 305</td>\n",
       "        <td>Jiwei   Xiao</td>\n",
       "        <td>AN 0310</td>\n",
       "        <td>[&#x27;W 0630pm-0900pm 01/20-04/30 CNS 305&#x27;]</td>\n",
       "    </tr>\n",
       "    <tr>\n",
       "        <td>71367</td>\n",
       "        <td>Asian Studies Seminar</td>\n",
       "        <td>Asian Studies</td>\n",
       "        <td>CNS 2</td>\n",
       "        <td>Danke   Li</td>\n",
       "        <td>AN 0310</td>\n",
       "        <td>[]</td>\n",
       "    </tr>\n",
       "    <tr>\n",
       "        <td>10911</td>\n",
       "        <td>Legal Environment of Business</td>\n",
       "        <td>Business</td>\n",
       "        <td>DSB 109</td>\n",
       "        <td>Sharlene A.  McEvoy</td>\n",
       "        <td>BU 0211</td>\n",
       "        <td>[&#x27;MTWRF 0830am-0430pm 01/05-01/09 DSB 109&#x27;]</td>\n",
       "    </tr>\n",
       "    <tr>\n",
       "        <td>11614</td>\n",
       "        <td>Legal Environment of Business</td>\n",
       "        <td>Business</td>\n",
       "        <td>DSB 109</td>\n",
       "        <td>Sharlene A.  McEvoy</td>\n",
       "        <td>BU 0211</td>\n",
       "        <td>[&#x27;MTWRF 0830am-0430pm 01/06-01/12 DSB 109&#x27;]</td>\n",
       "    </tr>\n",
       "    <tr>\n",
       "        <td>11701</td>\n",
       "        <td>Legal Environment of Business</td>\n",
       "        <td>Business</td>\n",
       "        <td>DSB 109</td>\n",
       "        <td>Sharlene A.  McEvoy</td>\n",
       "        <td>BU 0211</td>\n",
       "        <td>[&#x27;MTWRF 0830am-0430pm 01/04-01/10 DSB 109&#x27;]</td>\n",
       "    </tr>\n",
       "    <tr>\n",
       "        <td>11801</td>\n",
       "        <td>Legal Environment of Business</td>\n",
       "        <td>Business</td>\n",
       "        <td>DSB 109</td>\n",
       "        <td>Sharlene A.  McEvoy</td>\n",
       "        <td>BU 0211</td>\n",
       "        <td>[&#x27;MTWRF 0830am-0430pm 01/04-01/10 DSB 109&#x27;]</td>\n",
       "    </tr>\n",
       "    <tr>\n",
       "        <td>31178</td>\n",
       "        <td>Legal Environment of Business</td>\n",
       "        <td>Business</td>\n",
       "        <td>DSB 108</td>\n",
       "        <td>Sharlene A.  McEvoy</td>\n",
       "        <td>BU 0211</td>\n",
       "        <td>[&#x27;T 0630pm-0900pm 01/17-05/02 DSB 108&#x27;]</td>\n",
       "    </tr>\n",
       "</table>"
      ],
      "text/plain": [
       "[(34130, 'Independent Study', 'Asian Studies', 'DSB 112', 'Danke   Li', 'AN 0301', '[]'),\n",
       " (73018, 'Independent Study', 'Asian Studies', 'CNS 303', 'Jiwei   Xiao', 'AN 0301', '[]'),\n",
       " (34010, 'Asian Studies Seminar', 'Asian Studies', 'CNS 208', 'Jiwei   Xiao', 'AN 0310', \"['W 0630pm-0900pm 01/20-04/30 CNS 305']\"),\n",
       " (34010, 'Asian Studies Seminar', 'Asian Studies', 'CNS 305', 'Jiwei   Xiao', 'AN 0310', \"['W 0630pm-0900pm 01/20-04/30 CNS 305']\"),\n",
       " (71367, 'Asian Studies Seminar', 'Asian Studies', 'CNS 2', 'Danke   Li', 'AN 0310', '[]'),\n",
       " (10911, 'Legal Environment of Business', 'Business', 'DSB 109', 'Sharlene A.  McEvoy', 'BU 0211', \"['MTWRF 0830am-0430pm 01/05-01/09 DSB 109']\"),\n",
       " (11614, 'Legal Environment of Business', 'Business', 'DSB 109', 'Sharlene A.  McEvoy', 'BU 0211', \"['MTWRF 0830am-0430pm 01/06-01/12 DSB 109']\"),\n",
       " (11701, 'Legal Environment of Business', 'Business', 'DSB 109', 'Sharlene A.  McEvoy', 'BU 0211', \"['MTWRF 0830am-0430pm 01/04-01/10 DSB 109']\"),\n",
       " (11801, 'Legal Environment of Business', 'Business', 'DSB 109', 'Sharlene A.  McEvoy', 'BU 0211', \"['MTWRF 0830am-0430pm 01/04-01/10 DSB 109']\"),\n",
       " (31178, 'Legal Environment of Business', 'Business', 'DSB 108', 'Sharlene A.  McEvoy', 'BU 0211', \"['T 0630pm-0900pm 01/17-05/02 DSB 108']\")]"
      ]
     },
     "execution_count": 17,
     "metadata": {},
     "output_type": "execute_result"
    }
   ],
   "source": [
    "%%sql\n",
    "\n",
    "SELECT CRN, Title, program_name, location, FName, CourseCode, timecodes\n",
    "FROM COURSES_WH\n",
    "    JOIN PROGRAMS_WH USING (PID)\n",
    "    JOIN LOCATIONS_WH USING (LID)\n",
    "    JOIN FACULTY_WH USING (FID)\n",
    "    JOIN CATALOGS_WH USING (CatID)\n",
    "LIMIT 10;"
   ]
  },
  {
   "cell_type": "code",
   "execution_count": 18,
   "metadata": {},
   "outputs": [
    {
     "name": "stdout",
     "output_type": "stream",
     "text": [
      " * sqlite:///CourseDataWarehouse.db\n",
      "Done.\n"
     ]
    },
    {
     "data": {
      "text/plain": [
       "[]"
      ]
     },
     "execution_count": 18,
     "metadata": {},
     "output_type": "execute_result"
    }
   ],
   "source": [
    "%%sql\n",
    "vacuum;"
   ]
  },
  {
   "cell_type": "code",
   "execution_count": null,
   "metadata": {},
   "outputs": [],
   "source": []
  }
 ],
 "metadata": {
  "kernelspec": {
   "display_name": "Python 3",
   "language": "python",
   "name": "python3"
  },
  "language_info": {
   "codemirror_mode": {
    "name": "ipython",
    "version": 3
   },
   "file_extension": ".py",
   "mimetype": "text/x-python",
   "name": "python",
   "nbconvert_exporter": "python",
   "pygments_lexer": "ipython3",
   "version": "3.6.5"
  }
 },
 "nbformat": 4,
 "nbformat_minor": 2
}
