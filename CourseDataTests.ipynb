{
 "cells": [
  {
   "cell_type": "markdown",
   "metadata": {},
   "source": [
    "# Integrity Check\n",
    "1. <dl>\n",
    "  <dt>Domain Integrity</dt>\n",
    "  <dd>Specifies that all columns in a relational database must be declared upon a defined domain</dd>\n",
    "- <dl>\n",
    "  <dt>Entity Integrity</dt>\n",
    "  <dd>Ensuring that each row of a table has a unique and non-null primary key value</dd>\n",
    "- <dl>\n",
    "  <dt>Relational Integrity</dt>\n",
    "  <dd>If a value of one attribute of a relation references a value of another attribute, then the referenced value must exist</dd>"
   ]
  },
  {
   "cell_type": "code",
   "execution_count": 3,
   "metadata": {},
   "outputs": [
    {
     "data": {
      "text/plain": [
       "'Connected: @CourseData.db'"
      ]
     },
     "execution_count": 3,
     "metadata": {},
     "output_type": "execute_result"
    }
   ],
   "source": [
    "%load_ext sql\n",
    "%sql sqlite:///CourseData.db"
   ]
  },
  {
   "cell_type": "markdown",
   "metadata": {},
   "source": [
    "#### _Entity Integrity_"
   ]
  },
  {
   "cell_type": "code",
   "execution_count": 4,
   "metadata": {},
   "outputs": [
    {
     "name": "stdout",
     "output_type": "stream",
     "text": [
      " * sqlite:///CourseData.db\n",
      "Done.\n"
     ]
    },
    {
     "data": {
      "text/html": [
       "<table>\n",
       "    <tr>\n",
       "        <th>COUNT(CatID)</th>\n",
       "        <th>COUNT(CatYear)</th>\n",
       "        <th>COUNT(CatID)_1</th>\n",
       "    </tr>\n",
       "    <tr>\n",
       "        <td>4440</td>\n",
       "        <td>4440</td>\n",
       "        <td>4440</td>\n",
       "    </tr>\n",
       "</table>"
      ],
      "text/plain": [
       "[(4440, 4440, 4440)]"
      ]
     },
     "execution_count": 4,
     "metadata": {},
     "output_type": "execute_result"
    }
   ],
   "source": [
    "%%sql\n",
    "/* Testing the entity integrity of CATALOGS table */\n",
    "\n",
    "SELECT DISTINCT COUNT(CatID), COUNT(CatYear), COUNT(CatID)\n",
    "FROM CATALOGS;"
   ]
  },
  {
   "cell_type": "code",
   "execution_count": 5,
   "metadata": {},
   "outputs": [
    {
     "name": "stdout",
     "output_type": "stream",
     "text": [
      " * sqlite:///CourseData.db\n",
      "Done.\n"
     ]
    },
    {
     "data": {
      "text/html": [
       "<table>\n",
       "    <tr>\n",
       "        <th>COUNT(CID)</th>\n",
       "        <th>COUNT(crn)</th>\n",
       "        <th>COUNT(CID)_1</th>\n",
       "    </tr>\n",
       "    <tr>\n",
       "        <td>15937</td>\n",
       "        <td>15937</td>\n",
       "        <td>15937</td>\n",
       "    </tr>\n",
       "</table>"
      ],
      "text/plain": [
       "[(15937, 15937, 15937)]"
      ]
     },
     "execution_count": 5,
     "metadata": {},
     "output_type": "execute_result"
    }
   ],
   "source": [
    "%%sql\n",
    "/* Testing the entity integrity of COURSES table */\n",
    "\n",
    "SELECT DISTINCT COUNT(CID), COUNT(crn), COUNT(CID)\n",
    "FROM COURSES;"
   ]
  },
  {
   "cell_type": "code",
   "execution_count": 6,
   "metadata": {},
   "outputs": [
    {
     "name": "stdout",
     "output_type": "stream",
     "text": [
      " * sqlite:///CourseData.db\n",
      "Done.\n"
     ]
    },
    {
     "data": {
      "text/html": [
       "<table>\n",
       "    <tr>\n",
       "        <th>COUNT(CMID)</th>\n",
       "        <th>COUNT(location)</th>\n",
       "        <th>COUNT(CMID)_1</th>\n",
       "    </tr>\n",
       "    <tr>\n",
       "        <td>311141</td>\n",
       "        <td>311141</td>\n",
       "        <td>311141</td>\n",
       "    </tr>\n",
       "</table>"
      ],
      "text/plain": [
       "[(311141, 311141, 311141)]"
      ]
     },
     "execution_count": 6,
     "metadata": {},
     "output_type": "execute_result"
    }
   ],
   "source": [
    "%%sql\n",
    "/* Testing the entity integrity of COURSE_MEETINGS table */\n",
    "\n",
    "SELECT DISTINCT COUNT(CMID), COUNT(location), COUNT(CMID)\n",
    "FROM COURSE_MEETINGS;"
   ]
  },
  {
   "cell_type": "code",
   "execution_count": 7,
   "metadata": {},
   "outputs": [
    {
     "name": "stdout",
     "output_type": "stream",
     "text": [
      " * sqlite:///CourseData.db\n",
      "Done.\n"
     ]
    },
    {
     "data": {
      "text/html": [
       "<table>\n",
       "    <tr>\n",
       "        <th>COUNT(PID)</th>\n",
       "        <th>COUNT(program_code)</th>\n",
       "        <th>COUNT(PID)_1</th>\n",
       "    </tr>\n",
       "    <tr>\n",
       "        <td>83</td>\n",
       "        <td>83</td>\n",
       "        <td>83</td>\n",
       "    </tr>\n",
       "</table>"
      ],
      "text/plain": [
       "[(83, 83, 83)]"
      ]
     },
     "execution_count": 7,
     "metadata": {},
     "output_type": "execute_result"
    }
   ],
   "source": [
    "%%sql\n",
    "/* Testing the entity integrity of PROGRAMS table */\n",
    "\n",
    "SELECT DISTINCT COUNT(PID), COUNT(program_code), COUNT(PID)\n",
    "FROM PROGRAMS;"
   ]
  },
  {
   "cell_type": "code",
   "execution_count": 8,
   "metadata": {},
   "outputs": [
    {
     "name": "stdout",
     "output_type": "stream",
     "text": [
      " * sqlite:///CourseData.db\n",
      "Done.\n"
     ]
    },
    {
     "data": {
      "text/html": [
       "<table>\n",
       "    <tr>\n",
       "        <th>COUNT(FID)</th>\n",
       "        <th>COUNT(FName)</th>\n",
       "        <th>COUNT(FID)_1</th>\n",
       "    </tr>\n",
       "    <tr>\n",
       "        <td>1104</td>\n",
       "        <td>1104</td>\n",
       "        <td>1104</td>\n",
       "    </tr>\n",
       "</table>"
      ],
      "text/plain": [
       "[(1104, 1104, 1104)]"
      ]
     },
     "execution_count": 8,
     "metadata": {},
     "output_type": "execute_result"
    }
   ],
   "source": [
    "%%sql\n",
    "/* Testing the entity integrity of FACULTY table */\n",
    "\n",
    "SELECT DISTINCT COUNT(FID), COUNT(FName), COUNT(FID)\n",
    "FROM FACULTY;"
   ]
  },
  {
   "cell_type": "code",
   "execution_count": 9,
   "metadata": {},
   "outputs": [
    {
     "name": "stdout",
     "output_type": "stream",
     "text": [
      " * sqlite:///CourseData.db\n",
      "Done.\n"
     ]
    },
    {
     "data": {
      "text/html": [
       "<table>\n",
       "    <tr>\n",
       "        <th>FName</th>\n",
       "    </tr>\n",
       "    <tr>\n",
       "        <td>Michael P.  Coyne</td>\n",
       "    </tr>\n",
       "    <tr>\n",
       "        <td>Rebecca I.  Bloch</td>\n",
       "    </tr>\n",
       "    <tr>\n",
       "        <td>Paul   Caster</td>\n",
       "    </tr>\n",
       "    <tr>\n",
       "        <td>Jo Ann   Drusbosky</td>\n",
       "    </tr>\n",
       "    <tr>\n",
       "        <td>Arleen N.  Kardos</td>\n",
       "    </tr>\n",
       "    <tr>\n",
       "        <td>Scott M  Brenner</td>\n",
       "    </tr>\n",
       "    <tr>\n",
       "        <td>Kevin C.  Cassidy</td>\n",
       "    </tr>\n",
       "    <tr>\n",
       "        <td>Bruce   Bradford</td>\n",
       "    </tr>\n",
       "    <tr>\n",
       "        <td>Milo W.  Peck</td>\n",
       "    </tr>\n",
       "    <tr>\n",
       "        <td>Stephen E.  Yost</td>\n",
       "    </tr>\n",
       "</table>"
      ],
      "text/plain": [
       "[('Michael P.  Coyne',),\n",
       " ('Rebecca I.  Bloch',),\n",
       " ('Paul   Caster',),\n",
       " ('Jo Ann   Drusbosky',),\n",
       " ('Arleen N.  Kardos',),\n",
       " ('Scott M  Brenner',),\n",
       " ('Kevin C.  Cassidy',),\n",
       " ('Bruce   Bradford',),\n",
       " ('Milo W.  Peck',),\n",
       " ('Stephen E.  Yost',)]"
      ]
     },
     "execution_count": 9,
     "metadata": {},
     "output_type": "execute_result"
    }
   ],
   "source": [
    "%%sql\n",
    "SELECT DISTINCT FName\n",
    "FROM FACUlTY\n",
    "Limit (10);"
   ]
  },
  {
   "cell_type": "code",
   "execution_count": 13,
   "metadata": {},
   "outputs": [
    {
     "name": "stdout",
     "output_type": "stream",
     "text": [
      " * sqlite:///CourseData.db\n",
      "Done.\n"
     ]
    },
    {
     "data": {
      "text/html": [
       "<table>\n",
       "    <tr>\n",
       "        <th>act</th>\n",
       "        <th>rem</th>\n",
       "        <th>crn</th>\n",
       "    </tr>\n",
       "    <tr>\n",
       "        <td>0</td>\n",
       "        <td>0</td>\n",
       "        <td>11632</td>\n",
       "    </tr>\n",
       "    <tr>\n",
       "        <td>10</td>\n",
       "        <td>10</td>\n",
       "        <td>11826</td>\n",
       "    </tr>\n",
       "    <tr>\n",
       "        <td>10</td>\n",
       "        <td>10</td>\n",
       "        <td>31051</td>\n",
       "    </tr>\n",
       "    <tr>\n",
       "        <td>1</td>\n",
       "        <td>1</td>\n",
       "        <td>31056</td>\n",
       "    </tr>\n",
       "    <tr>\n",
       "        <td>4</td>\n",
       "        <td>4</td>\n",
       "        <td>31060</td>\n",
       "    </tr>\n",
       "    <tr>\n",
       "        <td>12</td>\n",
       "        <td>12</td>\n",
       "        <td>31118</td>\n",
       "    </tr>\n",
       "    <tr>\n",
       "        <td>3</td>\n",
       "        <td>3</td>\n",
       "        <td>31304</td>\n",
       "    </tr>\n",
       "    <tr>\n",
       "        <td>0</td>\n",
       "        <td>0</td>\n",
       "        <td>31312</td>\n",
       "    </tr>\n",
       "    <tr>\n",
       "        <td>0</td>\n",
       "        <td>0</td>\n",
       "        <td>31332</td>\n",
       "    </tr>\n",
       "    <tr>\n",
       "        <td>9</td>\n",
       "        <td>9</td>\n",
       "        <td>31333</td>\n",
       "    </tr>\n",
       "</table>"
      ],
      "text/plain": [
       "[(0, 0, 11632),\n",
       " (10, 10, 11826),\n",
       " (10, 10, 31051),\n",
       " (1, 1, 31056),\n",
       " (4, 4, 31060),\n",
       " (12, 12, 31118),\n",
       " (3, 3, 31304),\n",
       " (0, 0, 31312),\n",
       " (0, 0, 31332),\n",
       " (9, 9, 31333)]"
      ]
     },
     "execution_count": 13,
     "metadata": {},
     "output_type": "execute_result"
    }
   ],
   "source": [
    "%%sql\n",
    "SELECT act, rem,crn\n",
    "FROM COURSES\n",
    "WHERE act =rem\n",
    "GROUP BY crn\n",
    "LIMIT (10);"
   ]
  },
  {
   "cell_type": "code",
   "execution_count": null,
   "metadata": {},
   "outputs": [],
   "source": []
  }
 ],
 "metadata": {
  "kernelspec": {
   "display_name": "Python 3",
   "language": "python",
   "name": "python3"
  },
  "language_info": {
   "codemirror_mode": {
    "name": "ipython",
    "version": 3
   },
   "file_extension": ".py",
   "mimetype": "text/x-python",
   "name": "python",
   "nbconvert_exporter": "python",
   "pygments_lexer": "ipython3",
   "version": "3.6.5"
  }
 },
 "nbformat": 4,
 "nbformat_minor": 2
}
