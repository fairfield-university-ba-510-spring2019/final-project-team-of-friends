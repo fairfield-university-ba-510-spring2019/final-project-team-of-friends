{
 "cells": [
  {
   "cell_type": "code",
   "execution_count": 8,
   "metadata": {},
   "outputs": [
    {
     "name": "stdout",
     "output_type": "stream",
     "text": [
      "The sql extension is already loaded. To reload it, use:\n",
      "  %reload_ext sql\n"
     ]
    },
    {
     "data": {
      "text/plain": [
       "'Connected: @CourseDataWarehouse.db'"
      ]
     },
     "execution_count": 8,
     "metadata": {},
     "output_type": "execute_result"
    }
   ],
   "source": [
    "%load_ext sql\n",
    "%sql sqlite:///CourseDataWarehouse.db\n",
    "## Copied original course data and renamed course data warehouse"
   ]
  },
  {
   "cell_type": "code",
   "execution_count": 9,
   "metadata": {},
   "outputs": [
    {
     "name": "stdout",
     "output_type": "stream",
     "text": [
      " * sqlite:///CourseDataWarehouse.db\n",
      "Done.\n",
      "Done.\n",
      "Done.\n",
      "Done.\n",
      "Done.\n"
     ]
    },
    {
     "data": {
      "text/plain": [
       "[]"
      ]
     },
     "execution_count": 9,
     "metadata": {},
     "output_type": "execute_result"
    }
   ],
   "source": [
    "%%sql \n",
    "DROP TABLE IF EXISTS CATALOGS;\n",
    "DROP TABLE IF EXISTS COURSE_MEETINGS;\n",
    "DROP TABLE IF EXISTS COURSES;\n",
    "DROP TABLE IF EXISTS FACULTY;\n",
    "DROP TABLE IF EXISTS PROGRAMS;"
   ]
  },
  {
   "cell_type": "code",
   "execution_count": null,
   "metadata": {},
   "outputs": [],
   "source": []
  },
  {
   "cell_type": "code",
   "execution_count": 10,
   "metadata": {},
   "outputs": [
    {
     "name": "stdout",
     "output_type": "stream",
     "text": [
      " * sqlite:///CourseDataWarehouse.db\n",
      "(sqlite3.OperationalError) table PROGRAM already exists [SQL: '--Creating Dimension Table--\\n\\nCREATE TABLE PROGRAM (\\n    PID INTEGER NOT NULL PRIMARY KEY,\\n    ProgName TEXT,\\n    ProgCode VARCHAR\\n);'] (Background on this error at: http://sqlalche.me/e/e3q8)\n"
     ]
    }
   ],
   "source": [
    "%%sql\n",
    "--Creating Dimension Table--\n",
    "\n",
    "CREATE TABLE PROGRAM (\n",
    "    PID INTEGER NOT NULL PRIMARY KEY,\n",
    "    ProgName TEXT,\n",
    "    ProgCode VARCHAR\n",
    ");"
   ]
  },
  {
   "cell_type": "code",
   "execution_count": 13,
   "metadata": {},
   "outputs": [
    {
     "name": "stdout",
     "output_type": "stream",
     "text": [
      " * sqlite:///CourseDataWarehouse.db\n",
      "Done.\n"
     ]
    },
    {
     "data": {
      "text/plain": [
       "[]"
      ]
     },
     "execution_count": 13,
     "metadata": {},
     "output_type": "execute_result"
    }
   ],
   "source": [
    "%%sql\n",
    "CREATE TABLE LOCATION (\n",
    "    LocationID INTEGER PRIMARY KEY,\n",
    "    ROOM TEXT NOT NULL,\n",
    "    SCHOOL TEXT NOT NULL\n",
    ");\n"
   ]
  },
  {
   "cell_type": "code",
   "execution_count": 15,
   "metadata": {},
   "outputs": [
    {
     "name": "stdout",
     "output_type": "stream",
     "text": [
      " * sqlite:///CourseDataWarehouse.db\n",
      "Done.\n"
     ]
    },
    {
     "data": {
      "text/plain": [
       "[]"
      ]
     },
     "execution_count": 15,
     "metadata": {},
     "output_type": "execute_result"
    }
   ],
   "source": [
    "%%sql \n",
    "\n",
    "-- Dimension Table TIMELINE--\n",
    "\n",
    "CREATE TABLE TIMELINE (\n",
    "    TimeID INTEGER NOT NULL PRIMARY KEY,\n",
    "    Day TEXT,\n",
    "    Start,\n",
    "    End,   \n",
    "    Term TEXT NOT NULL,\n",
    "    Year\n",
    ");\n",
    "\n"
   ]
  },
  {
   "cell_type": "code",
   "execution_count": 17,
   "metadata": {},
   "outputs": [
    {
     "name": "stdout",
     "output_type": "stream",
     "text": [
      " * sqlite:///CourseDataWarehouse.db\n",
      "Done.\n"
     ]
    },
    {
     "data": {
      "text/plain": [
       "[]"
      ]
     },
     "execution_count": 17,
     "metadata": {},
     "output_type": "execute_result"
    }
   ],
   "source": [
    "%%sql \n",
    "\n",
    "-- Creating Dimension Table for Faculty--\n",
    "\n",
    "CREATE TABLE INSTRUCTOR (\n",
    "    InstructorID  INTEGER NOT NULL PRIMARY KEY,\n",
    "    Name TEXT NOT NULL\n",
    ");"
   ]
  },
  {
   "cell_type": "code",
   "execution_count": 20,
   "metadata": {},
   "outputs": [
    {
     "name": "stdout",
     "output_type": "stream",
     "text": [
      " * sqlite:///CourseDataWarehouse.db\n",
      "Done.\n"
     ]
    },
    {
     "data": {
      "text/plain": [
       "[]"
      ]
     },
     "execution_count": 20,
     "metadata": {},
     "output_type": "execute_result"
    }
   ],
   "source": [
    "%%sql\n",
    "\n",
    "-- Creating Fact Table COURSE--\n",
    "\n",
    "CREATE TABLE COURSE (\n",
    "    CRN INTEGER NOT NULL,\n",
    "    Section VARCHAR NOT NULL,\n",
    "    Term TEXT NOT NULL,\n",
    "    Act INTEGER,\n",
    "    Cap INTEGER,\n",
    "    AVGCap INTEGER,\n",
    "    Rem INTEGER,\n",
    "    PID INTEGER,\n",
    "    CatID INTEGER,\n",
    "    InstructorID INTEGER,\n",
    "    FOREIGN KEY (PID) REFERENCES PROGRAM (PID),\n",
    "    FOREIGN KEY (CatID) REFERENCES PROGRAM (CatID),\n",
    "    FOREIGN KEY (InstructorID) REFERENCES PROGRAM (InsructorID)\n",
    "    \n",
    ");"
   ]
  },
  {
   "cell_type": "code",
   "execution_count": 26,
   "metadata": {},
   "outputs": [
    {
     "name": "stdout",
     "output_type": "stream",
     "text": [
      " * sqlite:///CourseDataWarehouse.db\n",
      "Done.\n"
     ]
    },
    {
     "data": {
      "text/plain": [
       "[]"
      ]
     },
     "execution_count": 26,
     "metadata": {},
     "output_type": "execute_result"
    }
   ],
   "source": [
    "%%sql\n",
    "\n",
    "-- Creating Dimension table for Catalog--\n",
    "\n",
    "CREATE TABLE CATALOG (\n",
    "    CatID INTEGER PRIMARY KEY,\n",
    "    CourseTitle TEXT NOT NULL,\n",
    "    Credits TEXT NOT NULL,\n",
    "    Prereq TEXT,\n",
    "    Corereq TEXT,\n",
    "    Fees INTEGER,\n",
    "    PID integer,\n",
    "    FOREIGN KEY (PID) REFERENCES Program (PID)\n",
    ");"
   ]
  },
  {
   "cell_type": "code",
   "execution_count": 24,
   "metadata": {},
   "outputs": [
    {
     "name": "stdout",
     "output_type": "stream",
     "text": [
      " * sqlite:///CourseDataWarehouse.db\n",
      "Done.\n"
     ]
    },
    {
     "data": {
      "text/html": [
       "<table>\n",
       "    <tr>\n",
       "        <th>CRN</th>\n",
       "        <th>Section</th>\n",
       "        <th>Term</th>\n",
       "        <th>Act</th>\n",
       "        <th>Cap</th>\n",
       "        <th>AVGCap</th>\n",
       "        <th>Rem</th>\n",
       "        <th>PID</th>\n",
       "        <th>CatID</th>\n",
       "        <th>InstructorID</th>\n",
       "    </tr>\n",
       "</table>"
      ],
      "text/plain": [
       "[]"
      ]
     },
     "execution_count": 24,
     "metadata": {},
     "output_type": "execute_result"
    }
   ],
   "source": [
    "%%sql\n",
    "SELECT *\n",
    "FROM COURSE"
   ]
  },
  {
   "cell_type": "code",
   "execution_count": 27,
   "metadata": {},
   "outputs": [
    {
     "data": {
      "text/plain": [
       "'Connected: @CourseData.db'"
      ]
     },
     "execution_count": 27,
     "metadata": {},
     "output_type": "execute_result"
    }
   ],
   "source": [
    "%%sql \n",
    "sqlite:///CourseData.db"
   ]
  },
  {
   "cell_type": "code",
   "execution_count": 30,
   "metadata": {},
   "outputs": [
    {
     "name": "stdout",
     "output_type": "stream",
     "text": [
      " * sqlite:///CourseData.db\n",
      "   sqlite:///CourseDataWarehouse.db\n",
      "Done.\n"
     ]
    },
    {
     "data": {
      "text/html": [
       "<table>\n",
       "    <tr>\n",
       "        <th>CID</th>\n",
       "        <th>CRN</th>\n",
       "        <th>term</th>\n",
       "        <th>title</th>\n",
       "        <th>section</th>\n",
       "        <th>cap</th>\n",
       "        <th>act</th>\n",
       "        <th>rem</th>\n",
       "        <th>credits</th>\n",
       "        <th>FID</th>\n",
       "        <th>CourseCode</th>\n",
       "    </tr>\n",
       "    <tr>\n",
       "        <td>1</td>\n",
       "        <td>70384</td>\n",
       "        <td>Fall2014</td>\n",
       "        <td>Introduction to Financial Accounting</td>\n",
       "        <td>C01</td>\n",
       "        <td>0</td>\n",
       "        <td>31</td>\n",
       "        <td>-31</td>\n",
       "        <td>3</td>\n",
       "        <td>1</td>\n",
       "        <td>AC 0011</td>\n",
       "    </tr>\n",
       "    <tr>\n",
       "        <td>2</td>\n",
       "        <td>70385</td>\n",
       "        <td>Fall2014</td>\n",
       "        <td>Introduction to Financial Accounting</td>\n",
       "        <td>C02</td>\n",
       "        <td>0</td>\n",
       "        <td>31</td>\n",
       "        <td>-31</td>\n",
       "        <td>3</td>\n",
       "        <td>1</td>\n",
       "        <td>AC 0011</td>\n",
       "    </tr>\n",
       "    <tr>\n",
       "        <td>3</td>\n",
       "        <td>70382</td>\n",
       "        <td>Fall2014</td>\n",
       "        <td>Introduction to Financial Accounting</td>\n",
       "        <td>C03</td>\n",
       "        <td>0</td>\n",
       "        <td>31</td>\n",
       "        <td>-31</td>\n",
       "        <td>3</td>\n",
       "        <td>1</td>\n",
       "        <td>AC 0011</td>\n",
       "    </tr>\n",
       "    <tr>\n",
       "        <td>4</td>\n",
       "        <td>70291</td>\n",
       "        <td>Fall2014</td>\n",
       "        <td>Introduction to Financial Accounting</td>\n",
       "        <td>C04</td>\n",
       "        <td>0</td>\n",
       "        <td>29</td>\n",
       "        <td>-29</td>\n",
       "        <td>3</td>\n",
       "        <td>2</td>\n",
       "        <td>AC 0011</td>\n",
       "    </tr>\n",
       "    <tr>\n",
       "        <td>5</td>\n",
       "        <td>70350</td>\n",
       "        <td>Fall2014</td>\n",
       "        <td>Introduction to Financial Accounting</td>\n",
       "        <td>C05</td>\n",
       "        <td>0</td>\n",
       "        <td>30</td>\n",
       "        <td>-30</td>\n",
       "        <td>3</td>\n",
       "        <td>2</td>\n",
       "        <td>AC 0011</td>\n",
       "    </tr>\n",
       "    <tr>\n",
       "        <td>6</td>\n",
       "        <td>70381</td>\n",
       "        <td>Fall2014</td>\n",
       "        <td>Introduction to Financial Accounting</td>\n",
       "        <td>C06</td>\n",
       "        <td>0</td>\n",
       "        <td>31</td>\n",
       "        <td>-31</td>\n",
       "        <td>3</td>\n",
       "        <td>2</td>\n",
       "        <td>AC 0011</td>\n",
       "    </tr>\n",
       "    <tr>\n",
       "        <td>7</td>\n",
       "        <td>70383</td>\n",
       "        <td>Fall2014</td>\n",
       "        <td>Introduction to Financial Accounting</td>\n",
       "        <td>G</td>\n",
       "        <td>30</td>\n",
       "        <td>31</td>\n",
       "        <td>-1</td>\n",
       "        <td>3</td>\n",
       "        <td>3</td>\n",
       "        <td>AC 0011</td>\n",
       "    </tr>\n",
       "    <tr>\n",
       "        <td>8</td>\n",
       "        <td>70391</td>\n",
       "        <td>Fall2014</td>\n",
       "        <td>Introduction to Financial Accounting</td>\n",
       "        <td>H</td>\n",
       "        <td>30</td>\n",
       "        <td>32</td>\n",
       "        <td>-2</td>\n",
       "        <td>3</td>\n",
       "        <td>4</td>\n",
       "        <td>AC 0011</td>\n",
       "    </tr>\n",
       "    <tr>\n",
       "        <td>9</td>\n",
       "        <td>71105</td>\n",
       "        <td>Fall2014</td>\n",
       "        <td>Introduction to Financial Accounting</td>\n",
       "        <td>I</td>\n",
       "        <td>30</td>\n",
       "        <td>33</td>\n",
       "        <td>-3</td>\n",
       "        <td>3</td>\n",
       "        <td>4</td>\n",
       "        <td>AC 0011</td>\n",
       "    </tr>\n",
       "    <tr>\n",
       "        <td>10</td>\n",
       "        <td>71123</td>\n",
       "        <td>Fall2014</td>\n",
       "        <td>Introduction to Financial Accounting</td>\n",
       "        <td>J</td>\n",
       "        <td>30</td>\n",
       "        <td>32</td>\n",
       "        <td>-2</td>\n",
       "        <td>3</td>\n",
       "        <td>4</td>\n",
       "        <td>AC 0011</td>\n",
       "    </tr>\n",
       "</table>"
      ],
      "text/plain": [
       "[(1, 70384, 'Fall2014', 'Introduction to Financial Accounting', 'C01', 0, 31, -31, 3, 1, 'AC 0011'),\n",
       " (2, 70385, 'Fall2014', 'Introduction to Financial Accounting', 'C02', 0, 31, -31, 3, 1, 'AC 0011'),\n",
       " (3, 70382, 'Fall2014', 'Introduction to Financial Accounting', 'C03', 0, 31, -31, 3, 1, 'AC 0011'),\n",
       " (4, 70291, 'Fall2014', 'Introduction to Financial Accounting', 'C04', 0, 29, -29, 3, 2, 'AC 0011'),\n",
       " (5, 70350, 'Fall2014', 'Introduction to Financial Accounting', 'C05', 0, 30, -30, 3, 2, 'AC 0011'),\n",
       " (6, 70381, 'Fall2014', 'Introduction to Financial Accounting', 'C06', 0, 31, -31, 3, 2, 'AC 0011'),\n",
       " (7, 70383, 'Fall2014', 'Introduction to Financial Accounting', 'G', 30, 31, -1, 3, 3, 'AC 0011'),\n",
       " (8, 70391, 'Fall2014', 'Introduction to Financial Accounting', 'H', 30, 32, -2, 3, 4, 'AC 0011'),\n",
       " (9, 71105, 'Fall2014', 'Introduction to Financial Accounting', 'I', 30, 33, -3, 3, 4, 'AC 0011'),\n",
       " (10, 71123, 'Fall2014', 'Introduction to Financial Accounting', 'J', 30, 32, -2, 3, 4, 'AC 0011')]"
      ]
     },
     "execution_count": 30,
     "metadata": {},
     "output_type": "execute_result"
    }
   ],
   "source": [
    "%%sql\n",
    "SELECT *\n",
    "FROM COURSES\n",
    "LIMIT (10);"
   ]
  },
  {
   "cell_type": "code",
   "execution_count": null,
   "metadata": {},
   "outputs": [],
   "source": [
    "%%sql\n",
    "\n",
    "-- Which professor teaches CRN 70384?--\n",
    "\n",
    "SELECT CRN, Instructor\n",
    "FROM COURSES\n",
    "JOIN INSTRUCTOR USING InstructorID"
   ]
  },
  {
   "cell_type": "code",
   "execution_count": null,
   "metadata": {},
   "outputs": [],
   "source": []
  }
 ],
 "metadata": {
  "kernelspec": {
   "display_name": "Python 3",
   "language": "python",
   "name": "python3"
  },
  "language_info": {
   "codemirror_mode": {
    "name": "ipython",
    "version": 3
   },
   "file_extension": ".py",
   "mimetype": "text/x-python",
   "name": "python",
   "nbconvert_exporter": "python",
   "pygments_lexer": "ipython3",
   "version": "3.6.5"
  }
 },
 "nbformat": 4,
 "nbformat_minor": 2
}
