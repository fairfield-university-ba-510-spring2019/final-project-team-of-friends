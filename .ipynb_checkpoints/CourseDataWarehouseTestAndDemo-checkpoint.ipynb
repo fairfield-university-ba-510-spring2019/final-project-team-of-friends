{
 "cells": [
  {
   "cell_type": "code",
   "execution_count": 1,
   "metadata": {},
   "outputs": [
    {
     "data": {
      "text/plain": [
       "'Connected: @CourseDataWarehouse.db'"
      ]
     },
     "execution_count": 1,
     "metadata": {},
     "output_type": "execute_result"
    }
   ],
   "source": [
    "%load_ext sql\n",
    "%sql sqlite:///CourseDataWarehouse.db"
   ]
  },
  {
   "cell_type": "markdown",
   "metadata": {},
   "source": [
    "## **Domain Integrity**"
   ]
  },
  {
   "cell_type": "markdown",
   "metadata": {},
   "source": [
    "### _PROGRAMS WH_"
   ]
  },
  {
   "cell_type": "code",
   "execution_count": 2,
   "metadata": {},
   "outputs": [
    {
     "name": "stdout",
     "output_type": "stream",
     "text": [
      " * sqlite:///CourseDataWarehouse.db\n",
      "Done.\n"
     ]
    },
    {
     "data": {
      "text/html": [
       "<table>\n",
       "    <tr>\n",
       "        <th>PID</th>\n",
       "        <th>program_name</th>\n",
       "        <th>program_code</th>\n",
       "    </tr>\n",
       "    <tr>\n",
       "        <td>1</td>\n",
       "        <td>Asian Studies</td>\n",
       "        <td>AN</td>\n",
       "    </tr>\n",
       "    <tr>\n",
       "        <td>2</td>\n",
       "        <td>Business</td>\n",
       "        <td>BU</td>\n",
       "    </tr>\n",
       "    <tr>\n",
       "        <td>3</td>\n",
       "        <td>Black Studies</td>\n",
       "        <td>BL</td>\n",
       "    </tr>\n",
       "    <tr>\n",
       "        <td>4</td>\n",
       "        <td>Bioengineering</td>\n",
       "        <td>BEN</td>\n",
       "    </tr>\n",
       "    <tr>\n",
       "        <td>5</td>\n",
       "        <td>Arabic</td>\n",
       "        <td>AR</td>\n",
       "    </tr>\n",
       "</table>"
      ],
      "text/plain": [
       "[(1, 'Asian Studies', 'AN'),\n",
       " (2, 'Business', 'BU'),\n",
       " (3, 'Black Studies', 'BL'),\n",
       " (4, 'Bioengineering', 'BEN'),\n",
       " (5, 'Arabic', 'AR')]"
      ]
     },
     "execution_count": 2,
     "metadata": {},
     "output_type": "execute_result"
    }
   ],
   "source": [
    "%%sql\n",
    "SELECT *\n",
    "FROM PROGRAMS_WH\n",
    "LIMIT 5;"
   ]
  },
  {
   "cell_type": "markdown",
   "metadata": {},
   "source": [
    "### _LOCATIONS WH_"
   ]
  },
  {
   "cell_type": "code",
   "execution_count": 3,
   "metadata": {},
   "outputs": [
    {
     "name": "stdout",
     "output_type": "stream",
     "text": [
      " * sqlite:///CourseDataWarehouse.db\n",
      "Done.\n"
     ]
    },
    {
     "data": {
      "text/html": [
       "<table>\n",
       "    <tr>\n",
       "        <th>LID</th>\n",
       "        <th>location</th>\n",
       "    </tr>\n",
       "    <tr>\n",
       "        <td>1</td>\n",
       "        <td>DSB 105</td>\n",
       "    </tr>\n",
       "    <tr>\n",
       "        <td>2</td>\n",
       "        <td>DSB 111</td>\n",
       "    </tr>\n",
       "    <tr>\n",
       "        <td>3</td>\n",
       "        <td>DSB 110A</td>\n",
       "    </tr>\n",
       "    <tr>\n",
       "        <td>4</td>\n",
       "        <td>DSB 108</td>\n",
       "    </tr>\n",
       "    <tr>\n",
       "        <td>5</td>\n",
       "        <td>DSB 110B</td>\n",
       "    </tr>\n",
       "</table>"
      ],
      "text/plain": [
       "[(1, 'DSB 105'),\n",
       " (2, 'DSB 111'),\n",
       " (3, 'DSB 110A'),\n",
       " (4, 'DSB 108'),\n",
       " (5, 'DSB 110B')]"
      ]
     },
     "execution_count": 3,
     "metadata": {},
     "output_type": "execute_result"
    }
   ],
   "source": [
    "%%sql\n",
    "SELECT *\n",
    "FROM LOCATIONS_WH\n",
    "LIMIT 5;"
   ]
  },
  {
   "cell_type": "markdown",
   "metadata": {},
   "source": [
    "### _FACULTY WH_"
   ]
  },
  {
   "cell_type": "code",
   "execution_count": 4,
   "metadata": {},
   "outputs": [
    {
     "name": "stdout",
     "output_type": "stream",
     "text": [
      " * sqlite:///CourseDataWarehouse.db\n",
      "Done.\n"
     ]
    },
    {
     "data": {
      "text/html": [
       "<table>\n",
       "    <tr>\n",
       "        <th>FID</th>\n",
       "        <th>FName</th>\n",
       "    </tr>\n",
       "    <tr>\n",
       "        <td>1</td>\n",
       "        <td>Michael P.  Coyne</td>\n",
       "    </tr>\n",
       "    <tr>\n",
       "        <td>2</td>\n",
       "        <td>Rebecca I.  Bloch</td>\n",
       "    </tr>\n",
       "    <tr>\n",
       "        <td>3</td>\n",
       "        <td>Paul   Caster</td>\n",
       "    </tr>\n",
       "    <tr>\n",
       "        <td>4</td>\n",
       "        <td>Jo Ann   Drusbosky</td>\n",
       "    </tr>\n",
       "    <tr>\n",
       "        <td>5</td>\n",
       "        <td>Arleen N.  Kardos</td>\n",
       "    </tr>\n",
       "</table>"
      ],
      "text/plain": [
       "[(1, 'Michael P.  Coyne'),\n",
       " (2, 'Rebecca I.  Bloch'),\n",
       " (3, 'Paul   Caster'),\n",
       " (4, 'Jo Ann   Drusbosky'),\n",
       " (5, 'Arleen N.  Kardos')]"
      ]
     },
     "execution_count": 4,
     "metadata": {},
     "output_type": "execute_result"
    }
   ],
   "source": [
    "%%sql\n",
    "SELECT *\n",
    "FROM FACULTY_WH\n",
    "LIMIT 5;"
   ]
  },
  {
   "cell_type": "markdown",
   "metadata": {},
   "source": [
    "### _CATALOGS WH_"
   ]
  },
  {
   "cell_type": "code",
   "execution_count": 5,
   "metadata": {},
   "outputs": [
    {
     "name": "stdout",
     "output_type": "stream",
     "text": [
      " * sqlite:///CourseDataWarehouse.db\n",
      "Done.\n"
     ]
    },
    {
     "data": {
      "text/html": [
       "<table>\n",
       "    <tr>\n",
       "        <th>CatID</th>\n",
       "        <th>CourseCode</th>\n",
       "        <th>Credits</th>\n",
       "        <th>Prereqs</th>\n",
       "        <th>Coreqs</th>\n",
       "        <th>Fees</th>\n",
       "        <th>Description</th>\n",
       "        <th>Attributes</th>\n",
       "    </tr>\n",
       "    <tr>\n",
       "        <td>1</td>\n",
       "        <td>AN 0301</td>\n",
       "        <td>1-3 Credits</td>\n",
       "        <td>None</td>\n",
       "        <td>None</td>\n",
       "        <td>None</td>\n",
       "        <td>Students undertake an individualized program of study in consultation with a director from the Asian studies faculty.</td>\n",
       "        <td>None</td>\n",
       "    </tr>\n",
       "    <tr>\n",
       "        <td>2</td>\n",
       "        <td>AN 0310</td>\n",
       "        <td>3 Credits</td>\n",
       "        <td>None</td>\n",
       "        <td>None</td>\n",
       "        <td>None</td>\n",
       "        <td>This seminar examines selected topics concerning Asia. This course is taught in conjunction with another 100-300 level course from a rotation of course offerings. Consult the Asian Studies director to identify the conjoined course for a given semester. The seminar concentrates on topics within the parameters of the conjoined course syllabus but adds research emphasis. Students registered for this course must complete a research project, to include 300-level research, in addition to the regular research requirements of the conjoined course, and a 25-50 page term paper in substitution of some portion of the conjoined course requirements, as determined by the instructor. Open to juniors and seniors only.</td>\n",
       "        <td>None</td>\n",
       "    </tr>\n",
       "    <tr>\n",
       "        <td>3</td>\n",
       "        <td>BU 0211</td>\n",
       "        <td>3 Credits</td>\n",
       "        <td>Junior standing.</td>\n",
       "        <td>None</td>\n",
       "        <td>None</td>\n",
       "        <td>This course examines the broad philosophical as well as practical nature and function of the legal system, and introduces students to the legal and social responsibilities of business. The course includes an introduction to the legal system, the federal courts, Constitutional law, the United States Supreme Court, the civil process, and regulatory areas such as employment discrimination, protection of the environment, and corporate governance and securities markets.</td>\n",
       "        <td>None</td>\n",
       "    </tr>\n",
       "</table>"
      ],
      "text/plain": [
       "[(1, 'AN 0301', '1-3 Credits', None, None, None, 'Students undertake an individualized program of study in consultation with a director from the Asian studies faculty.', None),\n",
       " (2, 'AN 0310', '3 Credits', None, None, None, 'This seminar examines selected topics concerning Asia. This course is taught in conjunction with another 100-300 level course from a rotation of cour ... (412 characters truncated) ... e term paper in substitution of some portion of the conjoined course requirements, as determined by the instructor. Open to juniors and seniors only.', None),\n",
       " (3, 'BU 0211', '3 Credits', 'Junior standing.', None, None, 'This course examines the broad philosophical as well as practical nature and function of the legal system, and introduces students to the legal and s ... (171 characters truncated) ... ivil process, and regulatory areas such as employment discrimination, protection of the environment, and corporate governance and securities markets.', None)]"
      ]
     },
     "execution_count": 5,
     "metadata": {},
     "output_type": "execute_result"
    }
   ],
   "source": [
    "%%sql\n",
    "SELECT *\n",
    "FROM CATALOGS_WH\n",
    "LIMIT 3;"
   ]
  },
  {
   "cell_type": "markdown",
   "metadata": {},
   "source": [
    "### _COURSES WH (FACT TABLE)_"
   ]
  },
  {
   "cell_type": "code",
   "execution_count": 6,
   "metadata": {},
   "outputs": [
    {
     "name": "stdout",
     "output_type": "stream",
     "text": [
      " * sqlite:///CourseDataWarehouse.db\n",
      "Done.\n"
     ]
    },
    {
     "data": {
      "text/html": [
       "<table>\n",
       "    <tr>\n",
       "        <th>CID</th>\n",
       "        <th>CRN</th>\n",
       "        <th>term</th>\n",
       "        <th>Title</th>\n",
       "        <th>Section</th>\n",
       "        <th>Act</th>\n",
       "        <th>Cap</th>\n",
       "        <th>Rem</th>\n",
       "        <th>timecodes</th>\n",
       "        <th>PID</th>\n",
       "        <th>LID</th>\n",
       "        <th>FID</th>\n",
       "        <th>CatID</th>\n",
       "    </tr>\n",
       "    <tr>\n",
       "        <td>1</td>\n",
       "        <td>34130</td>\n",
       "        <td>Spring2015</td>\n",
       "        <td>Independent Study</td>\n",
       "        <td>DL</td>\n",
       "        <td>0</td>\n",
       "        <td>1</td>\n",
       "        <td>1</td>\n",
       "        <td>[]</td>\n",
       "        <td>1</td>\n",
       "        <td>7</td>\n",
       "        <td>570</td>\n",
       "        <td>1</td>\n",
       "    </tr>\n",
       "    <tr>\n",
       "        <td>2</td>\n",
       "        <td>73018</td>\n",
       "        <td>Fall2017</td>\n",
       "        <td>Independent Study</td>\n",
       "        <td>JX</td>\n",
       "        <td>1</td>\n",
       "        <td>0</td>\n",
       "        <td>-1</td>\n",
       "        <td>[]</td>\n",
       "        <td>1</td>\n",
       "        <td>16</td>\n",
       "        <td>94</td>\n",
       "        <td>1</td>\n",
       "    </tr>\n",
       "    <tr>\n",
       "        <td>3</td>\n",
       "        <td>34010</td>\n",
       "        <td>Spring2015</td>\n",
       "        <td>Asian Studies Seminar</td>\n",
       "        <td>B</td>\n",
       "        <td>2</td>\n",
       "        <td>5</td>\n",
       "        <td>3</td>\n",
       "        <td>[&#x27;W 0630pm-0900pm 01/20-04/30 CNS 305&#x27;]</td>\n",
       "        <td>1</td>\n",
       "        <td>20</td>\n",
       "        <td>94</td>\n",
       "        <td>2</td>\n",
       "    </tr>\n",
       "    <tr>\n",
       "        <td>4</td>\n",
       "        <td>34010</td>\n",
       "        <td>Spring2015</td>\n",
       "        <td>Asian Studies Seminar</td>\n",
       "        <td>B</td>\n",
       "        <td>2</td>\n",
       "        <td>5</td>\n",
       "        <td>3</td>\n",
       "        <td>[&#x27;W 0630pm-0900pm 01/20-04/30 CNS 305&#x27;]</td>\n",
       "        <td>1</td>\n",
       "        <td>17</td>\n",
       "        <td>94</td>\n",
       "        <td>2</td>\n",
       "    </tr>\n",
       "    <tr>\n",
       "        <td>5</td>\n",
       "        <td>71367</td>\n",
       "        <td>Fall2017</td>\n",
       "        <td>Asian Studies Seminar</td>\n",
       "        <td>1</td>\n",
       "        <td>1</td>\n",
       "        <td>5</td>\n",
       "        <td>4</td>\n",
       "        <td>[]</td>\n",
       "        <td>1</td>\n",
       "        <td>67</td>\n",
       "        <td>570</td>\n",
       "        <td>2</td>\n",
       "    </tr>\n",
       "</table>"
      ],
      "text/plain": [
       "[(1, 34130, 'Spring2015', 'Independent Study', 'DL', 0, 1, 1, '[]', 1, 7, 570, 1),\n",
       " (2, 73018, 'Fall2017', 'Independent Study', 'JX', 1, 0, -1, '[]', 1, 16, 94, 1),\n",
       " (3, 34010, 'Spring2015', 'Asian Studies Seminar', 'B', 2, 5, 3, \"['W 0630pm-0900pm 01/20-04/30 CNS 305']\", 1, 20, 94, 2),\n",
       " (4, 34010, 'Spring2015', 'Asian Studies Seminar', 'B', 2, 5, 3, \"['W 0630pm-0900pm 01/20-04/30 CNS 305']\", 1, 17, 94, 2),\n",
       " (5, 71367, 'Fall2017', 'Asian Studies Seminar', '1', 1, 5, 4, '[]', 1, 67, 570, 2)]"
      ]
     },
     "execution_count": 6,
     "metadata": {},
     "output_type": "execute_result"
    }
   ],
   "source": [
    "%%sql\n",
    "SELECT *\n",
    "FROM COURSES_WH\n",
    "LIMIT 5;"
   ]
  },
  {
   "cell_type": "markdown",
   "metadata": {},
   "source": [
    "# **Entity Integrity**"
   ]
  },
  {
   "cell_type": "markdown",
   "metadata": {},
   "source": [
    "### _PROGRAMS WH_"
   ]
  },
  {
   "cell_type": "code",
   "execution_count": 7,
   "metadata": {},
   "outputs": [
    {
     "name": "stdout",
     "output_type": "stream",
     "text": [
      " * sqlite:///CourseDataWarehouse.db\n",
      "Done.\n"
     ]
    },
    {
     "data": {
      "text/html": [
       "<table>\n",
       "    <tr>\n",
       "        <th>COUNT(program_code)</th>\n",
       "        <th>COUNT(PID)</th>\n",
       "        <th>COUNT(program_code)_1</th>\n",
       "    </tr>\n",
       "    <tr>\n",
       "        <td>83</td>\n",
       "        <td>83</td>\n",
       "        <td>83</td>\n",
       "    </tr>\n",
       "</table>"
      ],
      "text/plain": [
       "[(83, 83, 83)]"
      ]
     },
     "execution_count": 7,
     "metadata": {},
     "output_type": "execute_result"
    }
   ],
   "source": [
    "%%sql\n",
    "SELECT DISTINCT COUNT(program_code), COUNT(PID), COUNT(program_code)\n",
    "FROM PROGRAMS_WH;"
   ]
  },
  {
   "cell_type": "markdown",
   "metadata": {},
   "source": [
    "### _LOCATIONS WH_"
   ]
  },
  {
   "cell_type": "code",
   "execution_count": 8,
   "metadata": {},
   "outputs": [
    {
     "name": "stdout",
     "output_type": "stream",
     "text": [
      " * sqlite:///CourseDataWarehouse.db\n",
      "Done.\n"
     ]
    },
    {
     "data": {
      "text/html": [
       "<table>\n",
       "    <tr>\n",
       "        <th>COUNT(location)</th>\n",
       "        <th>COUNT(LID)</th>\n",
       "        <th>COUNT(location)_1</th>\n",
       "    </tr>\n",
       "    <tr>\n",
       "        <td>201</td>\n",
       "        <td>201</td>\n",
       "        <td>201</td>\n",
       "    </tr>\n",
       "</table>"
      ],
      "text/plain": [
       "[(201, 201, 201)]"
      ]
     },
     "execution_count": 8,
     "metadata": {},
     "output_type": "execute_result"
    }
   ],
   "source": [
    "%%sql\n",
    "SELECT DISTINCT COUNT(location), COUNT(LID), COUNT(location)\n",
    "FROM LOCATIONS_WH;"
   ]
  },
  {
   "cell_type": "markdown",
   "metadata": {},
   "source": [
    "### _FACULTY WH_"
   ]
  },
  {
   "cell_type": "code",
   "execution_count": 9,
   "metadata": {},
   "outputs": [
    {
     "name": "stdout",
     "output_type": "stream",
     "text": [
      " * sqlite:///CourseDataWarehouse.db\n",
      "Done.\n"
     ]
    },
    {
     "data": {
      "text/html": [
       "<table>\n",
       "    <tr>\n",
       "        <th>COUNT(FName)</th>\n",
       "        <th>COUNT(FID)</th>\n",
       "        <th>COUNT(FName)_1</th>\n",
       "    </tr>\n",
       "    <tr>\n",
       "        <td>1104</td>\n",
       "        <td>1104</td>\n",
       "        <td>1104</td>\n",
       "    </tr>\n",
       "</table>"
      ],
      "text/plain": [
       "[(1104, 1104, 1104)]"
      ]
     },
     "execution_count": 9,
     "metadata": {},
     "output_type": "execute_result"
    }
   ],
   "source": [
    "%%sql\n",
    "SELECT DISTINCT COUNT(FName), COUNT(FID), COUNT(FName)\n",
    "FROM FACULTY_WH;"
   ]
  },
  {
   "cell_type": "markdown",
   "metadata": {},
   "source": [
    "### _CATALOGS WH_"
   ]
  },
  {
   "cell_type": "code",
   "execution_count": 10,
   "metadata": {},
   "outputs": [
    {
     "name": "stdout",
     "output_type": "stream",
     "text": [
      " * sqlite:///CourseDataWarehouse.db\n",
      "Done.\n"
     ]
    },
    {
     "data": {
      "text/html": [
       "<table>\n",
       "    <tr>\n",
       "        <th>COUNT(CourseCode)</th>\n",
       "        <th>COUNT(CatID)</th>\n",
       "        <th>COUNT(CourseCode)_1</th>\n",
       "    </tr>\n",
       "    <tr>\n",
       "        <td>2220</td>\n",
       "        <td>2220</td>\n",
       "        <td>2220</td>\n",
       "    </tr>\n",
       "</table>"
      ],
      "text/plain": [
       "[(2220, 2220, 2220)]"
      ]
     },
     "execution_count": 10,
     "metadata": {},
     "output_type": "execute_result"
    }
   ],
   "source": [
    "%%sql\n",
    "SELECT DISTINCT COUNT(CourseCode), COUNT(CatID), COUNT(CourseCode)\n",
    "FROM CATALOGS_WH;"
   ]
  },
  {
   "cell_type": "markdown",
   "metadata": {},
   "source": [
    "### _COURSES WH (FACT TABLE)_"
   ]
  },
  {
   "cell_type": "code",
   "execution_count": 11,
   "metadata": {},
   "outputs": [
    {
     "name": "stdout",
     "output_type": "stream",
     "text": [
      " * sqlite:///CourseDataWarehouse.db\n",
      "Done.\n"
     ]
    },
    {
     "data": {
      "text/html": [
       "<table>\n",
       "    <tr>\n",
       "        <th>COUNT(CRN)</th>\n",
       "        <th>COUNT(CID)</th>\n",
       "        <th>COUNT(CRN)_1</th>\n",
       "    </tr>\n",
       "    <tr>\n",
       "        <td>17886</td>\n",
       "        <td>17886</td>\n",
       "        <td>17886</td>\n",
       "    </tr>\n",
       "</table>"
      ],
      "text/plain": [
       "[(17886, 17886, 17886)]"
      ]
     },
     "execution_count": 11,
     "metadata": {},
     "output_type": "execute_result"
    }
   ],
   "source": [
    "%%sql\n",
    "SELECT DISTINCT COUNT(CRN), COUNT(CID), COUNT(CRN)\n",
    "FROM COURSES_WH;"
   ]
  },
  {
   "cell_type": "markdown",
   "metadata": {},
   "source": [
    "# **Relational Integrity**"
   ]
  },
  {
   "cell_type": "code",
   "execution_count": 13,
   "metadata": {},
   "outputs": [
    {
     "name": "stdout",
     "output_type": "stream",
     "text": [
      " * sqlite:///CourseDataWarehouse.db\n",
      "Done.\n"
     ]
    },
    {
     "data": {
      "text/html": [
       "<table>\n",
       "    <tr>\n",
       "        <th>CourseCode</th>\n",
       "        <th>program_name</th>\n",
       "        <th>CRN</th>\n",
       "        <th>FName</th>\n",
       "        <th>location</th>\n",
       "    </tr>\n",
       "    <tr>\n",
       "        <td>AC 0555</td>\n",
       "        <td>Accounting</td>\n",
       "        <td>10913</td>\n",
       "        <td>Dawn W  Massey</td>\n",
       "        <td>DSB 115</td>\n",
       "    </tr>\n",
       "    <tr>\n",
       "        <td>AC 0555</td>\n",
       "        <td>Accounting</td>\n",
       "        <td>11618</td>\n",
       "        <td>Dawn W  Massey</td>\n",
       "        <td>DSB 104</td>\n",
       "    </tr>\n",
       "    <tr>\n",
       "        <td>AC 0204</td>\n",
       "        <td>Accounting</td>\n",
       "        <td>31036</td>\n",
       "        <td>Milo W.  Peck</td>\n",
       "        <td>DSB 110A</td>\n",
       "    </tr>\n",
       "    <tr>\n",
       "        <td>AC 0204</td>\n",
       "        <td>Accounting</td>\n",
       "        <td>31072</td>\n",
       "        <td>Milo W.  Peck</td>\n",
       "        <td>DSB 110A</td>\n",
       "    </tr>\n",
       "    <tr>\n",
       "        <td>AC 0345</td>\n",
       "        <td>Accounting</td>\n",
       "        <td>31090</td>\n",
       "        <td>Kathi M.  Mettler</td>\n",
       "        <td>DSB 2109A</td>\n",
       "    </tr>\n",
       "    <tr>\n",
       "        <td>AC 0012</td>\n",
       "        <td>Accounting</td>\n",
       "        <td>31092</td>\n",
       "        <td>Rebecca I.  Bloch</td>\n",
       "        <td>DSB 108</td>\n",
       "    </tr>\n",
       "    <tr>\n",
       "        <td>AC 0203</td>\n",
       "        <td>Accounting</td>\n",
       "        <td>31148</td>\n",
       "        <td>Rebecca I.  Bloch</td>\n",
       "        <td>DSB 104</td>\n",
       "    </tr>\n",
       "    <tr>\n",
       "        <td>AC 0310</td>\n",
       "        <td>Accounting</td>\n",
       "        <td>31158</td>\n",
       "        <td>Lisa Suzanne  Haylon</td>\n",
       "        <td>DSB 106</td>\n",
       "    </tr>\n",
       "    <tr>\n",
       "        <td>AC 0012</td>\n",
       "        <td>Accounting</td>\n",
       "        <td>31177</td>\n",
       "        <td>Rebecca I.  Bloch</td>\n",
       "        <td>DSB 108</td>\n",
       "    </tr>\n",
       "    <tr>\n",
       "        <td>AC 0012</td>\n",
       "        <td>Accounting</td>\n",
       "        <td>31194</td>\n",
       "        <td>Bruce   Bradford</td>\n",
       "        <td>DSB 104</td>\n",
       "    </tr>\n",
       "</table>"
      ],
      "text/plain": [
       "[('AC 0555', 'Accounting', 10913, 'Dawn W  Massey', 'DSB 115'),\n",
       " ('AC 0555', 'Accounting', 11618, 'Dawn W  Massey', 'DSB 104'),\n",
       " ('AC 0204', 'Accounting', 31036, 'Milo W.  Peck', 'DSB 110A'),\n",
       " ('AC 0204', 'Accounting', 31072, 'Milo W.  Peck', 'DSB 110A'),\n",
       " ('AC 0345', 'Accounting', 31090, 'Kathi M.  Mettler', 'DSB 2109A'),\n",
       " ('AC 0012', 'Accounting', 31092, 'Rebecca I.  Bloch', 'DSB 108'),\n",
       " ('AC 0203', 'Accounting', 31148, 'Rebecca I.  Bloch', 'DSB 104'),\n",
       " ('AC 0310', 'Accounting', 31158, 'Lisa Suzanne  Haylon', 'DSB 106'),\n",
       " ('AC 0012', 'Accounting', 31177, 'Rebecca I.  Bloch', 'DSB 108'),\n",
       " ('AC 0012', 'Accounting', 31194, 'Bruce   Bradford', 'DSB 104')]"
      ]
     },
     "execution_count": 13,
     "metadata": {},
     "output_type": "execute_result"
    }
   ],
   "source": [
    "%%sql\n",
    "\n",
    "SELECT CourseCode, program_name, CRN, FName, location\n",
    "FROM COURSES_WH\n",
    "    JOIN PROGRAMS_WH USING (PID)\n",
    "    JOIN CATALOGS_WH USING (CatID)\n",
    "    JOIN FACULTY_WH USING (FID)\n",
    "    JOIN LOCATIONS_WH USING (LID)\n",
    "GROUP BY CRN\n",
    "ORDER BY program_name\n",
    "LIMIT 10;"
   ]
  },
  {
   "cell_type": "markdown",
   "metadata": {},
   "source": [
    "## Demo Queries"
   ]
  },
  {
   "cell_type": "markdown",
   "metadata": {},
   "source": [
    "### What courses has Dr. Huntley taught the most?"
   ]
  },
  {
   "cell_type": "code",
   "execution_count": 14,
   "metadata": {},
   "outputs": [
    {
     "name": "stdout",
     "output_type": "stream",
     "text": [
      " * sqlite:///CourseDataWarehouse.db\n",
      "Done.\n"
     ]
    },
    {
     "data": {
      "text/html": [
       "<table>\n",
       "    <tr>\n",
       "        <th>FID</th>\n",
       "        <th>FName</th>\n",
       "        <th>CourseCode</th>\n",
       "        <th>Title</th>\n",
       "        <th>NumTaught</th>\n",
       "    </tr>\n",
       "    <tr>\n",
       "        <td>275</td>\n",
       "        <td>Christopher L.  Huntley</td>\n",
       "        <td>OM 0101</td>\n",
       "        <td>Operations Management</td>\n",
       "        <td>7</td>\n",
       "    </tr>\n",
       "    <tr>\n",
       "        <td>275</td>\n",
       "        <td>Christopher L.  Huntley</td>\n",
       "        <td>IS 0240</td>\n",
       "        <td>Systems Analysis and Logical Design</td>\n",
       "        <td>4</td>\n",
       "    </tr>\n",
       "    <tr>\n",
       "        <td>275</td>\n",
       "        <td>Christopher L.  Huntley</td>\n",
       "        <td>IS 0320</td>\n",
       "        <td>Systems Design and Implementation</td>\n",
       "        <td>4</td>\n",
       "    </tr>\n",
       "    <tr>\n",
       "        <td>275</td>\n",
       "        <td>Christopher L.  Huntley</td>\n",
       "        <td>IS 0135</td>\n",
       "        <td>Fundamentals of Web Design</td>\n",
       "        <td>3</td>\n",
       "    </tr>\n",
       "</table>"
      ],
      "text/plain": [
       "[(275, 'Christopher L.  Huntley', 'OM 0101', 'Operations Management', 7),\n",
       " (275, 'Christopher L.  Huntley', 'IS 0240', 'Systems Analysis and Logical Design', 4),\n",
       " (275, 'Christopher L.  Huntley', 'IS 0320', 'Systems Design and Implementation', 4),\n",
       " (275, 'Christopher L.  Huntley', 'IS 0135', 'Fundamentals of Web Design', 3)]"
      ]
     },
     "execution_count": 14,
     "metadata": {},
     "output_type": "execute_result"
    }
   ],
   "source": [
    "%%sql\n",
    "SELECT FID, FName,CourseCode, Title, COUNT(DISTINCT CRN) as NumTaught\n",
    "FROM FACULTY_WH\n",
    "    JOIN COURSES_WH USING (FID)\n",
    "    JOIN CATALOGS_WH USING (CatID)\n",
    "WHERE (FName like '%Huntley%')\n",
    "GROUP BY title\n",
    "ORDER BY NumTaught DESC\n",
    "LIMIT 4;"
   ]
  },
  {
   "cell_type": "markdown",
   "metadata": {},
   "source": [
    "### What rooms in DSB has Dr. Huntley taught in?"
   ]
  },
  {
   "cell_type": "code",
   "execution_count": 16,
   "metadata": {},
   "outputs": [
    {
     "name": "stdout",
     "output_type": "stream",
     "text": [
      " * sqlite:///CourseDataWarehouse.db\n",
      "Done.\n"
     ]
    },
    {
     "data": {
      "text/html": [
       "<table>\n",
       "    <tr>\n",
       "        <th>FName</th>\n",
       "        <th>location</th>\n",
       "    </tr>\n",
       "    <tr>\n",
       "        <td>Christopher L.  Huntley</td>\n",
       "        <td>DSB 104</td>\n",
       "    </tr>\n",
       "    <tr>\n",
       "        <td>Christopher L.  Huntley</td>\n",
       "        <td>DSB 106</td>\n",
       "    </tr>\n",
       "    <tr>\n",
       "        <td>Christopher L.  Huntley</td>\n",
       "        <td>DSB 107</td>\n",
       "    </tr>\n",
       "    <tr>\n",
       "        <td>Christopher L.  Huntley</td>\n",
       "        <td>DSB 108</td>\n",
       "    </tr>\n",
       "    <tr>\n",
       "        <td>Christopher L.  Huntley</td>\n",
       "        <td>DSB 109</td>\n",
       "    </tr>\n",
       "    <tr>\n",
       "        <td>Christopher L.  Huntley</td>\n",
       "        <td>DSB 110A</td>\n",
       "    </tr>\n",
       "    <tr>\n",
       "        <td>Christopher L.  Huntley</td>\n",
       "        <td>DSB 110B</td>\n",
       "    </tr>\n",
       "    <tr>\n",
       "        <td>Christopher L.  Huntley</td>\n",
       "        <td>DSB 111</td>\n",
       "    </tr>\n",
       "    <tr>\n",
       "        <td>Christopher L.  Huntley</td>\n",
       "        <td>DSB 112</td>\n",
       "    </tr>\n",
       "    <tr>\n",
       "        <td>Christopher L.  Huntley</td>\n",
       "        <td>DSB 114</td>\n",
       "    </tr>\n",
       "    <tr>\n",
       "        <td>Christopher L.  Huntley</td>\n",
       "        <td>DSB 115</td>\n",
       "    </tr>\n",
       "    <tr>\n",
       "        <td>Christopher L.  Huntley</td>\n",
       "        <td>DSB 2109A</td>\n",
       "    </tr>\n",
       "</table>"
      ],
      "text/plain": [
       "[('Christopher L.  Huntley', 'DSB 104'),\n",
       " ('Christopher L.  Huntley', 'DSB 106'),\n",
       " ('Christopher L.  Huntley', 'DSB 107'),\n",
       " ('Christopher L.  Huntley', 'DSB 108'),\n",
       " ('Christopher L.  Huntley', 'DSB 109'),\n",
       " ('Christopher L.  Huntley', 'DSB 110A'),\n",
       " ('Christopher L.  Huntley', 'DSB 110B'),\n",
       " ('Christopher L.  Huntley', 'DSB 111'),\n",
       " ('Christopher L.  Huntley', 'DSB 112'),\n",
       " ('Christopher L.  Huntley', 'DSB 114'),\n",
       " ('Christopher L.  Huntley', 'DSB 115'),\n",
       " ('Christopher L.  Huntley', 'DSB 2109A')]"
      ]
     },
     "execution_count": 16,
     "metadata": {},
     "output_type": "execute_result"
    }
   ],
   "source": [
    "%%sql\n",
    "SELECT FName, Location\n",
    "FROM FACULTY_WH\n",
    "    JOIN COURSES_WH USING (FID)\n",
    "    JOIN LOCATIONS_WH USING (LID)\n",
    "WHERE (FName like '%Huntley%') and (location like '%DSB%')\n",
    "GROUP BY location;"
   ]
  },
  {
   "cell_type": "markdown",
   "metadata": {},
   "source": [
    "## Which professors have taught an Accounting Class?"
   ]
  },
  {
   "cell_type": "code",
   "execution_count": 25,
   "metadata": {},
   "outputs": [
    {
     "name": "stdout",
     "output_type": "stream",
     "text": [
      " * sqlite:///CourseDataWarehouse.db\n",
      "Done.\n"
     ]
    },
    {
     "data": {
      "text/html": [
       "<table>\n",
       "    <tr>\n",
       "        <th>program_code</th>\n",
       "        <th>program_name</th>\n",
       "        <th>FName</th>\n",
       "    </tr>\n",
       "    <tr>\n",
       "        <td>AC</td>\n",
       "        <td>Accounting</td>\n",
       "        <td>Ahmed M.  Ebrahim</td>\n",
       "    </tr>\n",
       "    <tr>\n",
       "        <td>AC</td>\n",
       "        <td>Accounting</td>\n",
       "        <td>Arleen N.  Kardos</td>\n",
       "    </tr>\n",
       "    <tr>\n",
       "        <td>AC</td>\n",
       "        <td>Accounting</td>\n",
       "        <td>Bruce   Bradford</td>\n",
       "    </tr>\n",
       "    <tr>\n",
       "        <td>AC</td>\n",
       "        <td>Accounting</td>\n",
       "        <td>Carlos   Fernandez-Varela</td>\n",
       "    </tr>\n",
       "    <tr>\n",
       "        <td>AC</td>\n",
       "        <td>Accounting</td>\n",
       "        <td>Charles   Gill</td>\n",
       "    </tr>\n",
       "    <tr>\n",
       "        <td>AC</td>\n",
       "        <td>Accounting</td>\n",
       "        <td>David J.  Orticelli</td>\n",
       "    </tr>\n",
       "    <tr>\n",
       "        <td>AC</td>\n",
       "        <td>Accounting</td>\n",
       "        <td>David L.  Glinka</td>\n",
       "    </tr>\n",
       "    <tr>\n",
       "        <td>AC</td>\n",
       "        <td>Accounting</td>\n",
       "        <td>Dawn W  Massey</td>\n",
       "    </tr>\n",
       "    <tr>\n",
       "        <td>AC</td>\n",
       "        <td>Accounting</td>\n",
       "        <td>Gregory Patrick  Burke</td>\n",
       "    </tr>\n",
       "    <tr>\n",
       "        <td>AC</td>\n",
       "        <td>Accounting</td>\n",
       "        <td>Jenna Marie  Allegretto</td>\n",
       "    </tr>\n",
       "    <tr>\n",
       "        <td>AC</td>\n",
       "        <td>Accounting</td>\n",
       "        <td>Jo Ann   Drusbosky</td>\n",
       "    </tr>\n",
       "    <tr>\n",
       "        <td>AC</td>\n",
       "        <td>Accounting</td>\n",
       "        <td>Joan L.  Lee</td>\n",
       "    </tr>\n",
       "    <tr>\n",
       "        <td>AC</td>\n",
       "        <td>Accounting</td>\n",
       "        <td>John L.  DeMelis</td>\n",
       "    </tr>\n",
       "    <tr>\n",
       "        <td>AC</td>\n",
       "        <td>Accounting</td>\n",
       "        <td>Joseph R.  D&#x27;Agostin</td>\n",
       "    </tr>\n",
       "    <tr>\n",
       "        <td>AC</td>\n",
       "        <td>Accounting</td>\n",
       "        <td>Kara E.  Hunter</td>\n",
       "    </tr>\n",
       "    <tr>\n",
       "        <td>AC</td>\n",
       "        <td>Accounting</td>\n",
       "        <td>Kathi M.  Mettler</td>\n",
       "    </tr>\n",
       "    <tr>\n",
       "        <td>AC</td>\n",
       "        <td>Accounting</td>\n",
       "        <td>Kevin C.  Cassidy</td>\n",
       "    </tr>\n",
       "    <tr>\n",
       "        <td>AC</td>\n",
       "        <td>Accounting</td>\n",
       "        <td>Kristen   Tharrington</td>\n",
       "    </tr>\n",
       "    <tr>\n",
       "        <td>AC</td>\n",
       "        <td>Accounting</td>\n",
       "        <td>Lisa Suzanne  Haylon</td>\n",
       "    </tr>\n",
       "    <tr>\n",
       "        <td>AC</td>\n",
       "        <td>Accounting</td>\n",
       "        <td>Michael P.  Coyne</td>\n",
       "    </tr>\n",
       "    <tr>\n",
       "        <td>AC</td>\n",
       "        <td>Accounting</td>\n",
       "        <td>Michael P.  Spiro</td>\n",
       "    </tr>\n",
       "    <tr>\n",
       "        <td>AC</td>\n",
       "        <td>Accounting</td>\n",
       "        <td>Milo W.  Peck</td>\n",
       "    </tr>\n",
       "    <tr>\n",
       "        <td>AC</td>\n",
       "        <td>Accounting</td>\n",
       "        <td>Patricia M.  Poli</td>\n",
       "    </tr>\n",
       "    <tr>\n",
       "        <td>AC</td>\n",
       "        <td>Accounting</td>\n",
       "        <td>Paul   Caster</td>\n",
       "    </tr>\n",
       "    <tr>\n",
       "        <td>AC</td>\n",
       "        <td>Accounting</td>\n",
       "        <td>Rebecca I.  Bloch</td>\n",
       "    </tr>\n",
       "    <tr>\n",
       "        <td>AC</td>\n",
       "        <td>Accounting</td>\n",
       "        <td>Richard   Hunter</td>\n",
       "    </tr>\n",
       "    <tr>\n",
       "        <td>AC</td>\n",
       "        <td>Accounting</td>\n",
       "        <td>Rob   Hornak</td>\n",
       "    </tr>\n",
       "    <tr>\n",
       "        <td>AC</td>\n",
       "        <td>Accounting</td>\n",
       "        <td>Sarah Jennie  Bollinger</td>\n",
       "    </tr>\n",
       "    <tr>\n",
       "        <td>AC</td>\n",
       "        <td>Accounting</td>\n",
       "        <td>Scott M  Brenner</td>\n",
       "    </tr>\n",
       "    <tr>\n",
       "        <td>AC</td>\n",
       "        <td>Accounting</td>\n",
       "        <td>Scott R.  Colvin</td>\n",
       "    </tr>\n",
       "    <tr>\n",
       "        <td>AC</td>\n",
       "        <td>Accounting</td>\n",
       "        <td>Stephanie   Miller</td>\n",
       "    </tr>\n",
       "    <tr>\n",
       "        <td>AC</td>\n",
       "        <td>Accounting</td>\n",
       "        <td>Stephen E.  Yost</td>\n",
       "    </tr>\n",
       "    <tr>\n",
       "        <td>AC</td>\n",
       "        <td>Accounting</td>\n",
       "        <td>Tara M.  Berwick</td>\n",
       "    </tr>\n",
       "    <tr>\n",
       "        <td>AC</td>\n",
       "        <td>Accounting</td>\n",
       "        <td>Victor E.  Hartman</td>\n",
       "    </tr>\n",
       "</table>"
      ],
      "text/plain": [
       "[('AC', 'Accounting', 'Ahmed M.  Ebrahim'),\n",
       " ('AC', 'Accounting', 'Arleen N.  Kardos'),\n",
       " ('AC', 'Accounting', 'Bruce   Bradford'),\n",
       " ('AC', 'Accounting', 'Carlos   Fernandez-Varela'),\n",
       " ('AC', 'Accounting', 'Charles   Gill'),\n",
       " ('AC', 'Accounting', 'David J.  Orticelli'),\n",
       " ('AC', 'Accounting', 'David L.  Glinka'),\n",
       " ('AC', 'Accounting', 'Dawn W  Massey'),\n",
       " ('AC', 'Accounting', 'Gregory Patrick  Burke'),\n",
       " ('AC', 'Accounting', 'Jenna Marie  Allegretto'),\n",
       " ('AC', 'Accounting', 'Jo Ann   Drusbosky'),\n",
       " ('AC', 'Accounting', 'Joan L.  Lee'),\n",
       " ('AC', 'Accounting', 'John L.  DeMelis'),\n",
       " ('AC', 'Accounting', \"Joseph R.  D'Agostin\"),\n",
       " ('AC', 'Accounting', 'Kara E.  Hunter'),\n",
       " ('AC', 'Accounting', 'Kathi M.  Mettler'),\n",
       " ('AC', 'Accounting', 'Kevin C.  Cassidy'),\n",
       " ('AC', 'Accounting', 'Kristen   Tharrington'),\n",
       " ('AC', 'Accounting', 'Lisa Suzanne  Haylon'),\n",
       " ('AC', 'Accounting', 'Michael P.  Coyne'),\n",
       " ('AC', 'Accounting', 'Michael P.  Spiro'),\n",
       " ('AC', 'Accounting', 'Milo W.  Peck'),\n",
       " ('AC', 'Accounting', 'Patricia M.  Poli'),\n",
       " ('AC', 'Accounting', 'Paul   Caster'),\n",
       " ('AC', 'Accounting', 'Rebecca I.  Bloch'),\n",
       " ('AC', 'Accounting', 'Richard   Hunter'),\n",
       " ('AC', 'Accounting', 'Rob   Hornak'),\n",
       " ('AC', 'Accounting', 'Sarah Jennie  Bollinger'),\n",
       " ('AC', 'Accounting', 'Scott M  Brenner'),\n",
       " ('AC', 'Accounting', 'Scott R.  Colvin'),\n",
       " ('AC', 'Accounting', 'Stephanie   Miller'),\n",
       " ('AC', 'Accounting', 'Stephen E.  Yost'),\n",
       " ('AC', 'Accounting', 'Tara M.  Berwick'),\n",
       " ('AC', 'Accounting', 'Victor E.  Hartman')]"
      ]
     },
     "execution_count": 25,
     "metadata": {},
     "output_type": "execute_result"
    }
   ],
   "source": [
    "%%sql\n",
    "SELECT program_code, program_name, FName\n",
    "FROM COURSES_WH\n",
    "    JOIN PROGRAMS_WH USING (PID)\n",
    "    JOIN FACULTY_WH USING (FID)\n",
    "WHERE program_name like '%Accounting%'\n",
    "GROUP BY FName;"
   ]
  },
  {
   "cell_type": "code",
   "execution_count": null,
   "metadata": {},
   "outputs": [],
   "source": []
  }
 ],
 "metadata": {
  "kernelspec": {
   "display_name": "Python 3",
   "language": "python",
   "name": "python3"
  },
  "language_info": {
   "codemirror_mode": {
    "name": "ipython",
    "version": 3
   },
   "file_extension": ".py",
   "mimetype": "text/x-python",
   "name": "python",
   "nbconvert_exporter": "python",
   "pygments_lexer": "ipython3",
   "version": "3.6.5"
  }
 },
 "nbformat": 4,
 "nbformat_minor": 2
}
