{
 "cells": [
  {
   "cell_type": "markdown",
   "metadata": {},
   "source": [
    "# **Integrity Checks**\n",
    "1. <dl>\n",
    "  <dt>Domain Integrity</dt>\n",
    "  <dd>Specifies that all columns in a relational database must be declared upon a defined domain</dd>\n",
    "- <dl>\n",
    "  <dt>Entity Integrity</dt>\n",
    "  <dd>Ensuring that each row of a table has a unique and non-null primary key value</dd>\n",
    "- <dl>\n",
    "  <dt>Relational Integrity</dt>\n",
    "  <dd>If a value of one attribute of a relation references a value of another attribute, then the referenced value must exist</dd>"
   ]
  },
  {
   "cell_type": "code",
   "execution_count": 1,
   "metadata": {},
   "outputs": [
    {
     "data": {
      "text/plain": [
       "'Connected: @CourseData.db'"
      ]
     },
     "execution_count": 1,
     "metadata": {},
     "output_type": "execute_result"
    }
   ],
   "source": [
    "%load_ext sql\n",
    "%sql sqlite:///CourseData.db"
   ]
  },
  {
   "cell_type": "markdown",
   "metadata": {},
   "source": [
    "# **Domain Integrity**"
   ]
  },
  {
   "cell_type": "markdown",
   "metadata": {},
   "source": [
    "### _CATALOGS_"
   ]
  },
  {
   "cell_type": "code",
   "execution_count": 2,
   "metadata": {},
   "outputs": [
    {
     "name": "stdout",
     "output_type": "stream",
     "text": [
      " * sqlite:///CourseData.db\n",
      "Done.\n"
     ]
    },
    {
     "data": {
      "text/html": [
       "<table>\n",
       "    <tr>\n",
       "        <th>CatID</th>\n",
       "        <th>CourseCode</th>\n",
       "        <th>title</th>\n",
       "        <th>credits</th>\n",
       "        <th>prereqs</th>\n",
       "        <th>coreqs</th>\n",
       "        <th>fees</th>\n",
       "        <th>attributes</th>\n",
       "        <th>description</th>\n",
       "        <th>PID</th>\n",
       "    </tr>\n",
       "    <tr>\n",
       "        <td>1</td>\n",
       "        <td>AN 0301</td>\n",
       "        <td>Independent Study</td>\n",
       "        <td>1-3 Credits</td>\n",
       "        <td>None</td>\n",
       "        <td>None</td>\n",
       "        <td>None</td>\n",
       "        <td>None</td>\n",
       "        <td>Students undertake an individualized program of study in consultation with a director from the Asian studies faculty.</td>\n",
       "        <td>1</td>\n",
       "    </tr>\n",
       "    <tr>\n",
       "        <td>2</td>\n",
       "        <td>AN 0310</td>\n",
       "        <td>Asian Studies Seminar</td>\n",
       "        <td>3 Credits</td>\n",
       "        <td>None</td>\n",
       "        <td>None</td>\n",
       "        <td>None</td>\n",
       "        <td>None</td>\n",
       "        <td>This seminar examines selected topics concerning Asia. This course is taught in conjunction with another 100-300 level course from a rotation of course offerings. Consult the Asian Studies director to identify the conjoined course for a given semester. The seminar concentrates on topics within the parameters of the conjoined course syllabus but adds research emphasis. Students registered for this course must complete a research project, to include 300-level research, in addition to the regular research requirements of the conjoined course, and a 25-50 page term paper in substitution of some portion of the conjoined course requirements, as determined by the instructor. Open to juniors and seniors only.</td>\n",
       "        <td>1</td>\n",
       "    </tr>\n",
       "    <tr>\n",
       "        <td>3</td>\n",
       "        <td>BU 0211</td>\n",
       "        <td>Legal Environment of Business</td>\n",
       "        <td>3 Credits</td>\n",
       "        <td>Junior standing.</td>\n",
       "        <td>None</td>\n",
       "        <td>None</td>\n",
       "        <td>None</td>\n",
       "        <td>This course examines the broad philosophical as well as practical nature and function of the legal system, and introduces students to the legal and social responsibilities of business. The course includes an introduction to the legal system, the federal courts, Constitutional law, the United States Supreme Court, the civil process, and regulatory areas such as employment discrimination, protection of the environment, and corporate governance and securities markets.</td>\n",
       "        <td>2</td>\n",
       "    </tr>\n",
       "</table>"
      ],
      "text/plain": [
       "[(1, 'AN 0301', 'Independent Study', '1-3 Credits', None, None, None, None, 'Students undertake an individualized program of study in consultation with a director from the Asian studies faculty.', 1),\n",
       " (2, 'AN 0310', 'Asian Studies Seminar', '3 Credits', None, None, None, None, 'This seminar examines selected topics concerning Asia. This course is taught in conjunction with another 100-300 level course from a rotation of cour ... (412 characters truncated) ... e term paper in substitution of some portion of the conjoined course requirements, as determined by the instructor. Open to juniors and seniors only.', 1),\n",
       " (3, 'BU 0211', 'Legal Environment of Business', '3 Credits', 'Junior standing.', None, None, None, 'This course examines the broad philosophical as well as practical nature and function of the legal system, and introduces students to the legal and s ... (171 characters truncated) ... ivil process, and regulatory areas such as employment discrimination, protection of the environment, and corporate governance and securities markets.', 2)]"
      ]
     },
     "execution_count": 2,
     "metadata": {},
     "output_type": "execute_result"
    }
   ],
   "source": [
    "%%sql\n",
    "SELECT *\n",
    "FROM CATALOGS\n",
    "LIMIT 3;"
   ]
  },
  {
   "cell_type": "markdown",
   "metadata": {},
   "source": [
    "### _COURSES_"
   ]
  },
  {
   "cell_type": "code",
   "execution_count": 3,
   "metadata": {},
   "outputs": [
    {
     "name": "stdout",
     "output_type": "stream",
     "text": [
      " * sqlite:///CourseData.db\n",
      "Done.\n"
     ]
    },
    {
     "data": {
      "text/html": [
       "<table>\n",
       "    <tr>\n",
       "        <th>CID</th>\n",
       "        <th>CRN</th>\n",
       "        <th>term</th>\n",
       "        <th>section</th>\n",
       "        <th>cap</th>\n",
       "        <th>act</th>\n",
       "        <th>rem</th>\n",
       "        <th>timecodes</th>\n",
       "        <th>FID</th>\n",
       "        <th>CourseCode</th>\n",
       "    </tr>\n",
       "    <tr>\n",
       "        <td>1</td>\n",
       "        <td>70384</td>\n",
       "        <td>Fall2014</td>\n",
       "        <td>C01</td>\n",
       "        <td>0</td>\n",
       "        <td>31</td>\n",
       "        <td>-31</td>\n",
       "        <td>[&#x27;TF 0800am-0915am 09/02-12/08 DSB 105&#x27;]</td>\n",
       "        <td>1</td>\n",
       "        <td>AC 0011</td>\n",
       "    </tr>\n",
       "    <tr>\n",
       "        <td>2</td>\n",
       "        <td>70385</td>\n",
       "        <td>Fall2014</td>\n",
       "        <td>C02</td>\n",
       "        <td>0</td>\n",
       "        <td>31</td>\n",
       "        <td>-31</td>\n",
       "        <td>[&#x27;TF 0930am-1045am 09/02-12/08 DSB 105&#x27;]</td>\n",
       "        <td>1</td>\n",
       "        <td>AC 0011</td>\n",
       "    </tr>\n",
       "    <tr>\n",
       "        <td>3</td>\n",
       "        <td>70382</td>\n",
       "        <td>Fall2014</td>\n",
       "        <td>C03</td>\n",
       "        <td>0</td>\n",
       "        <td>31</td>\n",
       "        <td>-31</td>\n",
       "        <td>[&#x27;TF 1230pm-0145pm 09/02-12/08 DSB 105&#x27;]</td>\n",
       "        <td>1</td>\n",
       "        <td>AC 0011</td>\n",
       "    </tr>\n",
       "    <tr>\n",
       "        <td>4</td>\n",
       "        <td>70291</td>\n",
       "        <td>Fall2014</td>\n",
       "        <td>C04</td>\n",
       "        <td>0</td>\n",
       "        <td>29</td>\n",
       "        <td>-29</td>\n",
       "        <td>[&#x27;MR 1100am-1215pm 09/02-12/08 DSB 111&#x27;]</td>\n",
       "        <td>2</td>\n",
       "        <td>AC 0011</td>\n",
       "    </tr>\n",
       "    <tr>\n",
       "        <td>5</td>\n",
       "        <td>70350</td>\n",
       "        <td>Fall2014</td>\n",
       "        <td>C05</td>\n",
       "        <td>0</td>\n",
       "        <td>30</td>\n",
       "        <td>-30</td>\n",
       "        <td>[&#x27;MR 1230pm-0145pm 09/02-12/08 DSB 111&#x27;]</td>\n",
       "        <td>2</td>\n",
       "        <td>AC 0011</td>\n",
       "    </tr>\n",
       "</table>"
      ],
      "text/plain": [
       "[(1, 70384, 'Fall2014', 'C01', 0, 31, -31, \"['TF 0800am-0915am 09/02-12/08 DSB 105']\", 1, 'AC 0011'),\n",
       " (2, 70385, 'Fall2014', 'C02', 0, 31, -31, \"['TF 0930am-1045am 09/02-12/08 DSB 105']\", 1, 'AC 0011'),\n",
       " (3, 70382, 'Fall2014', 'C03', 0, 31, -31, \"['TF 1230pm-0145pm 09/02-12/08 DSB 105']\", 1, 'AC 0011'),\n",
       " (4, 70291, 'Fall2014', 'C04', 0, 29, -29, \"['MR 1100am-1215pm 09/02-12/08 DSB 111']\", 2, 'AC 0011'),\n",
       " (5, 70350, 'Fall2014', 'C05', 0, 30, -30, \"['MR 1230pm-0145pm 09/02-12/08 DSB 111']\", 2, 'AC 0011')]"
      ]
     },
     "execution_count": 3,
     "metadata": {},
     "output_type": "execute_result"
    }
   ],
   "source": [
    "%%sql\n",
    "SELECT *\n",
    "FROM COURSES\n",
    "LIMIT 5;"
   ]
  },
  {
   "cell_type": "markdown",
   "metadata": {},
   "source": [
    "### _COURSE MEETINGS_"
   ]
  },
  {
   "cell_type": "code",
   "execution_count": 4,
   "metadata": {},
   "outputs": [
    {
     "name": "stdout",
     "output_type": "stream",
     "text": [
      " * sqlite:///CourseData.db\n",
      "Done.\n"
     ]
    },
    {
     "data": {
      "text/html": [
       "<table>\n",
       "    <tr>\n",
       "        <th>CMID</th>\n",
       "        <th>CRN</th>\n",
       "        <th>term</th>\n",
       "        <th>location</th>\n",
       "        <th>day</th>\n",
       "        <th>Start</th>\n",
       "        <th>End</th>\n",
       "    </tr>\n",
       "    <tr>\n",
       "        <td>1</td>\n",
       "        <td>70384</td>\n",
       "        <td>Fall2014</td>\n",
       "        <td>DSB 105</td>\n",
       "        <td>T</td>\n",
       "        <td>2014-09-02T08:00:00</td>\n",
       "        <td>2014-09-02T09:15:00</td>\n",
       "    </tr>\n",
       "    <tr>\n",
       "        <td>2</td>\n",
       "        <td>70384</td>\n",
       "        <td>Fall2014</td>\n",
       "        <td>DSB 105</td>\n",
       "        <td>F</td>\n",
       "        <td>2014-09-05T08:00:00</td>\n",
       "        <td>2014-09-05T09:15:00</td>\n",
       "    </tr>\n",
       "    <tr>\n",
       "        <td>3</td>\n",
       "        <td>70384</td>\n",
       "        <td>Fall2014</td>\n",
       "        <td>DSB 105</td>\n",
       "        <td>T</td>\n",
       "        <td>2014-09-09T08:00:00</td>\n",
       "        <td>2014-09-09T09:15:00</td>\n",
       "    </tr>\n",
       "    <tr>\n",
       "        <td>4</td>\n",
       "        <td>70384</td>\n",
       "        <td>Fall2014</td>\n",
       "        <td>DSB 105</td>\n",
       "        <td>F</td>\n",
       "        <td>2014-09-12T08:00:00</td>\n",
       "        <td>2014-09-12T09:15:00</td>\n",
       "    </tr>\n",
       "    <tr>\n",
       "        <td>5</td>\n",
       "        <td>70384</td>\n",
       "        <td>Fall2014</td>\n",
       "        <td>DSB 105</td>\n",
       "        <td>T</td>\n",
       "        <td>2014-09-16T08:00:00</td>\n",
       "        <td>2014-09-16T09:15:00</td>\n",
       "    </tr>\n",
       "</table>"
      ],
      "text/plain": [
       "[(1, 70384, 'Fall2014', 'DSB 105', 'T', '2014-09-02T08:00:00', '2014-09-02T09:15:00'),\n",
       " (2, 70384, 'Fall2014', 'DSB 105', 'F', '2014-09-05T08:00:00', '2014-09-05T09:15:00'),\n",
       " (3, 70384, 'Fall2014', 'DSB 105', 'T', '2014-09-09T08:00:00', '2014-09-09T09:15:00'),\n",
       " (4, 70384, 'Fall2014', 'DSB 105', 'F', '2014-09-12T08:00:00', '2014-09-12T09:15:00'),\n",
       " (5, 70384, 'Fall2014', 'DSB 105', 'T', '2014-09-16T08:00:00', '2014-09-16T09:15:00')]"
      ]
     },
     "execution_count": 4,
     "metadata": {},
     "output_type": "execute_result"
    }
   ],
   "source": [
    "%%sql\n",
    "SELECT *\n",
    "FROM COURSE_MEETINGS\n",
    "LIMIT 5;"
   ]
  },
  {
   "cell_type": "markdown",
   "metadata": {},
   "source": [
    "### _PROGRAMS_"
   ]
  },
  {
   "cell_type": "code",
   "execution_count": 5,
   "metadata": {},
   "outputs": [
    {
     "name": "stdout",
     "output_type": "stream",
     "text": [
      " * sqlite:///CourseData.db\n",
      "Done.\n"
     ]
    },
    {
     "data": {
      "text/html": [
       "<table>\n",
       "    <tr>\n",
       "        <th>PID</th>\n",
       "        <th>program_name</th>\n",
       "        <th>program_code</th>\n",
       "    </tr>\n",
       "    <tr>\n",
       "        <td>1</td>\n",
       "        <td>Asian Studies</td>\n",
       "        <td>AN</td>\n",
       "    </tr>\n",
       "    <tr>\n",
       "        <td>2</td>\n",
       "        <td>Business</td>\n",
       "        <td>BU</td>\n",
       "    </tr>\n",
       "    <tr>\n",
       "        <td>3</td>\n",
       "        <td>Black Studies</td>\n",
       "        <td>BL</td>\n",
       "    </tr>\n",
       "    <tr>\n",
       "        <td>4</td>\n",
       "        <td>Bioengineering</td>\n",
       "        <td>BEN</td>\n",
       "    </tr>\n",
       "    <tr>\n",
       "        <td>5</td>\n",
       "        <td>Arabic</td>\n",
       "        <td>AR</td>\n",
       "    </tr>\n",
       "</table>"
      ],
      "text/plain": [
       "[(1, 'Asian Studies', 'AN'),\n",
       " (2, 'Business', 'BU'),\n",
       " (3, 'Black Studies', 'BL'),\n",
       " (4, 'Bioengineering', 'BEN'),\n",
       " (5, 'Arabic', 'AR')]"
      ]
     },
     "execution_count": 5,
     "metadata": {},
     "output_type": "execute_result"
    }
   ],
   "source": [
    "%%sql\n",
    "SELECT *\n",
    "FROM PROGRAMS\n",
    "LIMIT 5;"
   ]
  },
  {
   "cell_type": "markdown",
   "metadata": {},
   "source": [
    "### _FACULTY_"
   ]
  },
  {
   "cell_type": "code",
   "execution_count": 6,
   "metadata": {},
   "outputs": [
    {
     "name": "stdout",
     "output_type": "stream",
     "text": [
      " * sqlite:///CourseData.db\n",
      "Done.\n"
     ]
    },
    {
     "data": {
      "text/html": [
       "<table>\n",
       "    <tr>\n",
       "        <th>FID</th>\n",
       "        <th>FName</th>\n",
       "    </tr>\n",
       "    <tr>\n",
       "        <td>1</td>\n",
       "        <td>Michael P.  Coyne</td>\n",
       "    </tr>\n",
       "    <tr>\n",
       "        <td>2</td>\n",
       "        <td>Rebecca I.  Bloch</td>\n",
       "    </tr>\n",
       "    <tr>\n",
       "        <td>3</td>\n",
       "        <td>Paul   Caster</td>\n",
       "    </tr>\n",
       "    <tr>\n",
       "        <td>4</td>\n",
       "        <td>Jo Ann   Drusbosky</td>\n",
       "    </tr>\n",
       "    <tr>\n",
       "        <td>5</td>\n",
       "        <td>Arleen N.  Kardos</td>\n",
       "    </tr>\n",
       "</table>"
      ],
      "text/plain": [
       "[(1, 'Michael P.  Coyne'),\n",
       " (2, 'Rebecca I.  Bloch'),\n",
       " (3, 'Paul   Caster'),\n",
       " (4, 'Jo Ann   Drusbosky'),\n",
       " (5, 'Arleen N.  Kardos')]"
      ]
     },
     "execution_count": 6,
     "metadata": {},
     "output_type": "execute_result"
    }
   ],
   "source": [
    "%%sql\n",
    "SELECT *\n",
    "FROM FACULTY\n",
    "LIMIT 5;"
   ]
  },
  {
   "cell_type": "markdown",
   "metadata": {},
   "source": [
    "# **Entity Integrity**"
   ]
  },
  {
   "cell_type": "markdown",
   "metadata": {},
   "source": [
    "### _CATALOGS_"
   ]
  },
  {
   "cell_type": "code",
   "execution_count": 7,
   "metadata": {},
   "outputs": [
    {
     "name": "stdout",
     "output_type": "stream",
     "text": [
      " * sqlite:///CourseData.db\n",
      "Done.\n"
     ]
    },
    {
     "data": {
      "text/html": [
       "<table>\n",
       "    <tr>\n",
       "        <th>COUNT(CourseCode)</th>\n",
       "        <th>COUNT(CatID)</th>\n",
       "        <th>COUNT(CourseCode)_1</th>\n",
       "    </tr>\n",
       "    <tr>\n",
       "        <td>2220</td>\n",
       "        <td>2220</td>\n",
       "        <td>2220</td>\n",
       "    </tr>\n",
       "</table>"
      ],
      "text/plain": [
       "[(2220, 2220, 2220)]"
      ]
     },
     "execution_count": 7,
     "metadata": {},
     "output_type": "execute_result"
    }
   ],
   "source": [
    "%%sql\n",
    "SELECT DISTINCT COUNT(CourseCode), COUNT(CatID), COUNT(CourseCode)\n",
    "FROM CATALOGS;"
   ]
  },
  {
   "cell_type": "markdown",
   "metadata": {},
   "source": [
    "### _COURSES_"
   ]
  },
  {
   "cell_type": "code",
   "execution_count": 8,
   "metadata": {},
   "outputs": [
    {
     "name": "stdout",
     "output_type": "stream",
     "text": [
      " * sqlite:///CourseData.db\n",
      "Done.\n"
     ]
    },
    {
     "data": {
      "text/html": [
       "<table>\n",
       "    <tr>\n",
       "        <th>COUNT(CRN)</th>\n",
       "        <th>COUNT(CID)</th>\n",
       "        <th>COUNT(CRN)_1</th>\n",
       "    </tr>\n",
       "    <tr>\n",
       "        <td>15243</td>\n",
       "        <td>15243</td>\n",
       "        <td>15243</td>\n",
       "    </tr>\n",
       "</table>"
      ],
      "text/plain": [
       "[(15243, 15243, 15243)]"
      ]
     },
     "execution_count": 8,
     "metadata": {},
     "output_type": "execute_result"
    }
   ],
   "source": [
    "%%sql\n",
    "SELECT DISTINCT COUNT(CRN), COUNT(CID), COUNT(CRN)\n",
    "FROM COURSES;"
   ]
  },
  {
   "cell_type": "markdown",
   "metadata": {},
   "source": [
    "### _COURSE MEETINGS_"
   ]
  },
  {
   "cell_type": "code",
   "execution_count": 9,
   "metadata": {},
   "outputs": [
    {
     "name": "stdout",
     "output_type": "stream",
     "text": [
      " * sqlite:///CourseData.db\n",
      "Done.\n"
     ]
    },
    {
     "data": {
      "text/html": [
       "<table>\n",
       "    <tr>\n",
       "        <th>COUNT(location)</th>\n",
       "        <th>COUNT(CMID)</th>\n",
       "        <th>COUNT(location)_1</th>\n",
       "    </tr>\n",
       "    <tr>\n",
       "        <td>304902</td>\n",
       "        <td>304902</td>\n",
       "        <td>304902</td>\n",
       "    </tr>\n",
       "</table>"
      ],
      "text/plain": [
       "[(304902, 304902, 304902)]"
      ]
     },
     "execution_count": 9,
     "metadata": {},
     "output_type": "execute_result"
    }
   ],
   "source": [
    "%%sql\n",
    "SELECT DISTINCT COUNT(location), COUNT(CMID), COUNT(location)\n",
    "FROM COURSE_MEETINGS;"
   ]
  },
  {
   "cell_type": "markdown",
   "metadata": {},
   "source": [
    "### _PROGRAMS_"
   ]
  },
  {
   "cell_type": "code",
   "execution_count": 10,
   "metadata": {},
   "outputs": [
    {
     "name": "stdout",
     "output_type": "stream",
     "text": [
      " * sqlite:///CourseData.db\n",
      "Done.\n"
     ]
    },
    {
     "data": {
      "text/html": [
       "<table>\n",
       "    <tr>\n",
       "        <th>COUNT(program_code)</th>\n",
       "        <th>COUNT(PID)</th>\n",
       "        <th>COUNT(program_code)_1</th>\n",
       "    </tr>\n",
       "    <tr>\n",
       "        <td>83</td>\n",
       "        <td>83</td>\n",
       "        <td>83</td>\n",
       "    </tr>\n",
       "</table>"
      ],
      "text/plain": [
       "[(83, 83, 83)]"
      ]
     },
     "execution_count": 10,
     "metadata": {},
     "output_type": "execute_result"
    }
   ],
   "source": [
    "%%sql\n",
    "SELECT DISTINCT COUNT(program_code), COUNT(PID), COUNT(program_code)\n",
    "FROM PROGRAMS;"
   ]
  },
  {
   "cell_type": "markdown",
   "metadata": {},
   "source": [
    "### _FACULTY_"
   ]
  },
  {
   "cell_type": "code",
   "execution_count": 11,
   "metadata": {},
   "outputs": [
    {
     "name": "stdout",
     "output_type": "stream",
     "text": [
      " * sqlite:///CourseData.db\n",
      "Done.\n"
     ]
    },
    {
     "data": {
      "text/html": [
       "<table>\n",
       "    <tr>\n",
       "        <th>COUNT(FName)</th>\n",
       "        <th>COUNT(FID)</th>\n",
       "        <th>COUNT(FName)_1</th>\n",
       "    </tr>\n",
       "    <tr>\n",
       "        <td>1104</td>\n",
       "        <td>1104</td>\n",
       "        <td>1104</td>\n",
       "    </tr>\n",
       "</table>"
      ],
      "text/plain": [
       "[(1104, 1104, 1104)]"
      ]
     },
     "execution_count": 11,
     "metadata": {},
     "output_type": "execute_result"
    }
   ],
   "source": [
    "%%sql\n",
    "SELECT DISTINCT COUNT(FName), COUNT(FID), COUNT(FName)\n",
    "FROM FACULTY;"
   ]
  },
  {
   "cell_type": "markdown",
   "metadata": {},
   "source": [
    "## Relational Integrity"
   ]
  },
  {
   "cell_type": "code",
   "execution_count": 12,
   "metadata": {},
   "outputs": [
    {
     "name": "stdout",
     "output_type": "stream",
     "text": [
      " * sqlite:///CourseData.db\n",
      "Done.\n"
     ]
    },
    {
     "data": {
      "text/html": [
       "<table>\n",
       "    <tr>\n",
       "        <th>CourseCode</th>\n",
       "        <th>program_name</th>\n",
       "        <th>CRN</th>\n",
       "        <th>FName</th>\n",
       "        <th>location</th>\n",
       "    </tr>\n",
       "    <tr>\n",
       "        <td>AC 0555</td>\n",
       "        <td>Accounting</td>\n",
       "        <td>10913</td>\n",
       "        <td>Dawn W  Massey</td>\n",
       "        <td>DSB 115</td>\n",
       "    </tr>\n",
       "    <tr>\n",
       "        <td>AC 0555</td>\n",
       "        <td>Accounting</td>\n",
       "        <td>11618</td>\n",
       "        <td>Dawn W  Massey</td>\n",
       "        <td>DSB 104</td>\n",
       "    </tr>\n",
       "    <tr>\n",
       "        <td>AC 0204</td>\n",
       "        <td>Accounting</td>\n",
       "        <td>31036</td>\n",
       "        <td>Milo W.  Peck</td>\n",
       "        <td>DSB 110A</td>\n",
       "    </tr>\n",
       "    <tr>\n",
       "        <td>AC 0204</td>\n",
       "        <td>Accounting</td>\n",
       "        <td>31072</td>\n",
       "        <td>Milo W.  Peck</td>\n",
       "        <td>DSB 110A</td>\n",
       "    </tr>\n",
       "    <tr>\n",
       "        <td>AC 0345</td>\n",
       "        <td>Accounting</td>\n",
       "        <td>31090</td>\n",
       "        <td>Kathi M.  Mettler</td>\n",
       "        <td>DSB 2109A</td>\n",
       "    </tr>\n",
       "    <tr>\n",
       "        <td>AC 0012</td>\n",
       "        <td>Accounting</td>\n",
       "        <td>31092</td>\n",
       "        <td>Rebecca I.  Bloch</td>\n",
       "        <td>DSB 108</td>\n",
       "    </tr>\n",
       "    <tr>\n",
       "        <td>AC 0203</td>\n",
       "        <td>Accounting</td>\n",
       "        <td>31148</td>\n",
       "        <td>Rebecca I.  Bloch</td>\n",
       "        <td>DSB 104</td>\n",
       "    </tr>\n",
       "    <tr>\n",
       "        <td>AC 0310</td>\n",
       "        <td>Accounting</td>\n",
       "        <td>31158</td>\n",
       "        <td>Lisa Suzanne  Haylon</td>\n",
       "        <td>DSB 106</td>\n",
       "    </tr>\n",
       "    <tr>\n",
       "        <td>AC 0012</td>\n",
       "        <td>Accounting</td>\n",
       "        <td>31177</td>\n",
       "        <td>Rebecca I.  Bloch</td>\n",
       "        <td>DSB 108</td>\n",
       "    </tr>\n",
       "    <tr>\n",
       "        <td>AC 0012</td>\n",
       "        <td>Accounting</td>\n",
       "        <td>31194</td>\n",
       "        <td>Bruce   Bradford</td>\n",
       "        <td>DSB 104</td>\n",
       "    </tr>\n",
       "</table>"
      ],
      "text/plain": [
       "[('AC 0555', 'Accounting', 10913, 'Dawn W  Massey', 'DSB 115'),\n",
       " ('AC 0555', 'Accounting', 11618, 'Dawn W  Massey', 'DSB 104'),\n",
       " ('AC 0204', 'Accounting', 31036, 'Milo W.  Peck', 'DSB 110A'),\n",
       " ('AC 0204', 'Accounting', 31072, 'Milo W.  Peck', 'DSB 110A'),\n",
       " ('AC 0345', 'Accounting', 31090, 'Kathi M.  Mettler', 'DSB 2109A'),\n",
       " ('AC 0012', 'Accounting', 31092, 'Rebecca I.  Bloch', 'DSB 108'),\n",
       " ('AC 0203', 'Accounting', 31148, 'Rebecca I.  Bloch', 'DSB 104'),\n",
       " ('AC 0310', 'Accounting', 31158, 'Lisa Suzanne  Haylon', 'DSB 106'),\n",
       " ('AC 0012', 'Accounting', 31177, 'Rebecca I.  Bloch', 'DSB 108'),\n",
       " ('AC 0012', 'Accounting', 31194, 'Bruce   Bradford', 'DSB 104')]"
      ]
     },
     "execution_count": 12,
     "metadata": {},
     "output_type": "execute_result"
    }
   ],
   "source": [
    "%%sql\n",
    "\n",
    "SELECT CourseCode, program_name, CRN, FName, location\n",
    "FROM CATALOGS\n",
    "    JOIN PROGRAMS USING (PID)\n",
    "    JOIN COURSES USING (CourseCode)\n",
    "    JOIN FACULTY USING (FID)\n",
    "    JOIN COURSE_MEETINGS USING (CRN)\n",
    "GROUP BY CRN\n",
    "ORDER BY program_name\n",
    "LIMIT 10;"
   ]
  },
  {
   "cell_type": "markdown",
   "metadata": {},
   "source": [
    "## Queries"
   ]
  },
  {
   "cell_type": "markdown",
   "metadata": {},
   "source": [
    "### How many courses have Dr. Huntley and Dr. Tao taught?"
   ]
  },
  {
   "cell_type": "code",
   "execution_count": 18,
   "metadata": {},
   "outputs": [
    {
     "name": "stdout",
     "output_type": "stream",
     "text": [
      " * sqlite:///CourseData.db\n",
      "Done.\n"
     ]
    },
    {
     "data": {
      "text/html": [
       "<table>\n",
       "    <tr>\n",
       "        <th>FID</th>\n",
       "        <th>FName</th>\n",
       "        <th>NumCourses</th>\n",
       "    </tr>\n",
       "    <tr>\n",
       "        <td>275</td>\n",
       "        <td>Christopher L.  Huntley</td>\n",
       "        <td>28</td>\n",
       "    </tr>\n",
       "</table>"
      ],
      "text/plain": [
       "[(275, 'Christopher L.  Huntley', 28)]"
      ]
     },
     "execution_count": 18,
     "metadata": {},
     "output_type": "execute_result"
    }
   ],
   "source": [
    "%%sql\n",
    "SELECT FID,FName, COUNT(DISTINCT CRN) AS NumCourses\n",
    "FROM FACULTY\n",
    "    JOIN COURSES USING (FID)\n",
    "WHERE (FName like '%Huntley%');"
   ]
  },
  {
   "cell_type": "code",
   "execution_count": 19,
   "metadata": {},
   "outputs": [
    {
     "name": "stdout",
     "output_type": "stream",
     "text": [
      " * sqlite:///CourseData.db\n",
      "Done.\n"
     ]
    },
    {
     "data": {
      "text/html": [
       "<table>\n",
       "    <tr>\n",
       "        <th>FID</th>\n",
       "        <th>FName</th>\n",
       "        <th>NumCourses</th>\n",
       "    </tr>\n",
       "    <tr>\n",
       "        <td>619</td>\n",
       "        <td>Jie   Tao</td>\n",
       "        <td>28</td>\n",
       "    </tr>\n",
       "</table>"
      ],
      "text/plain": [
       "[(619, 'Jie   Tao', 28)]"
      ]
     },
     "execution_count": 19,
     "metadata": {},
     "output_type": "execute_result"
    }
   ],
   "source": [
    "%%sql\n",
    "\n",
    "SELECT FID,FName, COUNT(DISTINCT CRN) AS NumCourses\n",
    "FROM FACULTY\n",
    "    JOIN COURSES USING (FID)\n",
    "WHERE (FName like '%Tao%');"
   ]
  },
  {
   "cell_type": "markdown",
   "metadata": {},
   "source": [
    "### What courses has Dr. Huntley taught the most?"
   ]
  },
  {
   "cell_type": "code",
   "execution_count": 20,
   "metadata": {},
   "outputs": [
    {
     "name": "stdout",
     "output_type": "stream",
     "text": [
      " * sqlite:///CourseData.db\n",
      "Done.\n"
     ]
    },
    {
     "data": {
      "text/html": [
       "<table>\n",
       "    <tr>\n",
       "        <th>FID</th>\n",
       "        <th>FName</th>\n",
       "        <th>CourseCode</th>\n",
       "        <th>title</th>\n",
       "        <th>NumTaught</th>\n",
       "    </tr>\n",
       "    <tr>\n",
       "        <td>275</td>\n",
       "        <td>Christopher L.  Huntley</td>\n",
       "        <td>OM 0101</td>\n",
       "        <td>Operations Management</td>\n",
       "        <td>7</td>\n",
       "    </tr>\n",
       "    <tr>\n",
       "        <td>275</td>\n",
       "        <td>Christopher L.  Huntley</td>\n",
       "        <td>IS 0240</td>\n",
       "        <td>Systems Analysis and Logical Design</td>\n",
       "        <td>4</td>\n",
       "    </tr>\n",
       "    <tr>\n",
       "        <td>275</td>\n",
       "        <td>Christopher L.  Huntley</td>\n",
       "        <td>IS 0320</td>\n",
       "        <td>Systems Design and Implementation</td>\n",
       "        <td>4</td>\n",
       "    </tr>\n",
       "    <tr>\n",
       "        <td>275</td>\n",
       "        <td>Christopher L.  Huntley</td>\n",
       "        <td>IS 0135</td>\n",
       "        <td>Fundamentals of Web Design</td>\n",
       "        <td>3</td>\n",
       "    </tr>\n",
       "</table>"
      ],
      "text/plain": [
       "[(275, 'Christopher L.  Huntley', 'OM 0101', 'Operations Management', 7),\n",
       " (275, 'Christopher L.  Huntley', 'IS 0240', 'Systems Analysis and Logical Design', 4),\n",
       " (275, 'Christopher L.  Huntley', 'IS 0320', 'Systems Design and Implementation', 4),\n",
       " (275, 'Christopher L.  Huntley', 'IS 0135', 'Fundamentals of Web Design', 3)]"
      ]
     },
     "execution_count": 20,
     "metadata": {},
     "output_type": "execute_result"
    }
   ],
   "source": [
    "%%sql\n",
    "SELECT FID, FName,CourseCode, title, COUNT(DISTINCT CRN) as NumTaught\n",
    "FROM FACULTY\n",
    "    JOIN COURSES USING (FID)\n",
    "    JOIN CATALOGS USING (CourseCode)\n",
    "WHERE (FName like '%Huntley%')\n",
    "GROUP BY title\n",
    "ORDER BY NumTaught DESC\n",
    "LIMIT 4;"
   ]
  },
  {
   "cell_type": "markdown",
   "metadata": {},
   "source": [
    "### What rooms in DSB has Dr. Huntley taught in?"
   ]
  },
  {
   "cell_type": "code",
   "execution_count": 41,
   "metadata": {},
   "outputs": [
    {
     "name": "stdout",
     "output_type": "stream",
     "text": [
      " * sqlite:///CourseData.db\n",
      "Done.\n"
     ]
    },
    {
     "data": {
      "text/html": [
       "<table>\n",
       "    <tr>\n",
       "        <th>FName</th>\n",
       "        <th>location</th>\n",
       "    </tr>\n",
       "    <tr>\n",
       "        <td>Christopher L.  Huntley</td>\n",
       "        <td>DSB 104</td>\n",
       "    </tr>\n",
       "    <tr>\n",
       "        <td>Christopher L.  Huntley</td>\n",
       "        <td>DSB 106</td>\n",
       "    </tr>\n",
       "    <tr>\n",
       "        <td>Christopher L.  Huntley</td>\n",
       "        <td>DSB 107</td>\n",
       "    </tr>\n",
       "    <tr>\n",
       "        <td>Christopher L.  Huntley</td>\n",
       "        <td>DSB 108</td>\n",
       "    </tr>\n",
       "    <tr>\n",
       "        <td>Christopher L.  Huntley</td>\n",
       "        <td>DSB 109</td>\n",
       "    </tr>\n",
       "    <tr>\n",
       "        <td>Christopher L.  Huntley</td>\n",
       "        <td>DSB 110A</td>\n",
       "    </tr>\n",
       "    <tr>\n",
       "        <td>Christopher L.  Huntley</td>\n",
       "        <td>DSB 110B</td>\n",
       "    </tr>\n",
       "    <tr>\n",
       "        <td>Christopher L.  Huntley</td>\n",
       "        <td>DSB 111</td>\n",
       "    </tr>\n",
       "    <tr>\n",
       "        <td>Christopher L.  Huntley</td>\n",
       "        <td>DSB 112</td>\n",
       "    </tr>\n",
       "    <tr>\n",
       "        <td>Christopher L.  Huntley</td>\n",
       "        <td>DSB 114</td>\n",
       "    </tr>\n",
       "    <tr>\n",
       "        <td>Christopher L.  Huntley</td>\n",
       "        <td>DSB 115</td>\n",
       "    </tr>\n",
       "    <tr>\n",
       "        <td>Christopher L.  Huntley</td>\n",
       "        <td>DSB 2109A</td>\n",
       "    </tr>\n",
       "</table>"
      ],
      "text/plain": [
       "[('Christopher L.  Huntley', 'DSB 104'),\n",
       " ('Christopher L.  Huntley', 'DSB 106'),\n",
       " ('Christopher L.  Huntley', 'DSB 107'),\n",
       " ('Christopher L.  Huntley', 'DSB 108'),\n",
       " ('Christopher L.  Huntley', 'DSB 109'),\n",
       " ('Christopher L.  Huntley', 'DSB 110A'),\n",
       " ('Christopher L.  Huntley', 'DSB 110B'),\n",
       " ('Christopher L.  Huntley', 'DSB 111'),\n",
       " ('Christopher L.  Huntley', 'DSB 112'),\n",
       " ('Christopher L.  Huntley', 'DSB 114'),\n",
       " ('Christopher L.  Huntley', 'DSB 115'),\n",
       " ('Christopher L.  Huntley', 'DSB 2109A')]"
      ]
     },
     "execution_count": 41,
     "metadata": {},
     "output_type": "execute_result"
    }
   ],
   "source": [
    "%%sql\n",
    "SELECT FName, Location\n",
    "FROM COURSE_MEETINGS\n",
    "    JOIN COURSES USING (CRN)\n",
    "    JOIN FACULTY USING (FID)\n",
    "WHERE (FName like '%Huntley%') and (location like '%DSB%')\n",
    "GROUP BY location\n",
    "ORDER BY location;"
   ]
  },
  {
   "cell_type": "markdown",
   "metadata": {},
   "source": [
    "## Which programs have the most average students per course?"
   ]
  },
  {
   "cell_type": "code",
   "execution_count": 60,
   "metadata": {},
   "outputs": [
    {
     "name": "stdout",
     "output_type": "stream",
     "text": [
      " * sqlite:///CourseData.db\n",
      "Done.\n"
     ]
    },
    {
     "data": {
      "text/html": [
       "<table>\n",
       "    <tr>\n",
       "        <th>program_name</th>\n",
       "        <th>AvgStudents</th>\n",
       "    </tr>\n",
       "    <tr>\n",
       "        <td>Operations Management</td>\n",
       "        <td>24.4375</td>\n",
       "    </tr>\n",
       "    <tr>\n",
       "        <td>Applied Ethics</td>\n",
       "        <td>23.14207650273224</td>\n",
       "    </tr>\n",
       "    <tr>\n",
       "        <td>Marketing</td>\n",
       "        <td>22.84659090909091</td>\n",
       "    </tr>\n",
       "    <tr>\n",
       "        <td>Religious Studies</td>\n",
       "        <td>22.261176470588236</td>\n",
       "    </tr>\n",
       "    <tr>\n",
       "        <td>Honors</td>\n",
       "        <td>21.154929577464788</td>\n",
       "    </tr>\n",
       "    <tr>\n",
       "        <td>Management</td>\n",
       "        <td>20.857526881720432</td>\n",
       "    </tr>\n",
       "    <tr>\n",
       "        <td>Accounting</td>\n",
       "        <td>20.62977867203219</td>\n",
       "    </tr>\n",
       "    <tr>\n",
       "        <td>History</td>\n",
       "        <td>20.319444444444443</td>\n",
       "    </tr>\n",
       "    <tr>\n",
       "        <td>Mathematics</td>\n",
       "        <td>20.208211143695014</td>\n",
       "    </tr>\n",
       "    <tr>\n",
       "        <td>Health Studies</td>\n",
       "        <td>20.133333333333333</td>\n",
       "    </tr>\n",
       "    <tr>\n",
       "        <td>Philosophy</td>\n",
       "        <td>19.962025316455698</td>\n",
       "    </tr>\n",
       "    <tr>\n",
       "        <td>Engineering</td>\n",
       "        <td>19.88157894736842</td>\n",
       "    </tr>\n",
       "    <tr>\n",
       "        <td>Economics</td>\n",
       "        <td>19.497435897435896</td>\n",
       "    </tr>\n",
       "    <tr>\n",
       "        <td>Finance</td>\n",
       "        <td>19.4916864608076</td>\n",
       "    </tr>\n",
       "    <tr>\n",
       "        <td>Information Systems</td>\n",
       "        <td>19.393617021276597</td>\n",
       "    </tr>\n",
       "    <tr>\n",
       "        <td>Anthropology</td>\n",
       "        <td>19.10924369747899</td>\n",
       "    </tr>\n",
       "    <tr>\n",
       "        <td>Sociology</td>\n",
       "        <td>18.637755102040817</td>\n",
       "    </tr>\n",
       "    <tr>\n",
       "        <td>English</td>\n",
       "        <td>18.023121387283236</td>\n",
       "    </tr>\n",
       "    <tr>\n",
       "        <td>Art History</td>\n",
       "        <td>17.881720430107528</td>\n",
       "    </tr>\n",
       "    <tr>\n",
       "        <td>Taxation</td>\n",
       "        <td>17.613636363636363</td>\n",
       "    </tr>\n",
       "    <tr>\n",
       "        <td>Quantitative Analysis</td>\n",
       "        <td>16.9</td>\n",
       "    </tr>\n",
       "    <tr>\n",
       "        <td>Physics</td>\n",
       "        <td>16.027397260273972</td>\n",
       "    </tr>\n",
       "    <tr>\n",
       "        <td>Biology</td>\n",
       "        <td>15.740571428571428</td>\n",
       "    </tr>\n",
       "    <tr>\n",
       "        <td>Nursing</td>\n",
       "        <td>15.643502432244615</td>\n",
       "    </tr>\n",
       "    <tr>\n",
       "        <td>Computer Science</td>\n",
       "        <td>15.529411764705882</td>\n",
       "    </tr>\n",
       "    <tr>\n",
       "        <td>Classical Studies</td>\n",
       "        <td>15.514285714285714</td>\n",
       "    </tr>\n",
       "    <tr>\n",
       "        <td>Latin</td>\n",
       "        <td>15.38888888888889</td>\n",
       "    </tr>\n",
       "    <tr>\n",
       "        <td>Communication</td>\n",
       "        <td>15.267241379310345</td>\n",
       "    </tr>\n",
       "</table>"
      ],
      "text/plain": [
       "[('Operations Management', 24.4375),\n",
       " ('Applied Ethics', 23.14207650273224),\n",
       " ('Marketing', 22.84659090909091),\n",
       " ('Religious Studies', 22.261176470588236),\n",
       " ('Honors', 21.154929577464788),\n",
       " ('Management', 20.857526881720432),\n",
       " ('Accounting', 20.62977867203219),\n",
       " ('History', 20.319444444444443),\n",
       " ('Mathematics', 20.208211143695014),\n",
       " ('Health Studies', 20.133333333333333),\n",
       " ('Philosophy', 19.962025316455698),\n",
       " ('Engineering', 19.88157894736842),\n",
       " ('Economics', 19.497435897435896),\n",
       " ('Finance', 19.4916864608076),\n",
       " ('Information Systems', 19.393617021276597),\n",
       " ('Anthropology', 19.10924369747899),\n",
       " ('Sociology', 18.637755102040817),\n",
       " ('English', 18.023121387283236),\n",
       " ('Art History', 17.881720430107528),\n",
       " ('Taxation', 17.613636363636363),\n",
       " ('Quantitative Analysis', 16.9),\n",
       " ('Physics', 16.027397260273972),\n",
       " ('Biology', 15.740571428571428),\n",
       " ('Nursing', 15.643502432244615),\n",
       " ('Computer Science', 15.529411764705882),\n",
       " ('Classical Studies', 15.514285714285714),\n",
       " ('Latin', 15.38888888888889),\n",
       " ('Communication', 15.267241379310345)]"
      ]
     },
     "execution_count": 60,
     "metadata": {},
     "output_type": "execute_result"
    }
   ],
   "source": [
    "%%sql\n",
    "SELECT program_name, AVG(act) AS AvgStudents\n",
    "FROM PROGRAMS\n",
    "    JOIN CATALOGS USING (PID)\n",
    "    JOIN COURSES USING (CourseCode)\n",
    "    JOIN FACULTY USING (FID)\n",
    "GROUP BY program_name\n",
    "HAVING AvgStudents > 15\n",
    "ORDER BY AvgStudents DESC;"
   ]
  },
  {
   "cell_type": "code",
   "execution_count": null,
   "metadata": {},
   "outputs": [],
   "source": []
  }
 ],
 "metadata": {
  "kernelspec": {
   "display_name": "Python 3",
   "language": "python",
   "name": "python3"
  },
  "language_info": {
   "codemirror_mode": {
    "name": "ipython",
    "version": 3
   },
   "file_extension": ".py",
   "mimetype": "text/x-python",
   "name": "python",
   "nbconvert_exporter": "python",
   "pygments_lexer": "ipython3",
   "version": "3.6.5"
  }
 },
 "nbformat": 4,
 "nbformat_minor": 2
}
