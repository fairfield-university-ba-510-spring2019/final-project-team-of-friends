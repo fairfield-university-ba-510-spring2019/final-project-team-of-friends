{
 "cells": [
  {
   "cell_type": "markdown",
   "metadata": {},
   "source": [
    "# Integrity Check\n",
    "1. <dl>\n",
    "  <dt>Domain Integrity</dt>\n",
    "  <dd>Specifies that all columns in a relational database must be declared upon a defined domain</dd>\n",
    "- <dl>\n",
    "  <dt>Entity Integrity</dt>\n",
    "  <dd>Ensuring that each row of a table has a unique and non-null primary key value</dd>\n",
    "- <dl>\n",
    "  <dt>Relational Integrity</dt>\n",
    "  <dd>If a value of one attribute of a relation references a value of another attribute, then the referenced value must exist</dd>"
   ]
  },
  {
   "cell_type": "code",
   "execution_count": 1,
   "metadata": {},
   "outputs": [
    {
     "data": {
      "text/plain": [
       "'Connected: @CourseData.db'"
      ]
     },
     "execution_count": 1,
     "metadata": {},
     "output_type": "execute_result"
    }
   ],
   "source": [
    "%load_ext sql\n",
    "%sql sqlite:///CourseData.db"
   ]
  },
  {
   "cell_type": "markdown",
   "metadata": {},
   "source": [
    "## **Entity Integrity**"
   ]
  },
  {
   "cell_type": "markdown",
   "metadata": {},
   "source": [
    "### _CATALOGS_"
   ]
  },
  {
   "cell_type": "code",
   "execution_count": 5,
   "metadata": {},
   "outputs": [
    {
     "name": "stdout",
     "output_type": "stream",
     "text": [
      " * sqlite:///CourseData.db\n",
      "Done.\n"
     ]
    },
    {
     "data": {
      "text/html": [
       "<table>\n",
       "    <tr>\n",
       "        <th>COUNT(CourseCode)</th>\n",
       "        <th>COUNT(CatID)</th>\n",
       "        <th>COUNT(CourseCode)_1</th>\n",
       "    </tr>\n",
       "    <tr>\n",
       "        <td>4440</td>\n",
       "        <td>4440</td>\n",
       "        <td>4440</td>\n",
       "    </tr>\n",
       "</table>"
      ],
      "text/plain": [
       "[(4440, 4440, 4440)]"
      ]
     },
     "execution_count": 5,
     "metadata": {},
     "output_type": "execute_result"
    }
   ],
   "source": [
    "%%sql\n",
    "SELECT DISTINCT COUNT(CourseCode), COUNT(CatID), COUNT(CourseCode)\n",
    "FROM CATALOGS;"
   ]
  },
  {
   "cell_type": "markdown",
   "metadata": {},
   "source": [
    "### _COURSES_"
   ]
  },
  {
   "cell_type": "code",
   "execution_count": 11,
   "metadata": {},
   "outputs": [
    {
     "name": "stdout",
     "output_type": "stream",
     "text": [
      " * sqlite:///CourseData.db\n",
      "Done.\n"
     ]
    },
    {
     "data": {
      "text/html": [
       "<table>\n",
       "    <tr>\n",
       "        <th>COUNT(CRN)</th>\n",
       "        <th>COUNT(CID)</th>\n",
       "        <th>COUNT(CRN)_1</th>\n",
       "    </tr>\n",
       "    <tr>\n",
       "        <td>15243</td>\n",
       "        <td>15243</td>\n",
       "        <td>15243</td>\n",
       "    </tr>\n",
       "</table>"
      ],
      "text/plain": [
       "[(15243, 15243, 15243)]"
      ]
     },
     "execution_count": 11,
     "metadata": {},
     "output_type": "execute_result"
    }
   ],
   "source": [
    "%%sql\n",
    "SELECT DISTINCT COUNT(CRN), COUNT(CID), COUNT(CRN)\n",
    "FROM COURSES;"
   ]
  },
  {
   "cell_type": "markdown",
   "metadata": {},
   "source": [
    "### _COURSE MEETINGS_"
   ]
  },
  {
   "cell_type": "code",
   "execution_count": 7,
   "metadata": {},
   "outputs": [
    {
     "name": "stdout",
     "output_type": "stream",
     "text": [
      " * sqlite:///CourseData.db\n",
      "Done.\n"
     ]
    },
    {
     "data": {
      "text/html": [
       "<table>\n",
       "    <tr>\n",
       "        <th>COUNT(location)</th>\n",
       "        <th>COUNT(CMID)</th>\n",
       "        <th>COUNT(location)_1</th>\n",
       "    </tr>\n",
       "    <tr>\n",
       "        <td>304902</td>\n",
       "        <td>304902</td>\n",
       "        <td>304902</td>\n",
       "    </tr>\n",
       "</table>"
      ],
      "text/plain": [
       "[(304902, 304902, 304902)]"
      ]
     },
     "execution_count": 7,
     "metadata": {},
     "output_type": "execute_result"
    }
   ],
   "source": [
    "%%sql\n",
    "SELECT DISTINCT COUNT(location), COUNT(CMID), COUNT(location)\n",
    "FROM COURSE_MEETINGS;"
   ]
  },
  {
   "cell_type": "markdown",
   "metadata": {},
   "source": [
    "### _PROGRAMS_"
   ]
  },
  {
   "cell_type": "code",
   "execution_count": 10,
   "metadata": {},
   "outputs": [
    {
     "name": "stdout",
     "output_type": "stream",
     "text": [
      " * sqlite:///CourseData.db\n",
      "Done.\n"
     ]
    },
    {
     "data": {
      "text/html": [
       "<table>\n",
       "    <tr>\n",
       "        <th>COUNT(program_code)</th>\n",
       "        <th>COUNT(PID)</th>\n",
       "        <th>COUNT(program_code)_1</th>\n",
       "    </tr>\n",
       "    <tr>\n",
       "        <td>83</td>\n",
       "        <td>83</td>\n",
       "        <td>83</td>\n",
       "    </tr>\n",
       "</table>"
      ],
      "text/plain": [
       "[(83, 83, 83)]"
      ]
     },
     "execution_count": 10,
     "metadata": {},
     "output_type": "execute_result"
    }
   ],
   "source": [
    "%%sql\n",
    "SELECT DISTINCT COUNT(program_code), COUNT(PID), COUNT(program_code)\n",
    "FROM PROGRAMS;"
   ]
  },
  {
   "cell_type": "markdown",
   "metadata": {},
   "source": [
    "### _FACULTY_"
   ]
  },
  {
   "cell_type": "code",
   "execution_count": 9,
   "metadata": {},
   "outputs": [
    {
     "name": "stdout",
     "output_type": "stream",
     "text": [
      " * sqlite:///CourseData.db\n",
      "Done.\n"
     ]
    },
    {
     "data": {
      "text/html": [
       "<table>\n",
       "    <tr>\n",
       "        <th>COUNT(FName)</th>\n",
       "        <th>COUNT(FID)</th>\n",
       "        <th>COUNT(FName)_1</th>\n",
       "    </tr>\n",
       "    <tr>\n",
       "        <td>1104</td>\n",
       "        <td>1104</td>\n",
       "        <td>1104</td>\n",
       "    </tr>\n",
       "</table>"
      ],
      "text/plain": [
       "[(1104, 1104, 1104)]"
      ]
     },
     "execution_count": 9,
     "metadata": {},
     "output_type": "execute_result"
    }
   ],
   "source": [
    "%%sql\n",
    "SELECT DISTINCT COUNT(FName), COUNT(FID), COUNT(FName)\n",
    "FROM FACULTY;"
   ]
  },
  {
   "cell_type": "markdown",
   "metadata": {},
   "source": [
    "## Relational Integrity"
   ]
  },
  {
   "cell_type": "code",
   "execution_count": 3,
   "metadata": {},
   "outputs": [
    {
     "name": "stdout",
     "output_type": "stream",
     "text": [
      " * sqlite:///CourseData.db\n",
      "Done.\n"
     ]
    },
    {
     "data": {
      "text/html": [
       "<table>\n",
       "    <tr>\n",
       "        <th>CRN</th>\n",
       "        <th>title</th>\n",
       "        <th>act</th>\n",
       "        <th>rem</th>\n",
       "    </tr>\n",
       "    <tr>\n",
       "        <td>10894</td>\n",
       "        <td>Human Communication Theories</td>\n",
       "        <td>14</td>\n",
       "        <td>6</td>\n",
       "    </tr>\n",
       "    <tr>\n",
       "        <td>10895</td>\n",
       "        <td>Intercultural Communication</td>\n",
       "        <td>11</td>\n",
       "        <td>9</td>\n",
       "    </tr>\n",
       "    <tr>\n",
       "        <td>10896</td>\n",
       "        <td>Family Communication</td>\n",
       "        <td>12</td>\n",
       "        <td>3</td>\n",
       "    </tr>\n",
       "    <tr>\n",
       "        <td>10898</td>\n",
       "        <td>Introduction to Microeconomics</td>\n",
       "        <td>9</td>\n",
       "        <td>11</td>\n",
       "    </tr>\n",
       "    <tr>\n",
       "        <td>10901</td>\n",
       "        <td>Business Writing</td>\n",
       "        <td>8</td>\n",
       "        <td>12</td>\n",
       "    </tr>\n",
       "    <tr>\n",
       "        <td>10902</td>\n",
       "        <td>Introduction to Probability and Statistics</td>\n",
       "        <td>16</td>\n",
       "        <td>4</td>\n",
       "    </tr>\n",
       "    <tr>\n",
       "        <td>10904</td>\n",
       "        <td>United States Foreign Policy</td>\n",
       "        <td>19</td>\n",
       "        <td>1</td>\n",
       "    </tr>\n",
       "    <tr>\n",
       "        <td>10906</td>\n",
       "        <td>Criminal Justice System Seminar</td>\n",
       "        <td>11</td>\n",
       "        <td>4</td>\n",
       "    </tr>\n",
       "    <tr>\n",
       "        <td>10907</td>\n",
       "        <td>Methods for School Library Media</td>\n",
       "        <td>10</td>\n",
       "        <td>6</td>\n",
       "    </tr>\n",
       "    <tr>\n",
       "        <td>10908</td>\n",
       "        <td>Leadership</td>\n",
       "        <td>3</td>\n",
       "        <td>12</td>\n",
       "    </tr>\n",
       "</table>"
      ],
      "text/plain": [
       "[(10894, 'Human Communication Theories', 14, 6),\n",
       " (10895, 'Intercultural Communication', 11, 9),\n",
       " (10896, 'Family Communication', 12, 3),\n",
       " (10898, 'Introduction to Microeconomics', 9, 11),\n",
       " (10901, 'Business Writing', 8, 12),\n",
       " (10902, 'Introduction to Probability and Statistics', 16, 4),\n",
       " (10904, 'United States Foreign Policy', 19, 1),\n",
       " (10906, 'Criminal Justice System Seminar', 11, 4),\n",
       " (10907, 'Methods for School Library Media', 10, 6),\n",
       " (10908, 'Leadership', 3, 12)]"
      ]
     },
     "execution_count": 3,
     "metadata": {},
     "output_type": "execute_result"
    }
   ],
   "source": [
    "%%sql\n",
    "SELECT CRN, title, act, rem\n",
    "FROM COURSES\n",
    "WHERE rem > 0\n",
    "GROUP BY crn\n",
    "LIMIT (10);"
   ]
  },
  {
   "cell_type": "code",
   "execution_count": null,
   "metadata": {},
   "outputs": [],
   "source": []
  }
 ],
 "metadata": {
  "kernelspec": {
   "display_name": "Python 3",
   "language": "python",
   "name": "python3"
  },
  "language_info": {
   "codemirror_mode": {
    "name": "ipython",
    "version": 3
   },
   "file_extension": ".py",
   "mimetype": "text/x-python",
   "name": "python",
   "nbconvert_exporter": "python",
   "pygments_lexer": "ipython3",
   "version": "3.6.5"
  }
 },
 "nbformat": 4,
 "nbformat_minor": 2
}
