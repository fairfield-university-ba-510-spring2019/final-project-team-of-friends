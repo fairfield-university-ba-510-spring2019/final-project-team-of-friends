{
 "cells": [
  {
   "cell_type": "code",
   "execution_count": 1,
   "metadata": {},
   "outputs": [
    {
     "data": {
      "text/plain": [
       "'Connected: @CourseData.db'"
      ]
     },
     "execution_count": 1,
     "metadata": {},
     "output_type": "execute_result"
    }
   ],
   "source": [
    "%load_ext sql\n",
    "%sql sqlite:///CourseData.db"
   ]
  },
  {
   "cell_type": "code",
   "execution_count": 2,
   "metadata": {},
   "outputs": [],
   "source": [
    "import pandas as pd\n",
    "import sqlite3"
   ]
  },
  {
   "cell_type": "code",
   "execution_count": 3,
   "metadata": {},
   "outputs": [
    {
     "name": "stdout",
     "output_type": "stream",
     "text": [
      " * sqlite:///CourseData.db\n",
      "Done.\n",
      "Done.\n",
      "Done.\n",
      "Done.\n",
      "Done.\n"
     ]
    },
    {
     "data": {
      "text/plain": [
       "[]"
      ]
     },
     "execution_count": 3,
     "metadata": {},
     "output_type": "execute_result"
    }
   ],
   "source": [
    "%%sql \n",
    "DROP TABLE IF EXISTS CATALOGS;\n",
    "DROP TABLE IF EXISTS COURSE_MEETINGS;\n",
    "DROP TABLE IF EXISTS COURSES;\n",
    "DROP TABLE IF EXISTS FACULTY;\n",
    "DROP TABLE IF EXISTS PROGRAMS;"
   ]
  },
  {
   "cell_type": "code",
   "execution_count": 4,
   "metadata": {},
   "outputs": [
    {
     "name": "stdout",
     "output_type": "stream",
     "text": [
      " * sqlite:///CourseData.db\n",
      "Done.\n",
      "Done.\n",
      "Done.\n"
     ]
    },
    {
     "data": {
      "text/plain": [
       "[]"
      ]
     },
     "execution_count": 4,
     "metadata": {},
     "output_type": "execute_result"
    }
   ],
   "source": [
    "%%sql\n",
    "DROP TABLE IF EXISTS IMPORT_CATALOGS;\n",
    "DROP TABLE IF EXISTS IMPORT_COURSE_MEETINGS;\n",
    "DROP TABLE IF EXISTS IMPORT_COURSES;"
   ]
  },
  {
   "cell_type": "code",
   "execution_count": 5,
   "metadata": {},
   "outputs": [
    {
     "name": "stdout",
     "output_type": "stream",
     "text": [
      " * sqlite:///CourseData.db\n",
      "Done.\n"
     ]
    },
    {
     "data": {
      "text/plain": [
       "[]"
      ]
     },
     "execution_count": 5,
     "metadata": {},
     "output_type": "execute_result"
    }
   ],
   "source": [
    "%%sql \n",
    "CREATE TABLE PROGRAMS (\n",
    "    PID INTEGER PRIMARY KEY,\n",
    "    program_name TEXT NOT NULL,\n",
    "    program_code TEXT NOT NULL\n",
    ");"
   ]
  },
  {
   "cell_type": "code",
   "execution_count": 6,
   "metadata": {},
   "outputs": [
    {
     "name": "stdout",
     "output_type": "stream",
     "text": [
      " * sqlite:///CourseData.db\n",
      "Done.\n"
     ]
    },
    {
     "data": {
      "text/plain": [
       "[]"
      ]
     },
     "execution_count": 6,
     "metadata": {},
     "output_type": "execute_result"
    }
   ],
   "source": [
    "%%sql\n",
    "CREATE TABLE FACULTY (\n",
    "    FID INTEGER PRIMARY KEY,\n",
    "    FName TEXT NOT NULL\n",
    ");"
   ]
  },
  {
   "cell_type": "code",
   "execution_count": 7,
   "metadata": {},
   "outputs": [
    {
     "name": "stdout",
     "output_type": "stream",
     "text": [
      " * sqlite:///CourseData.db\n",
      "Done.\n"
     ]
    },
    {
     "data": {
      "text/plain": [
       "[]"
      ]
     },
     "execution_count": 7,
     "metadata": {},
     "output_type": "execute_result"
    }
   ],
   "source": [
    "%%sql\n",
    "CREATE TABLE CATALOGS (\n",
    "    CatID INTEGER PRIMARY KEY,\n",
    "    CourseCode TEXT,\n",
    "    title TEXT NOT NULL,\n",
    "    credits INTEGER NOT NULL,\n",
    "    prereqs TEXT,\n",
    "    coreqs TEXT,\n",
    "    fees INTEGER,\n",
    "    attributes TEXT,\n",
    "    description TEXT,\n",
    "    CatYear INTEGER NOT NULL,\n",
    "    PID INTEGER NOT NULL,\n",
    "    FOREIGN KEY (PID) REFERENCES PROGRAMS (PID)\n",
    ");"
   ]
  },
  {
   "cell_type": "code",
   "execution_count": 8,
   "metadata": {},
   "outputs": [
    {
     "name": "stdout",
     "output_type": "stream",
     "text": [
      " * sqlite:///CourseData.db\n",
      "Done.\n"
     ]
    },
    {
     "data": {
      "text/plain": [
       "[]"
      ]
     },
     "execution_count": 8,
     "metadata": {},
     "output_type": "execute_result"
    }
   ],
   "source": [
    "%%sql \n",
    "CREATE TABLE COURSES (\n",
    "    CID INTEGER PRIMARY KEY,\n",
    "    CRN INTEGER NOT NULL,\n",
    "    term TEXT NOT NULL,\n",
    "    title TEXT,\n",
    "    section INTEGER NOT NULL,\n",
    "    cap INTEGER,\n",
    "    act INTEGER,\n",
    "    rem INTEGER,\n",
    "    credits INTEGER NOT NULL,\n",
    "    FID INTEGER NOT NULL,\n",
    "    CourseCode INTEGER,\n",
    "    FOREIGN KEY (FID) REFERENCES FACULTY (FID)\n",
    "    FOREIGN KEY (CourseCode) REFERENCES CATALOGS (CourseCode)\n",
    ");"
   ]
  },
  {
   "cell_type": "code",
   "execution_count": 9,
   "metadata": {},
   "outputs": [
    {
     "name": "stdout",
     "output_type": "stream",
     "text": [
      " * sqlite:///CourseData.db\n",
      "Done.\n"
     ]
    },
    {
     "data": {
      "text/plain": [
       "[]"
      ]
     },
     "execution_count": 9,
     "metadata": {},
     "output_type": "execute_result"
    }
   ],
   "source": [
    "%%sql\n",
    "CREATE TABLE COURSE_MEETINGS (\n",
    "    CMID INTEGER PRIMARY KEY,\n",
    "    CRN INTEGER NOT NULL,\n",
    "    term TEXT NOT NULL,\n",
    "    location TEXT NOT NULL,\n",
    "    day TEXT NOT NULL,\n",
    "    Start TEXT NOT NULL,\n",
    "    End TEXT NOT NULL,\n",
    "    FOREIGN KEY (CRN) REFERENCES COURSES (CRN)\n",
    ");"
   ]
  },
  {
   "cell_type": "code",
   "execution_count": 10,
   "metadata": {},
   "outputs": [],
   "source": [
    "Cat2017 = pd.read_csv('SourceData/Catalogs/CourseCatalog2017_2018.csv')\n",
    "Cat2017['CatYear'] = '2017'\n",
    "Cat2018 = pd.read_csv('SourceData/Catalogs/CourseCatalog2018_2019.csv')\n",
    "Cat2018['CatYear'] = '2018'\n",
    "Cat = pd.concat([Cat2017, Cat2018])"
   ]
  },
  {
   "cell_type": "code",
   "execution_count": 11,
   "metadata": {},
   "outputs": [
    {
     "data": {
      "text/plain": [
       "(4440, 11)"
      ]
     },
     "execution_count": 11,
     "metadata": {},
     "output_type": "execute_result"
    }
   ],
   "source": [
    "conn = sqlite3.connect('CourseData.db')\n",
    "Cat.to_sql('IMPORT_CATALOGS', conn, if_exists='append', index=False)\n",
    "Cat.shape"
   ]
  },
  {
   "cell_type": "code",
   "execution_count": 12,
   "metadata": {},
   "outputs": [],
   "source": [
    "CMFall2014 = pd.read_csv('SourceData/Fall2014/course_meetings.csv')\n",
    "CMFall2015 = pd.read_csv('SourceData/Fall2015/course_meetings.csv')\n",
    "CMFall2016 = pd.read_csv('SourceData/Fall2016/course_meetings.csv')\n",
    "CMFall2017 = pd.read_csv('SourceData/Fall2017/course_meetings.csv')\n",
    "CMFall2018 = pd.read_csv('SourceData/Fall2018/course_meetings.csv')\n",
    "CMFall = pd.concat([CMFall2014, CMFall2015, CMFall2016, CMFall2017, CMFall2018])"
   ]
  },
  {
   "cell_type": "code",
   "execution_count": 13,
   "metadata": {},
   "outputs": [],
   "source": [
    "CMSpring2015 = pd.read_csv('SourceData/Spring2015/course_meetings.csv')\n",
    "CMSpring2016 = pd.read_csv('SourceData/Spring2016/course_meetings.csv')\n",
    "CMSpring2017 = pd.read_csv('SourceData/Spring2017/course_meetings.csv')\n",
    "CMSpring2018 = pd.read_csv('SourceData/Spring2018/course_meetings.csv')\n",
    "CMSpring2019 = pd.read_csv('SourceData/Spring2019/course_meetings.csv')\n",
    "CMSpringBreak2017 = pd.read_csv('SourceData/SpringBreak2017/course_meetings.csv')\n",
    "CMSpring = pd.concat([CMSpring2015, CMSpring2016, CMSpring2017, CMSpring2018, CMSpring2019, CMSpringBreak2017])"
   ]
  },
  {
   "cell_type": "code",
   "execution_count": 14,
   "metadata": {},
   "outputs": [],
   "source": [
    "CMSummer2015 = pd.read_csv('SourceData/Summer2015/course_meetings.csv')\n",
    "CMSummer2016 = pd.read_csv('SourceData/Summer2016/course_meetings.csv')\n",
    "CMSummer2017 = pd.read_csv('SourceData/Summer2017/course_meetings.csv')\n",
    "CMSummer2018 = pd.read_csv('SourceData/Summer2018/course_meetings.csv')\n",
    "CMSummer = pd.concat([CMSummer2015, CMSummer2016, CMSummer2017, CMSummer2018])"
   ]
  },
  {
   "cell_type": "code",
   "execution_count": 15,
   "metadata": {},
   "outputs": [],
   "source": [
    "CMWinter2015 = pd.read_csv('SourceData/Winter2015/course_meetings.csv')\n",
    "CMWinter2016 = pd.read_csv('SourceData/Winter2016/course_meetings.csv')\n",
    "CMWinter2017 = pd.read_csv('SourceData/Winter2017/course_meetings.csv')\n",
    "CMWinter2018 = pd.read_csv('SourceData/Winter2018/course_meetings.csv')\n",
    "CMWinter = pd.concat([CMWinter2015, CMWinter2016, CMWinter2017, CMWinter2018])"
   ]
  },
  {
   "cell_type": "code",
   "execution_count": 16,
   "metadata": {},
   "outputs": [
    {
     "data": {
      "text/plain": [
       "(317321, 6)"
      ]
     },
     "execution_count": 16,
     "metadata": {},
     "output_type": "execute_result"
    }
   ],
   "source": [
    "CM = pd.concat([CMFall, CMSpring, CMSummer, CMWinter])\n",
    "CM.to_sql('IMPORT_COURSE_MEETINGS', conn, if_exists='append', index=False)\n",
    "CM.shape"
   ]
  },
  {
   "cell_type": "code",
   "execution_count": 17,
   "metadata": {},
   "outputs": [],
   "source": [
    "CFall2014 = pd.read_csv('SourceData/Fall2014/courses.csv')\n",
    "CFall2015 = pd.read_csv('SourceData/Fall2015/courses.csv')\n",
    "CFall2016 = pd.read_csv('SourceData/Fall2016/courses.csv')\n",
    "CFall2017 = pd.read_csv('SourceData/Fall2017/courses.csv')\n",
    "CFall2018 = pd.read_csv('SourceData/Fall2018/courses.csv')\n",
    "CFall = pd.concat([CFall2014, CFall2015, CFall2016, CFall2017, CFall2018])"
   ]
  },
  {
   "cell_type": "code",
   "execution_count": 18,
   "metadata": {},
   "outputs": [],
   "source": [
    "CSpring2015 = pd.read_csv('SourceData/Spring2015/courses.csv')\n",
    "CSpring2016 = pd.read_csv('SourceData/Spring2016/courses.csv')\n",
    "CSpring2017 = pd.read_csv('SourceData/Spring2017/courses.csv')\n",
    "CSpring2018 = pd.read_csv('SourceData/Spring2018/courses.csv')\n",
    "CSpring2019 = pd.read_csv('SourceData/Spring2019/courses.csv')\n",
    "CSpringBreak2017 = pd.read_csv('SourceData/SpringBreak2017/courses.csv')\n",
    "CSpring = pd.concat([CSpring2015, CSpring2016, CSpring2017, CSpring2018, CSpring2019, CSpringBreak2017])"
   ]
  },
  {
   "cell_type": "code",
   "execution_count": 19,
   "metadata": {},
   "outputs": [],
   "source": [
    "CSummer2015 = pd.read_csv('SourceData/Summer2015/courses.csv')\n",
    "CSummer2016 = pd.read_csv('SourceData/Summer2016/courses.csv')\n",
    "CSummer2017 = pd.read_csv('SourceData/Summer2017/courses.csv')\n",
    "CSummer2018 = pd.read_csv('SourceData/Summer2018/courses.csv')\n",
    "CSummer = pd.concat([CSummer2015, CSummer2016, CSummer2017, CSummer2018])"
   ]
  },
  {
   "cell_type": "code",
   "execution_count": 20,
   "metadata": {},
   "outputs": [],
   "source": [
    "CWinter2015 = pd.read_csv('SourceData/Winter2015/courses.csv')\n",
    "CWinter2016 = pd.read_csv('SourceData/Winter2016/courses.csv')\n",
    "CWinter2017 = pd.read_csv('SourceData/Winter2017/courses.csv')\n",
    "CWinter2018 = pd.read_csv('SourceData/Winter2018/courses.csv')\n",
    "CWinter = pd.concat([CWinter2015, CWinter2016, CWinter2017, CWinter2018])"
   ]
  },
  {
   "cell_type": "code",
   "execution_count": 21,
   "metadata": {},
   "outputs": [
    {
     "data": {
      "text/plain": [
       "(15937, 12)"
      ]
     },
     "execution_count": 21,
     "metadata": {},
     "output_type": "execute_result"
    }
   ],
   "source": [
    "C = pd.concat([CFall, CSpring, CSummer, CWinter])\n",
    "C.to_sql('IMPORT_COURSES', conn, if_exists='append', index=False)\n",
    "C.shape"
   ]
  },
  {
   "cell_type": "code",
   "execution_count": 22,
   "metadata": {},
   "outputs": [
    {
     "name": "stdout",
     "output_type": "stream",
     "text": [
      " * sqlite:///CourseData.db\n",
      "83 rows affected.\n"
     ]
    },
    {
     "data": {
      "text/plain": [
       "[]"
      ]
     },
     "execution_count": 22,
     "metadata": {},
     "output_type": "execute_result"
    }
   ],
   "source": [
    "%%sql \n",
    "INSERT INTO PROGRAMS (program_code, program_name)\n",
    "SELECT DISTINCT program_code, program_name\n",
    "FROM IMPORT_CATALOGS;"
   ]
  },
  {
   "cell_type": "code",
   "execution_count": 23,
   "metadata": {},
   "outputs": [
    {
     "name": "stdout",
     "output_type": "stream",
     "text": [
      " * sqlite:///CourseData.db\n",
      "1104 rows affected.\n"
     ]
    },
    {
     "data": {
      "text/plain": [
       "[]"
      ]
     },
     "execution_count": 23,
     "metadata": {},
     "output_type": "execute_result"
    }
   ],
   "source": [
    "%%sql\n",
    "INSERT INTO FACULTY (FName)\n",
    "SELECT DISTINCT primary_instructor\n",
    "FROM IMPORT_COURSES;"
   ]
  },
  {
   "cell_type": "code",
   "execution_count": 24,
   "metadata": {},
   "outputs": [
    {
     "name": "stdout",
     "output_type": "stream",
     "text": [
      " * sqlite:///CourseData.db\n",
      "4440 rows affected.\n"
     ]
    },
    {
     "data": {
      "text/plain": [
       "[]"
      ]
     },
     "execution_count": 24,
     "metadata": {},
     "output_type": "execute_result"
    }
   ],
   "source": [
    "%%sql\n",
    "INSERT INTO CATALOGS (CourseCode, title, credits, prereqs, coreqs, fees, attributes, description, CatYear, PID)\n",
    "SELECT DISTINCT catalog_id, course_title, credits, prereqs, coreqs, fees, attributes, description, CatYear, PID\n",
    "FROM IMPORT_CATALOGS\n",
    "    JOIN PROGRAMS USING (program_code);"
   ]
  },
  {
   "cell_type": "code",
   "execution_count": 25,
   "metadata": {},
   "outputs": [
    {
     "name": "stdout",
     "output_type": "stream",
     "text": [
      " * sqlite:///CourseData.db\n",
      "15243 rows affected.\n"
     ]
    },
    {
     "data": {
      "text/plain": [
       "[]"
      ]
     },
     "execution_count": 25,
     "metadata": {},
     "output_type": "execute_result"
    }
   ],
   "source": [
    "%%sql\n",
    "INSERT INTO COURSES (term, CRN, title, section, cap, act, rem, credits, FID, CourseCode)\n",
    "SELECT DISTINCT term, crn, IMPORT_COURSES.title, section, cap, act, rem, IMPORT_COURSES.credits, FID, CourseCode\n",
    "FROM IMPORT_COURSES\n",
    "    JOIN FACULTY ON (IMPORT_COURSES.primary_instructor=FACULTY.FName)\n",
    "    JOIN CATALOGS ON (IMPORT_COURSES.catalog_id=CATALOGS.CourseCode);"
   ]
  },
  {
   "cell_type": "code",
   "execution_count": 26,
   "metadata": {},
   "outputs": [
    {
     "name": "stdout",
     "output_type": "stream",
     "text": [
      " * sqlite:///CourseData.db\n",
      "304902 rows affected.\n"
     ]
    },
    {
     "data": {
      "text/plain": [
       "[]"
      ]
     },
     "execution_count": 26,
     "metadata": {},
     "output_type": "execute_result"
    }
   ],
   "source": [
    "%%sql \n",
    "INSERT INTO COURSE_MEETINGS (CRN, term, location, day, Start, End)\n",
    "SELECT DISTINCT COURSES.crn, IMPORT_COURSE_MEETINGS.term, location, day, start, end\n",
    "FROM IMPORT_COURSE_MEETINGS\n",
    "    JOIN COURSES ON (IMPORT_COURSE_MEETINGS.crn=COURSES.CRN);"
   ]
  },
  {
   "cell_type": "code",
   "execution_count": 27,
   "metadata": {},
   "outputs": [
    {
     "name": "stdout",
     "output_type": "stream",
     "text": [
      " * sqlite:///CourseData.db\n",
      "Done.\n",
      "Done.\n",
      "Done.\n"
     ]
    },
    {
     "data": {
      "text/plain": [
       "[]"
      ]
     },
     "execution_count": 27,
     "metadata": {},
     "output_type": "execute_result"
    }
   ],
   "source": [
    "%%sql\n",
    "DROP TABLE IF EXISTS IMPORT_CATALOGS;\n",
    "DROP TABLE IF EXISTS IMPORT_COURSE_MEETINGS;\n",
    "DROP TABLE IF EXISTS IMPORT_COURSES;"
   ]
  },
  {
   "cell_type": "code",
   "execution_count": 28,
   "metadata": {},
   "outputs": [
    {
     "name": "stdout",
     "output_type": "stream",
     "text": [
      " * sqlite:///CourseData.db\n",
      "Done.\n"
     ]
    },
    {
     "data": {
      "text/plain": [
       "[]"
      ]
     },
     "execution_count": 28,
     "metadata": {},
     "output_type": "execute_result"
    }
   ],
   "source": [
    "%%sql\n",
    "vacuum;"
   ]
  },
  {
   "cell_type": "code",
   "execution_count": null,
   "metadata": {},
   "outputs": [],
   "source": []
  }
 ],
 "metadata": {
  "kernelspec": {
   "display_name": "Python 3",
   "language": "python",
   "name": "python3"
  },
  "language_info": {
   "codemirror_mode": {
    "name": "ipython",
    "version": 3
   },
   "file_extension": ".py",
   "mimetype": "text/x-python",
   "name": "python",
   "nbconvert_exporter": "python",
   "pygments_lexer": "ipython3",
   "version": "3.6.5"
  }
 },
 "nbformat": 4,
 "nbformat_minor": 2
}
