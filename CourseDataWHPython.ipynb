{
 "cells": [
  {
   "cell_type": "code",
   "execution_count": 1,
   "metadata": {},
   "outputs": [
    {
     "data": {
      "text/plain": [
       "'Connected: @CourseDataWarehouse2.db'"
      ]
     },
     "execution_count": 1,
     "metadata": {},
     "output_type": "execute_result"
    }
   ],
   "source": [
    "%load_ext sql\n",
    "%sql sqlite:///CourseDataWarehouse2.db"
   ]
  },
  {
   "cell_type": "code",
   "execution_count": 2,
   "metadata": {},
   "outputs": [],
   "source": [
    "import pandas as pd\n",
    "import sqlite3\n",
    "from sqlalchemy import create_engine\n",
    "conn = sqlite3.connect('CourseData.db')\n",
    "connWH = sqlite3.connect('CourseDataWarehouse2.db')"
   ]
  },
  {
   "cell_type": "code",
   "execution_count": 12,
   "metadata": {},
   "outputs": [
    {
     "name": "stdout",
     "output_type": "stream",
     "text": [
      " * sqlite:///CourseDataWarehouse2.db\n",
      "Done.\n",
      "Done.\n",
      "Done.\n",
      "Done.\n",
      "Done.\n",
      "Done.\n"
     ]
    },
    {
     "data": {
      "text/plain": [
       "[]"
      ]
     },
     "execution_count": 12,
     "metadata": {},
     "output_type": "execute_result"
    }
   ],
   "source": [
    "%%sql \n",
    "DROP TABLE IF EXISTS PROGRAMS_WH;\n",
    "DROP TABLE IF EXISTS LOCATIONS_WH;\n",
    "DROP TABLE IF EXISTS TIMES_WH;\n",
    "DROP TABLE IF EXISTS FACULTY_WH;\n",
    "DROP TABLE IF EXISTS CATALOGS_WH;\n",
    "DROP TABLE IF EXISTS COURSES_WH;"
   ]
  },
  {
   "cell_type": "code",
   "execution_count": 4,
   "metadata": {},
   "outputs": [
    {
     "name": "stdout",
     "output_type": "stream",
     "text": [
      " * sqlite:///CourseDataWarehouse2.db\n",
      "Done.\n"
     ]
    },
    {
     "data": {
      "text/plain": [
       "[]"
      ]
     },
     "execution_count": 4,
     "metadata": {},
     "output_type": "execute_result"
    }
   ],
   "source": [
    "%%sql\n",
    "CREATE TABLE PROGRAMS_WH (\n",
    "    PID INTEGER NOT NULL PRIMARY KEY,\n",
    "    program_name TEXT NOT NULL,\n",
    "    program_code VARCHAR NOT NULL\n",
    ");"
   ]
  },
  {
   "cell_type": "code",
   "execution_count": 5,
   "metadata": {},
   "outputs": [
    {
     "name": "stdout",
     "output_type": "stream",
     "text": [
      " * sqlite:///CourseDataWarehouse2.db\n",
      "Done.\n"
     ]
    },
    {
     "data": {
      "text/plain": [
       "[]"
      ]
     },
     "execution_count": 5,
     "metadata": {},
     "output_type": "execute_result"
    }
   ],
   "source": [
    "%%sql\n",
    "CREATE TABLE LOCATIONS_WH (\n",
    "    LID INTEGER PRIMARY KEY,\n",
    "    LName VARCHAR\n",
    ");"
   ]
  },
  {
   "cell_type": "code",
   "execution_count": 6,
   "metadata": {},
   "outputs": [
    {
     "name": "stdout",
     "output_type": "stream",
     "text": [
      " * sqlite:///CourseDataWarehouse2.db\n",
      "Done.\n"
     ]
    },
    {
     "data": {
      "text/plain": [
       "[]"
      ]
     },
     "execution_count": 6,
     "metadata": {},
     "output_type": "execute_result"
    }
   ],
   "source": [
    "%%sql \n",
    "CREATE TABLE TIMES_WH (\n",
    "    TID INTEGER NOT NULL PRIMARY KEY,\n",
    "    Day TEXT NOT NULL,\n",
    "    Start TEXT NOT NULL,\n",
    "    End TEXT NOT NULL,   \n",
    "    Term TEXT NOT NULL\n",
    ");"
   ]
  },
  {
   "cell_type": "code",
   "execution_count": 7,
   "metadata": {},
   "outputs": [
    {
     "name": "stdout",
     "output_type": "stream",
     "text": [
      " * sqlite:///CourseDataWarehouse2.db\n",
      "Done.\n"
     ]
    },
    {
     "data": {
      "text/plain": [
       "[]"
      ]
     },
     "execution_count": 7,
     "metadata": {},
     "output_type": "execute_result"
    }
   ],
   "source": [
    "%%sql \n",
    "CREATE TABLE FACULTY_WH (\n",
    "    FID  INTEGER NOT NULL PRIMARY KEY,\n",
    "    FName TEXT NOT NULL\n",
    ");"
   ]
  },
  {
   "cell_type": "code",
   "execution_count": 8,
   "metadata": {},
   "outputs": [
    {
     "name": "stdout",
     "output_type": "stream",
     "text": [
      " * sqlite:///CourseDataWarehouse2.db\n",
      "Done.\n"
     ]
    },
    {
     "data": {
      "text/plain": [
       "[]"
      ]
     },
     "execution_count": 8,
     "metadata": {},
     "output_type": "execute_result"
    }
   ],
   "source": [
    "%%sql\n",
    "CREATE TABLE CATALOGS_WH (\n",
    "    CatID INTEGER PRIMARY KEY,\n",
    "    CourseCode VARCHAR NOT NULL,\n",
    "    Credits TEXT NOT NULL,\n",
    "    Prereqs TEXT,\n",
    "    Coreqs TEXT,\n",
    "    Fees INTEGER,\n",
    "    Description TEXT,\n",
    "    Attributes TEXT\n",
    ");"
   ]
  },
  {
   "cell_type": "code",
   "execution_count": 9,
   "metadata": {},
   "outputs": [
    {
     "name": "stdout",
     "output_type": "stream",
     "text": [
      " * sqlite:///CourseDataWarehouse2.db\n",
      "Done.\n"
     ]
    },
    {
     "data": {
      "text/plain": [
       "[]"
      ]
     },
     "execution_count": 9,
     "metadata": {},
     "output_type": "execute_result"
    }
   ],
   "source": [
    "%%sql\n",
    "CREATE TABLE COURSES_WH (\n",
    "    CID INTEGER PRIMARY KEY,\n",
    "    CRN INTEGER NOT NULL,\n",
    "    Title TEXT NOT NULL,\n",
    "    Section VARCHAR NOT NULL,\n",
    "    Act INTEGER,\n",
    "    Cap INTEGER,\n",
    "    Rem INTEGER, \n",
    "    AvgCap INTEGER,\n",
    "    NumClasses INTEGER,\n",
    "    PID INTEGER NOT NULL,\n",
    "    LID INTEGER NOT NULL,\n",
    "    TID INTEGER NOT NULL,\n",
    "    FID INTEGER NOT NULL,\n",
    "    CatID INTEGER NOT NULL,\n",
    "    FOREIGN KEY (PID) REFERENCES PROGRAMS (PID),\n",
    "    FOREIGN KEY (LID) REFERENCES LOCATIONS (LID),\n",
    "    FOREIGN KEY (TID) REFERENCES TIMES (TID),\n",
    "    FOREIGN KEY (FID) REFERENCES FACULTY (FID),\n",
    "    FOREIGN KEY (CatID) REFERENCES CATALOGS (CatID)\n",
    ");"
   ]
  },
  {
   "cell_type": "code",
   "execution_count": 10,
   "metadata": {},
   "outputs": [
    {
     "data": {
      "text/html": [
       "<div>\n",
       "<style scoped>\n",
       "    .dataframe tbody tr th:only-of-type {\n",
       "        vertical-align: middle;\n",
       "    }\n",
       "\n",
       "    .dataframe tbody tr th {\n",
       "        vertical-align: top;\n",
       "    }\n",
       "\n",
       "    .dataframe thead th {\n",
       "        text-align: right;\n",
       "    }\n",
       "</style>\n",
       "<table border=\"1\" class=\"dataframe\">\n",
       "  <thead>\n",
       "    <tr style=\"text-align: right;\">\n",
       "      <th></th>\n",
       "      <th>PID</th>\n",
       "      <th>program_name</th>\n",
       "      <th>program_code</th>\n",
       "    </tr>\n",
       "  </thead>\n",
       "  <tbody>\n",
       "    <tr>\n",
       "      <th>0</th>\n",
       "      <td>1</td>\n",
       "      <td>Asian Studies</td>\n",
       "      <td>AN</td>\n",
       "    </tr>\n",
       "    <tr>\n",
       "      <th>1</th>\n",
       "      <td>2</td>\n",
       "      <td>Business</td>\n",
       "      <td>BU</td>\n",
       "    </tr>\n",
       "    <tr>\n",
       "      <th>2</th>\n",
       "      <td>3</td>\n",
       "      <td>Black Studies</td>\n",
       "      <td>BL</td>\n",
       "    </tr>\n",
       "    <tr>\n",
       "      <th>3</th>\n",
       "      <td>4</td>\n",
       "      <td>Bioengineering</td>\n",
       "      <td>BEN</td>\n",
       "    </tr>\n",
       "    <tr>\n",
       "      <th>4</th>\n",
       "      <td>5</td>\n",
       "      <td>Arabic</td>\n",
       "      <td>AR</td>\n",
       "    </tr>\n",
       "  </tbody>\n",
       "</table>\n",
       "</div>"
      ],
      "text/plain": [
       "   PID    program_name program_code\n",
       "0    1   Asian Studies           AN\n",
       "1    2        Business           BU\n",
       "2    3   Black Studies           BL\n",
       "3    4  Bioengineering          BEN\n",
       "4    5          Arabic           AR"
      ]
     },
     "execution_count": 10,
     "metadata": {},
     "output_type": "execute_result"
    }
   ],
   "source": [
    "programs = 'SELECT * FROM PROGRAMS'\n",
    "df_p = pd.read_sql(programs, conn)\n",
    "df_p.head()"
   ]
  },
  {
   "cell_type": "code",
   "execution_count": 13,
   "metadata": {},
   "outputs": [],
   "source": [
    "df_p.to_sql('PROGRAMS_WH', connWH)"
   ]
  },
  {
   "cell_type": "code",
   "execution_count": 14,
   "metadata": {},
   "outputs": [
    {
     "data": {
      "text/html": [
       "<div>\n",
       "<style scoped>\n",
       "    .dataframe tbody tr th:only-of-type {\n",
       "        vertical-align: middle;\n",
       "    }\n",
       "\n",
       "    .dataframe tbody tr th {\n",
       "        vertical-align: top;\n",
       "    }\n",
       "\n",
       "    .dataframe thead th {\n",
       "        text-align: right;\n",
       "    }\n",
       "</style>\n",
       "<table border=\"1\" class=\"dataframe\">\n",
       "  <thead>\n",
       "    <tr style=\"text-align: right;\">\n",
       "      <th></th>\n",
       "      <th>location</th>\n",
       "    </tr>\n",
       "  </thead>\n",
       "  <tbody>\n",
       "    <tr>\n",
       "      <th>0</th>\n",
       "      <td>DSB 105</td>\n",
       "    </tr>\n",
       "    <tr>\n",
       "      <th>1</th>\n",
       "      <td>DSB 111</td>\n",
       "    </tr>\n",
       "    <tr>\n",
       "      <th>2</th>\n",
       "      <td>DSB 110A</td>\n",
       "    </tr>\n",
       "    <tr>\n",
       "      <th>3</th>\n",
       "      <td>DSB 108</td>\n",
       "    </tr>\n",
       "    <tr>\n",
       "      <th>4</th>\n",
       "      <td>DSB 110B</td>\n",
       "    </tr>\n",
       "  </tbody>\n",
       "</table>\n",
       "</div>"
      ],
      "text/plain": [
       "   location\n",
       "0   DSB 105\n",
       "1   DSB 111\n",
       "2  DSB 110A\n",
       "3   DSB 108\n",
       "4  DSB 110B"
      ]
     },
     "execution_count": 14,
     "metadata": {},
     "output_type": "execute_result"
    }
   ],
   "source": [
    "locations = 'SELECT DISTINCT location FROM COURSE_MEETINGS'\n",
    "df_l = pd.read_sql(locations, conn)\n",
    "df_l.head()"
   ]
  },
  {
   "cell_type": "code",
   "execution_count": 15,
   "metadata": {},
   "outputs": [],
   "source": [
    "df_l.to_sql('LOCATIONS_WH', connWH, index_label='LID')"
   ]
  },
  {
   "cell_type": "code",
   "execution_count": 16,
   "metadata": {},
   "outputs": [
    {
     "name": "stdout",
     "output_type": "stream",
     "text": [
      " * sqlite:///CourseDataWarehouse2.db\n",
      "Done.\n"
     ]
    },
    {
     "data": {
      "text/html": [
       "<table>\n",
       "    <tr>\n",
       "        <th>LID</th>\n",
       "        <th>location</th>\n",
       "    </tr>\n",
       "    <tr>\n",
       "        <td>0</td>\n",
       "        <td>DSB 105</td>\n",
       "    </tr>\n",
       "    <tr>\n",
       "        <td>1</td>\n",
       "        <td>DSB 111</td>\n",
       "    </tr>\n",
       "    <tr>\n",
       "        <td>2</td>\n",
       "        <td>DSB 110A</td>\n",
       "    </tr>\n",
       "    <tr>\n",
       "        <td>3</td>\n",
       "        <td>DSB 108</td>\n",
       "    </tr>\n",
       "    <tr>\n",
       "        <td>4</td>\n",
       "        <td>DSB 110B</td>\n",
       "    </tr>\n",
       "    <tr>\n",
       "        <td>5</td>\n",
       "        <td>DSB 104</td>\n",
       "    </tr>\n",
       "    <tr>\n",
       "        <td>6</td>\n",
       "        <td>DSB 112</td>\n",
       "    </tr>\n",
       "    <tr>\n",
       "        <td>7</td>\n",
       "        <td>DSB 109</td>\n",
       "    </tr>\n",
       "    <tr>\n",
       "        <td>8</td>\n",
       "        <td>DSB 115</td>\n",
       "    </tr>\n",
       "    <tr>\n",
       "        <td>9</td>\n",
       "        <td>DSB 2109A</td>\n",
       "    </tr>\n",
       "</table>"
      ],
      "text/plain": [
       "[(0, 'DSB 105'),\n",
       " (1, 'DSB 111'),\n",
       " (2, 'DSB 110A'),\n",
       " (3, 'DSB 108'),\n",
       " (4, 'DSB 110B'),\n",
       " (5, 'DSB 104'),\n",
       " (6, 'DSB 112'),\n",
       " (7, 'DSB 109'),\n",
       " (8, 'DSB 115'),\n",
       " (9, 'DSB 2109A')]"
      ]
     },
     "execution_count": 16,
     "metadata": {},
     "output_type": "execute_result"
    }
   ],
   "source": [
    "%%sql\n",
    "SELECT *\n",
    "FROM LOCATIONS_WH\n",
    "LIMIT 10;"
   ]
  },
  {
   "cell_type": "code",
   "execution_count": 17,
   "metadata": {},
   "outputs": [
    {
     "data": {
      "text/html": [
       "<div>\n",
       "<style scoped>\n",
       "    .dataframe tbody tr th:only-of-type {\n",
       "        vertical-align: middle;\n",
       "    }\n",
       "\n",
       "    .dataframe tbody tr th {\n",
       "        vertical-align: top;\n",
       "    }\n",
       "\n",
       "    .dataframe thead th {\n",
       "        text-align: right;\n",
       "    }\n",
       "</style>\n",
       "<table border=\"1\" class=\"dataframe\">\n",
       "  <thead>\n",
       "    <tr style=\"text-align: right;\">\n",
       "      <th></th>\n",
       "      <th>day</th>\n",
       "      <th>Start</th>\n",
       "      <th>End</th>\n",
       "      <th>term</th>\n",
       "    </tr>\n",
       "  </thead>\n",
       "  <tbody>\n",
       "    <tr>\n",
       "      <th>0</th>\n",
       "      <td>T</td>\n",
       "      <td>2014-09-02T08:00:00</td>\n",
       "      <td>2014-09-02T09:15:00</td>\n",
       "      <td>Fall2014</td>\n",
       "    </tr>\n",
       "    <tr>\n",
       "      <th>1</th>\n",
       "      <td>F</td>\n",
       "      <td>2014-09-05T08:00:00</td>\n",
       "      <td>2014-09-05T09:15:00</td>\n",
       "      <td>Fall2014</td>\n",
       "    </tr>\n",
       "    <tr>\n",
       "      <th>2</th>\n",
       "      <td>T</td>\n",
       "      <td>2014-09-09T08:00:00</td>\n",
       "      <td>2014-09-09T09:15:00</td>\n",
       "      <td>Fall2014</td>\n",
       "    </tr>\n",
       "    <tr>\n",
       "      <th>3</th>\n",
       "      <td>F</td>\n",
       "      <td>2014-09-12T08:00:00</td>\n",
       "      <td>2014-09-12T09:15:00</td>\n",
       "      <td>Fall2014</td>\n",
       "    </tr>\n",
       "    <tr>\n",
       "      <th>4</th>\n",
       "      <td>T</td>\n",
       "      <td>2014-09-16T08:00:00</td>\n",
       "      <td>2014-09-16T09:15:00</td>\n",
       "      <td>Fall2014</td>\n",
       "    </tr>\n",
       "  </tbody>\n",
       "</table>\n",
       "</div>"
      ],
      "text/plain": [
       "  day                Start                  End      term\n",
       "0   T  2014-09-02T08:00:00  2014-09-02T09:15:00  Fall2014\n",
       "1   F  2014-09-05T08:00:00  2014-09-05T09:15:00  Fall2014\n",
       "2   T  2014-09-09T08:00:00  2014-09-09T09:15:00  Fall2014\n",
       "3   F  2014-09-12T08:00:00  2014-09-12T09:15:00  Fall2014\n",
       "4   T  2014-09-16T08:00:00  2014-09-16T09:15:00  Fall2014"
      ]
     },
     "execution_count": 17,
     "metadata": {},
     "output_type": "execute_result"
    }
   ],
   "source": [
    "times = 'SELECT DISTINCT day, Start, End, term FROM COURSE_MEETINGS'\n",
    "df_t = pd.read_sql(times, conn)\n",
    "df_t.head()"
   ]
  },
  {
   "cell_type": "code",
   "execution_count": 18,
   "metadata": {},
   "outputs": [],
   "source": [
    "df_t.to_sql('TIMES_WH', connWH, index_label='TID')"
   ]
  },
  {
   "cell_type": "code",
   "execution_count": 19,
   "metadata": {},
   "outputs": [
    {
     "data": {
      "text/html": [
       "<div>\n",
       "<style scoped>\n",
       "    .dataframe tbody tr th:only-of-type {\n",
       "        vertical-align: middle;\n",
       "    }\n",
       "\n",
       "    .dataframe tbody tr th {\n",
       "        vertical-align: top;\n",
       "    }\n",
       "\n",
       "    .dataframe thead th {\n",
       "        text-align: right;\n",
       "    }\n",
       "</style>\n",
       "<table border=\"1\" class=\"dataframe\">\n",
       "  <thead>\n",
       "    <tr style=\"text-align: right;\">\n",
       "      <th></th>\n",
       "      <th>FName</th>\n",
       "    </tr>\n",
       "  </thead>\n",
       "  <tbody>\n",
       "    <tr>\n",
       "      <th>0</th>\n",
       "      <td>Michael P.  Coyne</td>\n",
       "    </tr>\n",
       "    <tr>\n",
       "      <th>1</th>\n",
       "      <td>Rebecca I.  Bloch</td>\n",
       "    </tr>\n",
       "    <tr>\n",
       "      <th>2</th>\n",
       "      <td>Paul   Caster</td>\n",
       "    </tr>\n",
       "    <tr>\n",
       "      <th>3</th>\n",
       "      <td>Jo Ann   Drusbosky</td>\n",
       "    </tr>\n",
       "    <tr>\n",
       "      <th>4</th>\n",
       "      <td>Arleen N.  Kardos</td>\n",
       "    </tr>\n",
       "  </tbody>\n",
       "</table>\n",
       "</div>"
      ],
      "text/plain": [
       "                FName\n",
       "0   Michael P.  Coyne\n",
       "1   Rebecca I.  Bloch\n",
       "2       Paul   Caster\n",
       "3  Jo Ann   Drusbosky\n",
       "4   Arleen N.  Kardos"
      ]
     },
     "execution_count": 19,
     "metadata": {},
     "output_type": "execute_result"
    }
   ],
   "source": [
    "faculty = 'SELECT DISTINCT FName FROM FACULTY'\n",
    "df_f = pd.read_sql(faculty, conn)\n",
    "df_f.head()"
   ]
  },
  {
   "cell_type": "code",
   "execution_count": 20,
   "metadata": {},
   "outputs": [],
   "source": [
    "df_t.to_sql('FACULTY_WH', connWH, index_label='FID')"
   ]
  },
  {
   "cell_type": "code",
   "execution_count": 21,
   "metadata": {},
   "outputs": [
    {
     "data": {
      "text/html": [
       "<div>\n",
       "<style scoped>\n",
       "    .dataframe tbody tr th:only-of-type {\n",
       "        vertical-align: middle;\n",
       "    }\n",
       "\n",
       "    .dataframe tbody tr th {\n",
       "        vertical-align: top;\n",
       "    }\n",
       "\n",
       "    .dataframe thead th {\n",
       "        text-align: right;\n",
       "    }\n",
       "</style>\n",
       "<table border=\"1\" class=\"dataframe\">\n",
       "  <thead>\n",
       "    <tr style=\"text-align: right;\">\n",
       "      <th></th>\n",
       "      <th>CourseCode</th>\n",
       "      <th>credits</th>\n",
       "      <th>prereqs</th>\n",
       "      <th>coreqs</th>\n",
       "      <th>fees</th>\n",
       "      <th>description</th>\n",
       "      <th>attributes</th>\n",
       "    </tr>\n",
       "  </thead>\n",
       "  <tbody>\n",
       "    <tr>\n",
       "      <th>0</th>\n",
       "      <td>AN 0301</td>\n",
       "      <td>1-3 Credits</td>\n",
       "      <td>None</td>\n",
       "      <td>None</td>\n",
       "      <td>None</td>\n",
       "      <td>Students undertake an individualized program o...</td>\n",
       "      <td>None</td>\n",
       "    </tr>\n",
       "    <tr>\n",
       "      <th>1</th>\n",
       "      <td>AN 0310</td>\n",
       "      <td>3 Credits</td>\n",
       "      <td>None</td>\n",
       "      <td>None</td>\n",
       "      <td>None</td>\n",
       "      <td>This seminar examines selected topics concerni...</td>\n",
       "      <td>None</td>\n",
       "    </tr>\n",
       "    <tr>\n",
       "      <th>2</th>\n",
       "      <td>BU 0211</td>\n",
       "      <td>3 Credits</td>\n",
       "      <td>Junior standing.</td>\n",
       "      <td>None</td>\n",
       "      <td>None</td>\n",
       "      <td>This course examines the broad philosophical a...</td>\n",
       "      <td>None</td>\n",
       "    </tr>\n",
       "    <tr>\n",
       "      <th>3</th>\n",
       "      <td>BU 0220</td>\n",
       "      <td>3 Credits</td>\n",
       "      <td>None</td>\n",
       "      <td>None</td>\n",
       "      <td>None</td>\n",
       "      <td>This course surveys issues arising out of fede...</td>\n",
       "      <td>EVME Environmental Studies Major Elective, EVP...</td>\n",
       "    </tr>\n",
       "    <tr>\n",
       "      <th>4</th>\n",
       "      <td>BU 0311</td>\n",
       "      <td>3 Credits</td>\n",
       "      <td>BU 0211.</td>\n",
       "      <td>None</td>\n",
       "      <td>None</td>\n",
       "      <td>This course examines the components of common ...</td>\n",
       "      <td>None</td>\n",
       "    </tr>\n",
       "  </tbody>\n",
       "</table>\n",
       "</div>"
      ],
      "text/plain": [
       "  CourseCode      credits           prereqs coreqs  fees  \\\n",
       "0    AN 0301  1-3 Credits              None   None  None   \n",
       "1    AN 0310    3 Credits              None   None  None   \n",
       "2    BU 0211    3 Credits  Junior standing.   None  None   \n",
       "3    BU 0220    3 Credits              None   None  None   \n",
       "4    BU 0311    3 Credits          BU 0211.   None  None   \n",
       "\n",
       "                                         description  \\\n",
       "0  Students undertake an individualized program o...   \n",
       "1  This seminar examines selected topics concerni...   \n",
       "2  This course examines the broad philosophical a...   \n",
       "3  This course surveys issues arising out of fede...   \n",
       "4  This course examines the components of common ...   \n",
       "\n",
       "                                          attributes  \n",
       "0                                               None  \n",
       "1                                               None  \n",
       "2                                               None  \n",
       "3  EVME Environmental Studies Major Elective, EVP...  \n",
       "4                                               None  "
      ]
     },
     "execution_count": 21,
     "metadata": {},
     "output_type": "execute_result"
    }
   ],
   "source": [
    "catalogs = 'SELECT DISTINCT CourseCode, credits, prereqs, coreqs, fees, description, attributes FROM CATALOGS'\n",
    "df_c = pd.read_sql(catalogs, conn)\n",
    "df_c.head()"
   ]
  },
  {
   "cell_type": "code",
   "execution_count": 22,
   "metadata": {},
   "outputs": [],
   "source": [
    "df_c.to_sql('CATALOGS_WH', connWH, index_label='CatID')"
   ]
  },
  {
   "cell_type": "code",
   "execution_count": 23,
   "metadata": {},
   "outputs": [
    {
     "data": {
      "text/html": [
       "<div>\n",
       "<style scoped>\n",
       "    .dataframe tbody tr th:only-of-type {\n",
       "        vertical-align: middle;\n",
       "    }\n",
       "\n",
       "    .dataframe tbody tr th {\n",
       "        vertical-align: top;\n",
       "    }\n",
       "\n",
       "    .dataframe thead th {\n",
       "        text-align: right;\n",
       "    }\n",
       "</style>\n",
       "<table border=\"1\" class=\"dataframe\">\n",
       "  <thead>\n",
       "    <tr style=\"text-align: right;\">\n",
       "      <th></th>\n",
       "      <th>CRN</th>\n",
       "      <th>section</th>\n",
       "      <th>act</th>\n",
       "      <th>cap</th>\n",
       "      <th>rem</th>\n",
       "    </tr>\n",
       "  </thead>\n",
       "  <tbody>\n",
       "    <tr>\n",
       "      <th>0</th>\n",
       "      <td>70384</td>\n",
       "      <td>C01</td>\n",
       "      <td>31</td>\n",
       "      <td>0</td>\n",
       "      <td>-31</td>\n",
       "    </tr>\n",
       "    <tr>\n",
       "      <th>1</th>\n",
       "      <td>70385</td>\n",
       "      <td>C02</td>\n",
       "      <td>31</td>\n",
       "      <td>0</td>\n",
       "      <td>-31</td>\n",
       "    </tr>\n",
       "    <tr>\n",
       "      <th>2</th>\n",
       "      <td>70382</td>\n",
       "      <td>C03</td>\n",
       "      <td>31</td>\n",
       "      <td>0</td>\n",
       "      <td>-31</td>\n",
       "    </tr>\n",
       "    <tr>\n",
       "      <th>3</th>\n",
       "      <td>70291</td>\n",
       "      <td>C04</td>\n",
       "      <td>29</td>\n",
       "      <td>0</td>\n",
       "      <td>-29</td>\n",
       "    </tr>\n",
       "    <tr>\n",
       "      <th>4</th>\n",
       "      <td>70350</td>\n",
       "      <td>C05</td>\n",
       "      <td>30</td>\n",
       "      <td>0</td>\n",
       "      <td>-30</td>\n",
       "    </tr>\n",
       "  </tbody>\n",
       "</table>\n",
       "</div>"
      ],
      "text/plain": [
       "     CRN section  act  cap  rem\n",
       "0  70384     C01   31    0  -31\n",
       "1  70385     C02   31    0  -31\n",
       "2  70382     C03   31    0  -31\n",
       "3  70291     C04   29    0  -29\n",
       "4  70350     C05   30    0  -30"
      ]
     },
     "execution_count": 23,
     "metadata": {},
     "output_type": "execute_result"
    }
   ],
   "source": [
    "courses = 'SELECT DISTINCT CRN, section, act, cap, rem FROM COURSES'\n",
    "df_co = pd.read_sql(courses, conn)\n",
    "df_co.head()"
   ]
  },
  {
   "cell_type": "code",
   "execution_count": 24,
   "metadata": {},
   "outputs": [],
   "source": [
    "df_co.to_sql('COURSES_WH', connWH, index_label='CID')"
   ]
  },
  {
   "cell_type": "code",
   "execution_count": 26,
   "metadata": {},
   "outputs": [
    {
     "name": "stdout",
     "output_type": "stream",
     "text": [
      " * sqlite:///CourseDataWarehouse2.db\n",
      "Done.\n"
     ]
    },
    {
     "data": {
      "text/html": [
       "<table>\n",
       "    <tr>\n",
       "        <th>CID</th>\n",
       "        <th>CRN</th>\n",
       "        <th>section</th>\n",
       "        <th>act</th>\n",
       "        <th>cap</th>\n",
       "        <th>rem</th>\n",
       "    </tr>\n",
       "    <tr>\n",
       "        <td>0</td>\n",
       "        <td>70384</td>\n",
       "        <td>C01</td>\n",
       "        <td>31</td>\n",
       "        <td>0</td>\n",
       "        <td>-31</td>\n",
       "    </tr>\n",
       "    <tr>\n",
       "        <td>1</td>\n",
       "        <td>70385</td>\n",
       "        <td>C02</td>\n",
       "        <td>31</td>\n",
       "        <td>0</td>\n",
       "        <td>-31</td>\n",
       "    </tr>\n",
       "    <tr>\n",
       "        <td>2</td>\n",
       "        <td>70382</td>\n",
       "        <td>C03</td>\n",
       "        <td>31</td>\n",
       "        <td>0</td>\n",
       "        <td>-31</td>\n",
       "    </tr>\n",
       "    <tr>\n",
       "        <td>3</td>\n",
       "        <td>70291</td>\n",
       "        <td>C04</td>\n",
       "        <td>29</td>\n",
       "        <td>0</td>\n",
       "        <td>-29</td>\n",
       "    </tr>\n",
       "    <tr>\n",
       "        <td>4</td>\n",
       "        <td>70350</td>\n",
       "        <td>C05</td>\n",
       "        <td>30</td>\n",
       "        <td>0</td>\n",
       "        <td>-30</td>\n",
       "    </tr>\n",
       "    <tr>\n",
       "        <td>5</td>\n",
       "        <td>70381</td>\n",
       "        <td>C06</td>\n",
       "        <td>31</td>\n",
       "        <td>0</td>\n",
       "        <td>-31</td>\n",
       "    </tr>\n",
       "    <tr>\n",
       "        <td>6</td>\n",
       "        <td>70383</td>\n",
       "        <td>G</td>\n",
       "        <td>31</td>\n",
       "        <td>30</td>\n",
       "        <td>-1</td>\n",
       "    </tr>\n",
       "    <tr>\n",
       "        <td>7</td>\n",
       "        <td>70391</td>\n",
       "        <td>H</td>\n",
       "        <td>32</td>\n",
       "        <td>30</td>\n",
       "        <td>-2</td>\n",
       "    </tr>\n",
       "    <tr>\n",
       "        <td>8</td>\n",
       "        <td>71105</td>\n",
       "        <td>I</td>\n",
       "        <td>33</td>\n",
       "        <td>30</td>\n",
       "        <td>-3</td>\n",
       "    </tr>\n",
       "    <tr>\n",
       "        <td>9</td>\n",
       "        <td>71123</td>\n",
       "        <td>J</td>\n",
       "        <td>32</td>\n",
       "        <td>30</td>\n",
       "        <td>-2</td>\n",
       "    </tr>\n",
       "</table>"
      ],
      "text/plain": [
       "[(0, 70384, 'C01', 31, 0, -31),\n",
       " (1, 70385, 'C02', 31, 0, -31),\n",
       " (2, 70382, 'C03', 31, 0, -31),\n",
       " (3, 70291, 'C04', 29, 0, -29),\n",
       " (4, 70350, 'C05', 30, 0, -30),\n",
       " (5, 70381, 'C06', 31, 0, -31),\n",
       " (6, 70383, 'G', 31, 30, -1),\n",
       " (7, 70391, 'H', 32, 30, -2),\n",
       " (8, 71105, 'I', 33, 30, -3),\n",
       " (9, 71123, 'J', 32, 30, -2)]"
      ]
     },
     "execution_count": 26,
     "metadata": {},
     "output_type": "execute_result"
    }
   ],
   "source": [
    "%%sql\n",
    "SELECT *\n",
    "FROM COURSES_WH\n",
    "LIMIT 10;"
   ]
  },
  {
   "cell_type": "code",
   "execution_count": null,
   "metadata": {},
   "outputs": [],
   "source": []
  }
 ],
 "metadata": {
  "kernelspec": {
   "display_name": "Python 3",
   "language": "python",
   "name": "python3"
  },
  "language_info": {
   "codemirror_mode": {
    "name": "ipython",
    "version": 3
   },
   "file_extension": ".py",
   "mimetype": "text/x-python",
   "name": "python",
   "nbconvert_exporter": "python",
   "pygments_lexer": "ipython3",
   "version": "3.6.5"
  }
 },
 "nbformat": 4,
 "nbformat_minor": 2
}
